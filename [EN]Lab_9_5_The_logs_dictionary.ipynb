{
 "cells": [
  {
   "cell_type": "markdown",
   "metadata": {
    "id": "oXlTilReR0Jz"
   },
   "source": [
    "# Using the logs dictionary\n",
    "\n",
    "In this reading, we will learn how to take advantage of the `logs` dictionary in Keras to define our own callbacks and check the progress of a model."
   ]
  },
  {
   "cell_type": "code",
   "execution_count": 1,
   "metadata": {
    "colab": {
     "base_uri": "https://localhost:8080/"
    },
    "id": "FEc_gPp1R0J4",
    "outputId": "aad1396a-14d5-423d-f9a2-0b2b9ad71b4d"
   },
   "outputs": [
    {
     "name": "stdout",
     "output_type": "stream",
     "text": [
      "2.7.0\n"
     ]
    }
   ],
   "source": [
    "import tensorflow as tf\n",
    "print(tf.__version__)"
   ]
  },
  {
   "cell_type": "markdown",
   "metadata": {
    "id": "ycmaPsM1R0J5"
   },
   "source": [
    "The `logs` dictionary stores the loss value, along with all of the metrics we are using at the end of a batch or epoch.\n",
    "\n",
    "We can incorporate information from the `logs` dictionary into our own custom callbacks.\n",
    "\n",
    "Let's see this in action in the context of a model we will construct and fit to the `sklearn` diabetes dataset that we have been using in this module.\n",
    "\n",
    "Let's first import the dataset, and split it into the training and test sets."
   ]
  },
  {
   "cell_type": "code",
   "execution_count": 2,
   "metadata": {
    "id": "DDWhcXcGR0J6"
   },
   "outputs": [],
   "source": [
    "# Load the diabetes dataset\n",
    "\n",
    "from sklearn.datasets import load_diabetes\n",
    "\n",
    "diabetes_dataset = load_diabetes()"
   ]
  },
  {
   "cell_type": "code",
   "execution_count": 3,
   "metadata": {
    "id": "mFlZQXvmR0J6"
   },
   "outputs": [],
   "source": [
    "# Save the input and target variables\n",
    "\n",
    "from sklearn.model_selection import train_test_split\n",
    "\n",
    "data = diabetes_dataset['data']\n",
    "targets = diabetes_dataset['target']"
   ]
  },
  {
   "cell_type": "code",
   "execution_count": 4,
   "metadata": {
    "id": "NG1QyCZ0R0J6"
   },
   "outputs": [],
   "source": [
    "# Split the data set into training and test sets\n",
    "\n",
    "train_data, test_data, train_targets, test_targets = train_test_split(data, targets, test_size=0.1)"
   ]
  },
  {
   "cell_type": "markdown",
   "metadata": {
    "id": "UXwBnYXWR0J6"
   },
   "source": [
    "Now we construct our model."
   ]
  },
  {
   "cell_type": "code",
   "execution_count": 5,
   "metadata": {
    "id": "blwLvzA5R0J7"
   },
   "outputs": [],
   "source": [
    "# Build the model\n",
    "\n",
    "from tensorflow.keras.models import Sequential\n",
    "from tensorflow.keras.layers import Dense\n",
    "\n",
    "model = tf.keras.Sequential([\n",
    "    Dense(128, activation='relu', input_shape=(train_data.shape[1],)),\n",
    "    Dense(64,activation='relu'),\n",
    "    tf.keras.layers.BatchNormalization(),\n",
    "    Dense(64, activation='relu'),\n",
    "    Dense(64, activation='relu'),\n",
    "    Dense(1)        \n",
    "])"
   ]
  },
  {
   "cell_type": "markdown",
   "metadata": {
    "id": "yFAu6cfxR0J7"
   },
   "source": [
    "We now compile the model, with\n",
    "* Mean squared error as the loss function,\n",
    "* the Adam optimizer, and \n",
    "* Mean absolute error (`mae`) as a metric."
   ]
  },
  {
   "cell_type": "code",
   "execution_count": 6,
   "metadata": {
    "id": "hK8r_T5mR0J7"
   },
   "outputs": [],
   "source": [
    "# Compile the model\n",
    "    \n",
    "model.compile(loss='mse', optimizer=\"adam\", metrics=['mae'])"
   ]
  },
  {
   "cell_type": "markdown",
   "metadata": {
    "id": "OrOSdwOiR0J8"
   },
   "source": [
    "### Defining a custom callback\n",
    "\n",
    "Now we define our custom callback using the `logs` dictionary to access the loss and metric values."
   ]
  },
  {
   "cell_type": "code",
   "execution_count": 7,
   "metadata": {
    "id": "jesdVCr-R0J8"
   },
   "outputs": [],
   "source": [
    "# Create the custom callback\n",
    "\n",
    "class LossAndMetricCallback(tf.keras.callbacks.Callback):\n",
    "\n",
    "    # Print the loss after every second batch in the training set\n",
    "    def on_train_batch_end(self, batch, logs=None):\n",
    "        if batch %2 ==0:\n",
    "            print('\\n After batch {}, the loss is {:7.2f}.'.format(batch, logs['loss']))\n",
    "    \n",
    "    # Print the loss after each batch in the test set\n",
    "    def on_test_batch_end(self, batch, logs=None):\n",
    "        print('\\n After batch {}, the loss is {:7.2f}.'.format(batch, logs['loss']))\n",
    "\n",
    "    # Print the loss and mean absolute error after each epoch\n",
    "    def on_epoch_end(self, epoch, logs=None):\n",
    "        print('Epoch {}: Average loss is {:7.2f}, mean absolute error is {:7.2f}.'.format(epoch, logs['loss'], logs['mae']))\n",
    "    \n",
    "    # Notify the user when prediction has finished on each batch\n",
    "    def on_predict_batch_end(self,batch, logs=None):\n",
    "        print(\"Finished prediction on batch {}!\".format(batch))"
   ]
  },
  {
   "cell_type": "markdown",
   "metadata": {
    "id": "_2EsPx0tR0J8"
   },
   "source": [
    "We now fit the model to the data, and specify that we would like to use our custom callback `LossAndMetricCallback()`."
   ]
  },
  {
   "cell_type": "code",
   "execution_count": 8,
   "metadata": {
    "colab": {
     "base_uri": "https://localhost:8080/"
    },
    "id": "PxgfKcNuR0J8",
    "outputId": "63d505c2-b57c-4322-9159-edb6cffed6d3"
   },
   "outputs": [
    {
     "name": "stdout",
     "output_type": "stream",
     "text": [
      "\n",
      " After batch 0, the loss is 29799.80.\n",
      "\n",
      " After batch 2, the loss is 28876.30.\n",
      "Epoch 0: Average loss is 28843.24, mean absolute error is  151.25.\n",
      "\n",
      " After batch 0, the loss is 25778.01.\n",
      "\n",
      " After batch 2, the loss is 28045.86.\n",
      "Epoch 1: Average loss is 28760.84, mean absolute error is  151.01.\n",
      "\n",
      " After batch 0, the loss is 27468.95.\n",
      "\n",
      " After batch 2, the loss is 27847.92.\n",
      "Epoch 2: Average loss is 28652.74, mean absolute error is  150.71.\n",
      "\n",
      " After batch 0, the loss is 27201.80.\n",
      "\n",
      " After batch 2, the loss is 28569.47.\n",
      "Epoch 3: Average loss is 28491.34, mean absolute error is  150.25.\n",
      "\n",
      " After batch 0, the loss is 28361.25.\n",
      "\n",
      " After batch 2, the loss is 28838.54.\n",
      "Epoch 4: Average loss is 28244.59, mean absolute error is  149.55.\n",
      "\n",
      " After batch 0, the loss is 28363.45.\n",
      "\n",
      " After batch 2, the loss is 27338.98.\n",
      "Epoch 5: Average loss is 27890.68, mean absolute error is  148.55.\n",
      "\n",
      " After batch 0, the loss is 28264.03.\n",
      "\n",
      " After batch 2, the loss is 26769.43.\n",
      "Epoch 6: Average loss is 27387.71, mean absolute error is  147.08.\n",
      "\n",
      " After batch 0, the loss is 27108.86.\n",
      "\n",
      " After batch 2, the loss is 26364.45.\n",
      "Epoch 7: Average loss is 26724.10, mean absolute error is  145.14.\n",
      "\n",
      " After batch 0, the loss is 23061.92.\n",
      "\n",
      " After batch 2, the loss is 25568.54.\n",
      "Epoch 8: Average loss is 25828.82, mean absolute error is  142.48.\n",
      "\n",
      " After batch 0, the loss is 24019.92.\n",
      "\n",
      " After batch 2, the loss is 24267.33.\n",
      "Epoch 9: Average loss is 24736.03, mean absolute error is  139.05.\n",
      "\n",
      " After batch 0, the loss is 22745.46.\n",
      "\n",
      " After batch 2, the loss is 23684.08.\n",
      "Epoch 10: Average loss is 23346.35, mean absolute error is  134.58.\n",
      "\n",
      " After batch 0, the loss is 23237.87.\n",
      "\n",
      " After batch 2, the loss is 22185.43.\n",
      "Epoch 11: Average loss is 21770.09, mean absolute error is  129.05.\n",
      "\n",
      " After batch 0, the loss is 23179.30.\n",
      "\n",
      " After batch 2, the loss is 20919.19.\n",
      "Epoch 12: Average loss is 19799.78, mean absolute error is  122.02.\n",
      "\n",
      " After batch 0, the loss is 20564.72.\n",
      "\n",
      " After batch 2, the loss is 18291.55.\n",
      "Epoch 13: Average loss is 17716.64, mean absolute error is  113.83.\n",
      "\n",
      " After batch 0, the loss is 15930.09.\n",
      "\n",
      " After batch 2, the loss is 16196.21.\n",
      "Epoch 14: Average loss is 15496.25, mean absolute error is  104.25.\n",
      "\n",
      " After batch 0, the loss is 14908.49.\n",
      "\n",
      " After batch 2, the loss is 13675.93.\n",
      "Epoch 15: Average loss is 13185.10, mean absolute error is   93.96.\n",
      "\n",
      " After batch 0, the loss is 10963.25.\n",
      "\n",
      " After batch 2, the loss is 11369.44.\n",
      "Epoch 16: Average loss is 11054.97, mean absolute error is   83.63.\n",
      "\n",
      " After batch 0, the loss is 9046.30.\n",
      "\n",
      " After batch 2, the loss is 9259.12.\n",
      "Epoch 17: Average loss is 9040.45, mean absolute error is   74.35.\n",
      "\n",
      " After batch 0, the loss is 7332.11.\n",
      "\n",
      " After batch 2, the loss is 7309.67.\n",
      "Epoch 18: Average loss is 7619.12, mean absolute error is   68.39.\n",
      "\n",
      " After batch 0, the loss is 7020.96.\n",
      "\n",
      " After batch 2, the loss is 6625.99.\n",
      "Epoch 19: Average loss is 6468.50, mean absolute error is   62.66.\n"
     ]
    }
   ],
   "source": [
    "# Train the model\n",
    "\n",
    "history = model.fit(train_data, train_targets, epochs=20,\n",
    "                    batch_size=100, callbacks=[LossAndMetricCallback()], verbose=False)"
   ]
  },
  {
   "cell_type": "markdown",
   "metadata": {
    "id": "bfQoL3nAR0J9"
   },
   "source": [
    "We can also use our callback in the `evaluate` function..."
   ]
  },
  {
   "cell_type": "code",
   "execution_count": 9,
   "metadata": {
    "colab": {
     "base_uri": "https://localhost:8080/"
    },
    "id": "xLE8PNUaR0J9",
    "outputId": "d5c78662-d2a8-4bfe-a3c4-e9eb0400b834"
   },
   "outputs": [
    {
     "name": "stdout",
     "output_type": "stream",
     "text": [
      "\n",
      " After batch 0, the loss is 25465.91.\n",
      "\n",
      " After batch 1, the loss is 20101.08.\n",
      "\n",
      " After batch 2, the loss is 17338.11.\n",
      "\n",
      " After batch 3, the loss is 18987.54.\n",
      "\n",
      " After batch 4, the loss is 20510.18.\n"
     ]
    }
   ],
   "source": [
    "# Evaluate the model\n",
    "\n",
    "model_eval = model.evaluate(test_data, test_targets, batch_size=10, \n",
    "                            callbacks=[LossAndMetricCallback()], verbose=False)"
   ]
  },
  {
   "cell_type": "markdown",
   "metadata": {
    "id": "r7QklM0gR0J-"
   },
   "source": [
    "...And also the `predict` function."
   ]
  },
  {
   "cell_type": "code",
   "execution_count": 10,
   "metadata": {
    "colab": {
     "base_uri": "https://localhost:8080/"
    },
    "id": "9dMK9-ciR0J-",
    "outputId": "7a562970-717f-400f-bff1-7f544d518934"
   },
   "outputs": [
    {
     "name": "stdout",
     "output_type": "stream",
     "text": [
      "Finished prediction on batch 0!\n",
      "Finished prediction on batch 1!\n",
      "Finished prediction on batch 2!\n",
      "Finished prediction on batch 3!\n",
      "Finished prediction on batch 4!\n"
     ]
    }
   ],
   "source": [
    "# Get predictions from the model\n",
    "\n",
    "model_pred = model.predict(test_data, batch_size=10,\n",
    "                           callbacks=[LossAndMetricCallback()], verbose=False)"
   ]
  },
  {
   "cell_type": "markdown",
   "metadata": {
    "id": "8hUnfTfiR0J-"
   },
   "source": [
    "### Application - learning rate scheduler\n",
    "Let's now look at a more sophisticated custom callback. \n",
    "\n",
    "We are going to define a callback to change the learning rate of the optimiser of a model during training. We will do this by specifying the epochs and new learning rates where we would like it to be changed.\n",
    "\n",
    "First we define the auxillary function that returns the learning rate for each epoch based on our schedule."
   ]
  },
  {
   "cell_type": "code",
   "execution_count": 11,
   "metadata": {
    "id": "yo9ubp9HR0J_"
   },
   "outputs": [],
   "source": [
    "# Define the learning rate schedule. The tuples below are (start_epoch, new_learning_rate)\n",
    "\n",
    "lr_schedule = [\n",
    "    (4, 0.03), (7, 0.02), (11, 0.005), (15, 0.007)\n",
    "]\n",
    "\n",
    "def get_new_epoch_lr(epoch, lr):\n",
    "    # Checks to see if the input epoch is listed in the learning rate schedule \n",
    "    # and if so, returns index in lr_schedule\n",
    "    epoch_in_sched = [i for i in range(len(lr_schedule)) if lr_schedule[i][0]==int(epoch)]\n",
    "    if len(epoch_in_sched)>0:\n",
    "        # If it is, return the learning rate corresponding to the epoch\n",
    "        return lr_schedule[epoch_in_sched[0]][1]\n",
    "    else:\n",
    "        # Otherwise, return the existing learning rate\n",
    "        return lr"
   ]
  },
  {
   "cell_type": "markdown",
   "metadata": {
    "id": "BEklG1JkR0J_"
   },
   "source": [
    "Let's now define the callback itself."
   ]
  },
  {
   "cell_type": "code",
   "execution_count": 12,
   "metadata": {
    "id": "0q2xrf2qR0J_"
   },
   "outputs": [],
   "source": [
    "# Define the custom callback\n",
    "\n",
    "class LRScheduler(tf.keras.callbacks.Callback):\n",
    "    \n",
    "    def __init__(self, new_lr):\n",
    "        super(LRScheduler, self).__init__()\n",
    "        # Add the new learning rate function to our callback\n",
    "        self.new_lr = new_lr\n",
    "\n",
    "    def on_epoch_begin(self, epoch, logs=None):\n",
    "        # Make sure that the optimizer we have chosen has a learning rate, and raise an error if not\n",
    "        if not hasattr(self.model.optimizer, 'lr'):\n",
    "              raise ValueError('Error: Optimizer does not have a learning rate.')\n",
    "                \n",
    "        # Get the current learning rate\n",
    "        curr_rate = float(tf.keras.backend.get_value(self.model.optimizer.lr))\n",
    "        \n",
    "        # Call the auxillary function to get the scheduled learning rate for the current epoch\n",
    "        scheduled_rate = self.new_lr(epoch, curr_rate)\n",
    "\n",
    "        # Set the learning rate to the scheduled learning rate\n",
    "        tf.keras.backend.set_value(self.model.optimizer.lr, scheduled_rate)\n",
    "        print('Learning rate for epoch {} is {:7.3f}'.format(epoch, scheduled_rate))"
   ]
  },
  {
   "cell_type": "markdown",
   "metadata": {
    "id": "y5v0G5dHR0KA"
   },
   "source": [
    "Let's now train the model again with our new callback. "
   ]
  },
  {
   "cell_type": "code",
   "execution_count": 13,
   "metadata": {
    "id": "N4TGrA0JR0KA"
   },
   "outputs": [],
   "source": [
    "# Build the same model as before\n",
    "\n",
    "new_model = tf.keras.Sequential([\n",
    "    Dense(128, activation='relu', input_shape=(train_data.shape[1],)),\n",
    "    Dense(64,activation='relu'),\n",
    "    tf.keras.layers.BatchNormalization(),\n",
    "    Dense(64, activation='relu'),\n",
    "    Dense(64, activation='relu'),\n",
    "    Dense(1)        \n",
    "])"
   ]
  },
  {
   "cell_type": "code",
   "execution_count": 14,
   "metadata": {
    "id": "8vSCvfVMR0KA"
   },
   "outputs": [],
   "source": [
    "# Compile the model\n",
    "\n",
    "new_model.compile(loss='mse',\n",
    "                optimizer=\"adam\",\n",
    "                metrics=['mae', 'mse'])"
   ]
  },
  {
   "cell_type": "code",
   "execution_count": 15,
   "metadata": {
    "colab": {
     "base_uri": "https://localhost:8080/"
    },
    "id": "FFVMtoSuR0KA",
    "outputId": "aa146f68-d3ca-47f9-a7c3-7f5477e1dd92"
   },
   "outputs": [
    {
     "name": "stdout",
     "output_type": "stream",
     "text": [
      "Learning rate for epoch 0 is   0.001\n",
      "Learning rate for epoch 1 is   0.001\n",
      "Learning rate for epoch 2 is   0.001\n",
      "Learning rate for epoch 3 is   0.001\n",
      "Learning rate for epoch 4 is   0.030\n",
      "Learning rate for epoch 5 is   0.030\n",
      "Learning rate for epoch 6 is   0.030\n",
      "Learning rate for epoch 7 is   0.020\n",
      "Learning rate for epoch 8 is   0.020\n",
      "Learning rate for epoch 9 is   0.020\n",
      "Learning rate for epoch 10 is   0.020\n",
      "Learning rate for epoch 11 is   0.005\n",
      "Learning rate for epoch 12 is   0.005\n",
      "Learning rate for epoch 13 is   0.005\n",
      "Learning rate for epoch 14 is   0.005\n",
      "Learning rate for epoch 15 is   0.007\n",
      "Learning rate for epoch 16 is   0.007\n",
      "Learning rate for epoch 17 is   0.007\n",
      "Learning rate for epoch 18 is   0.007\n",
      "Learning rate for epoch 19 is   0.007\n"
     ]
    }
   ],
   "source": [
    "# Fit the model with our learning rate scheduler callback\n",
    "\n",
    "new_history = new_model.fit(train_data, train_targets, epochs=20,\n",
    "                            batch_size=100, callbacks=[LRScheduler(get_new_epoch_lr)], verbose=False)"
   ]
  },
  {
   "cell_type": "markdown",
   "metadata": {
    "id": "uQtdqv9-R0KA"
   },
   "source": [
    "### Further reading and resources\n",
    "* https://www.tensorflow.org/guide/keras/custom_callback\n",
    "* https://www.tensorflow.org/api_docs/python/tf/keras/callbacks/Callback"
   ]
  }
 ],
 "metadata": {
  "colab": {
   "name": "[EN]Lab 9.5-The logs dictionary.ipynb",
   "provenance": []
  },
  "kernelspec": {
   "display_name": "Python 3",
   "language": "python",
   "name": "python3"
  },
  "language_info": {
   "codemirror_mode": {
    "name": "ipython",
    "version": 3
   },
   "file_extension": ".py",
   "mimetype": "text/x-python",
   "name": "python",
   "nbconvert_exporter": "python",
   "pygments_lexer": "ipython3",
   "version": "3.8.8"
  }
 },
 "nbformat": 4,
 "nbformat_minor": 1
}
