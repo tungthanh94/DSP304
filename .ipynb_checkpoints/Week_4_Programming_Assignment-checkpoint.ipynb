{
 "cells": [
  {
   "cell_type": "markdown",
   "metadata": {
    "id": "j-l3gabVzlB-"
   },
   "source": [
    "# Programming Assignment\n",
    "\n",
    "## Saving and loading models, with application to the EuroSat dataset\n",
    "\n",
    "### Instructions\n",
    "\n",
    "In this notebook, you will create a neural network that classifies land uses and land covers from satellite imagery. You will save your model using Tensorflow's callbacks and reload it later. You will also load in a pre-trained neural network classifier and compare performance with it. \n",
    "\n",
    "Some code cells are provided for you in the notebook. You should avoid editing provided code, and make sure to execute the cells in order to avoid unexpected errors. Some cells begin with the line: \n",
    "\n",
    "`#### GRADED CELL ####`\n",
    "\n",
    "Don't move or edit this first line - this is what the automatic grader looks for to recognise graded cells. These cells require you to write your own code to complete them, and are automatically graded when you submit the notebook. Don't edit the function name or signature provided in these cells, otherwise the automatic grader might not function properly. Inside these graded cells, you can use any functions or classes that are imported below, but make sure you don't use any variables that are outside the scope of the function.\n",
    "\n",
    "### How to submit\n",
    "\n",
    "Complete all the tasks you are asked for in the worksheet. When you have finished and are happy with your code, press the **Submit Assignment** button at the top of this notebook.\n",
    "\n",
    "### Let's get started!\n",
    "\n",
    "We'll start running some imports, and loading the dataset. Do not edit the existing imports in the following cell. If you would like to make further Tensorflow imports, you should add them here."
   ]
  },
  {
   "cell_type": "code",
   "execution_count": 32,
   "metadata": {
    "id": "TtZFzBJTzlCC"
   },
   "outputs": [],
   "source": [
    "#### PACKAGE IMPORTS ####\n",
    "\n",
    "# Run this cell first to import all required packages. Do not make any imports elsewhere in the notebook\n",
    "\n",
    "import tensorflow as tf\n",
    "from tensorflow.keras.preprocessing.image import load_img, img_to_array\n",
    "from tensorflow.keras.models import Sequential, load_model\n",
    "from tensorflow.keras.layers import Dense, Flatten, Conv2D, MaxPooling2D\n",
    "from tensorflow.keras.callbacks import ModelCheckpoint, EarlyStopping\n",
    "import os\n",
    "import numpy as np\n",
    "import pandas as pd\n",
    "\n",
    "# If you would like to make further imports from tensorflow, add them here\n",
    "\n"
   ]
  },
  {
   "cell_type": "markdown",
   "metadata": {
    "id": "qUYE18LozlCG"
   },
   "source": [
    "#### The EuroSAT dataset\n",
    "\n",
    "In this assignment, you will use the [EuroSAT dataset](https://github.com/phelber/EuroSAT). It consists of 27000 labelled Sentinel-2 satellite images of different land uses: residential, industrial, highway, river, forest, pasture, herbaceous vegetation, annual crop, permanent crop and sea/lake. For a reference, see the following papers:\n",
    "- Eurosat: A novel dataset and deep learning benchmark for land use and land cover classification. Patrick Helber, Benjamin Bischke, Andreas Dengel, Damian Borth. IEEE Journal of Selected Topics in Applied Earth Observations and Remote Sensing, 2019.\n",
    "- Introducing EuroSAT: A Novel Dataset and Deep Learning Benchmark for Land Use and Land Cover Classification. Patrick Helber, Benjamin Bischke, Andreas Dengel. 2018 IEEE International Geoscience and Remote Sensing Symposium, 2018.\n",
    "\n",
    "Your goal is to construct a neural network that classifies a satellite image into one of these 10 classes, as well as applying some of the saving and loading techniques you have learned in the previous sessions."
   ]
  },
  {
   "cell_type": "markdown",
   "metadata": {
    "id": "jgcHEE-HzlCH"
   },
   "source": [
    "#### Import the data\n",
    "\n",
    "The dataset you will train your model on is a subset of the total data, with 4000 training images and 1000 testing images, with roughly equal numbers of each class. \n",
    "The train and test datasets required for this project can be downloaded from the following links:\n",
    "\n",
    "`x_train`: https://drive.google.com/open?id=1cUaIEd9-MLJHFGjLz5QziNvfBtYygplX\n",
    "\n",
    "`y_train`: https://drive.google.com/open?id=1hv24Ufiio9rBeSqgnNoM3dr5sVGwOmBy\n",
    "\n",
    "`x_test`: https://drive.google.com/open?id=1AH9lKHT5P2oQLz8SGMRPWs_M9wIM2ZRH\n",
    "\n",
    "`y_test`: https://drive.google.com/open?id=1i4_azocSDuU3TcDf3OSHO1vF0D5-xMU6\n",
    "\n",
    "You should store these files in Drive for use in this Colab notebook."
   ]
  },
  {
   "cell_type": "code",
   "execution_count": 33,
   "metadata": {
    "colab": {
     "base_uri": "https://localhost:8080/"
    },
    "id": "vOR1caL86NHI",
    "outputId": "4278b446-4842-48a6-e47f-593f352672f4"
   },
   "outputs": [
    {
     "name": "stdout",
     "output_type": "stream",
     "text": [
      "Drive already mounted at /content/gdrive; to attempt to forcibly remount, call drive.mount(\"/content/gdrive\", force_remount=True).\n"
     ]
    }
   ],
   "source": [
    "# Run this cell to connect to your Drive folder\n",
    "\n",
    "from google.colab import drive\n",
    "drive.mount('/content/gdrive')"
   ]
  },
  {
   "cell_type": "code",
   "execution_count": 34,
   "metadata": {
    "id": "EqQfoHd-zlCI"
   },
   "outputs": [],
   "source": [
    "# Import the Eurosat data from your Drive folder\n",
    "\n",
    "def load_eurosat_data():\n",
    "    x_train = np.load('gdrive/MyDrive/x_train.npy')\n",
    "    y_train = np.load('gdrive/MyDrive/y_train.npy')\n",
    "    x_test  = np.load('gdrive/MyDrive/x_test.npy')\n",
    "    y_test  = np.load('gdrive/MyDrive/y_test.npy')\n",
    "    return (x_train, y_train), (x_test, y_test)\n",
    "\n",
    "(x_train, y_train), (x_test, y_test) = load_eurosat_data()\n",
    "x_train = x_train / 255.0\n",
    "x_test = x_test / 255.0"
   ]
  },
  {
   "cell_type": "markdown",
   "metadata": {
    "id": "afGjcvB3zlCL"
   },
   "source": [
    "#### Build the neural network model"
   ]
  },
  {
   "cell_type": "markdown",
   "metadata": {
    "id": "Qv0kHsBozlCM"
   },
   "source": [
    "You can now construct a model to fit to the data. Using the Sequential API, build your model according to the following specifications:\n",
    "\n",
    "* The model should use the input_shape in the function argument to set the input size in the first layer.\n",
    "* The first layer should be a Conv2D layer with 16 filters, a 3x3 kernel size, a ReLU activation function and 'SAME' padding. Name this layer 'conv_1'.\n",
    "* The second layer should also be a Conv2D layer with 8 filters, a 3x3 kernel size, a ReLU activation function and 'SAME' padding. Name this layer 'conv_2'.\n",
    "* The third layer should be a MaxPooling2D layer with a pooling window size of 8x8. Name this layer 'pool_1'.\n",
    "* The fourth layer should be a Flatten layer, named 'flatten'.\n",
    "* The fifth layer should be a Dense layer with 32 units, a ReLU activation. Name this layer 'dense_1'.\n",
    "* The sixth and final layer should be a Dense layer with 10 units and softmax activation. Name this layer 'dense_2'.\n",
    "\n",
    "In total, the network should have 6 layers."
   ]
  },
  {
   "cell_type": "code",
   "execution_count": 35,
   "metadata": {
    "id": "rBpGJgCjpHg7"
   },
   "outputs": [],
   "source": [
    "from tensorflow.keras.models import Sequential\n",
    "from tensorflow.keras.layers import Dense, Conv2D, MaxPool2D, Flatten, Dropout, BatchNormalization"
   ]
  },
  {
   "cell_type": "code",
   "execution_count": 36,
   "metadata": {
    "id": "H84-I9P5zlCN"
   },
   "outputs": [],
   "source": [
    "#### GRADED CELL ####\n",
    "\n",
    "# Complete the following function. \n",
    "# Make sure to not change the function name or arguments.\n",
    "\n",
    "def get_new_model(input_shape):\n",
    "    \"\"\"\n",
    "    This function should build a Sequential model according to the above specification. Ensure the \n",
    "    weights are initialised by providing the input_shape argument in the first layer, given by the\n",
    "    function argument.\n",
    "    Your function should also compile the model with the Adam optimiser, sparse categorical cross\n",
    "    entropy loss function, and a single accuracy metric.\n",
    "    \"\"\"\n",
    "    model = Sequential([\n",
    "            Conv2D(16, (3,3), padding = 'same', activation = 'relu', input_shape = input_shape, name = 'conv_1'),\n",
    "            Conv2D(8, (3,3), padding = 'same', activation = 'relu', name = 'conv_2'),\n",
    "            MaxPooling2D((8,8), name= 'pool_1'),\n",
    "            Flatten(name ='flatten'),\n",
    "            Dense(32, activation = 'relu', name = 'dense_1'),\n",
    "            Dense(10, activation = 'softmax', name = 'dense_2')\n",
    "    ])\n",
    "    model.compile(optimizer = 'adam', loss = 'sparse_categorical_crossentropy', metrics = ['accuracy'])\n",
    "    return model\n",
    "    "
   ]
  },
  {
   "cell_type": "markdown",
   "metadata": {
    "id": "tx6dXvwOzlCQ"
   },
   "source": [
    "#### Compile and evaluate the model"
   ]
  },
  {
   "cell_type": "code",
   "execution_count": 37,
   "metadata": {
    "colab": {
     "base_uri": "https://localhost:8080/"
    },
    "id": "cQvjvU2eqTSN",
    "outputId": "b34b0c23-ed7f-407a-9f0b-85c8ba95e851"
   },
   "outputs": [
    {
     "data": {
      "text/plain": [
       "(4000, 64, 64, 3)"
      ]
     },
     "execution_count": 37,
     "metadata": {},
     "output_type": "execute_result"
    }
   ],
   "source": [
    "x_train.shape"
   ]
  },
  {
   "cell_type": "code",
   "execution_count": 38,
   "metadata": {
    "id": "5BHOQzT5zlCR"
   },
   "outputs": [],
   "source": [
    "# Run your function to create the model\n",
    "\n",
    "model = get_new_model(x_train[0].shape)"
   ]
  },
  {
   "cell_type": "code",
   "execution_count": 39,
   "metadata": {
    "id": "--aE05n8zlCV"
   },
   "outputs": [],
   "source": [
    "# Run this cell to define a function to evaluate a model's test accuracy\n",
    "\n",
    "def get_test_accuracy(model, x_test, y_test):\n",
    "    \"\"\"Test model classification accuracy\"\"\"\n",
    "    test_loss, test_acc = model.evaluate(x=x_test, y=y_test, verbose=0)\n",
    "    print('accuracy: {acc:0.3f}'.format(acc=test_acc))"
   ]
  },
  {
   "cell_type": "code",
   "execution_count": 40,
   "metadata": {
    "colab": {
     "base_uri": "https://localhost:8080/"
    },
    "id": "4ezcwMrNzlCd",
    "outputId": "81a17248-56c1-4e0a-f82a-b4aa812d3c57"
   },
   "outputs": [
    {
     "name": "stdout",
     "output_type": "stream",
     "text": [
      "Model: \"sequential_8\"\n",
      "_________________________________________________________________\n",
      " Layer (type)                Output Shape              Param #   \n",
      "=================================================================\n",
      " conv_1 (Conv2D)             (None, 64, 64, 16)        448       \n",
      "                                                                 \n",
      " conv_2 (Conv2D)             (None, 64, 64, 8)         1160      \n",
      "                                                                 \n",
      " pool_1 (MaxPooling2D)       (None, 8, 8, 8)           0         \n",
      "                                                                 \n",
      " flatten (Flatten)           (None, 512)               0         \n",
      "                                                                 \n",
      " dense_1 (Dense)             (None, 32)                16416     \n",
      "                                                                 \n",
      " dense_2 (Dense)             (None, 10)                330       \n",
      "                                                                 \n",
      "=================================================================\n",
      "Total params: 18,354\n",
      "Trainable params: 18,354\n",
      "Non-trainable params: 0\n",
      "_________________________________________________________________\n",
      "accuracy: 0.111\n"
     ]
    }
   ],
   "source": [
    "# Print the model summary and calculate its initialised test accuracy\n",
    "\n",
    "model.summary()\n",
    "get_test_accuracy(model, x_test, y_test)"
   ]
  },
  {
   "cell_type": "markdown",
   "metadata": {
    "id": "pfIdxbQWzlCg"
   },
   "source": [
    "#### Create checkpoints to save model during training, with a criterion\n",
    "\n",
    "You will now create three callbacks:\n",
    "- `checkpoint_every_epoch`: checkpoint that saves the model weights every epoch during training\n",
    "- `checkpoint_best_only`: checkpoint that saves only the weights with the highest validation accuracy. Use the testing data as the validation data.\n",
    "- `early_stopping`: early stopping object that ends training if the validation accuracy has not improved in 3 epochs."
   ]
  },
  {
   "cell_type": "code",
   "execution_count": 41,
   "metadata": {
    "id": "zIZSCcYzwrt4"
   },
   "outputs": [],
   "source": [
    "from tensorflow.keras.callbacks import Callback, ModelCheckpoint"
   ]
  },
  {
   "cell_type": "code",
   "execution_count": 42,
   "metadata": {
    "id": "ccQU2HMGzlCh"
   },
   "outputs": [],
   "source": [
    "#### GRADED CELL ####\n",
    "\n",
    "# Complete the following functions. \n",
    "# Make sure to not change the function names or arguments.\n",
    "\n",
    "def get_checkpoint_every_epoch():\n",
    "    \"\"\"\n",
    "    This function should return a ModelCheckpoint object that:\n",
    "    - saves the weights only at the end of every epoch\n",
    "    - saves into a directory called 'checkpoints_every_epoch' inside the current working directory\n",
    "    - generates filenames in that directory like 'checkpoint_XXX' where\n",
    "      XXX is the epoch number formatted to have three digits, e.g. 001, 002, 003, etc.\n",
    "    \"\"\"\n",
    "    checkpoint = ModelCheckpoint('checkpoints_every_epoch/checkpoint_{epoch:03d}',save_weights_only=True,\n",
    "                                 save_freq = 'epoch', verbose = 1)\n",
    "    return checkpoint\n",
    "\n",
    "\n",
    "def get_checkpoint_best_only():\n",
    "    \"\"\"\n",
    "    This function should return a ModelCheckpoint object that:\n",
    "    - saves only the weights that generate the highest validation (testing) accuracy\n",
    "    - saves into a directory called 'checkpoints_best_only' inside the current working directory\n",
    "    - generates a file called 'checkpoints_best_only/checkpoint' \n",
    "    \"\"\"\n",
    "    checkpoint = ModelCheckpoint('checkpoints_best_only/checkpoint',\n",
    "                                 save_weights_only = True,\n",
    "                                 save_best_only = True,\n",
    "                                 save_freq = 'epoch',\n",
    "                                 monitor = 'val_accuracy',\n",
    "                                 verbose = 1)\n",
    "    return checkpoint\n",
    "    "
   ]
  },
  {
   "cell_type": "code",
   "execution_count": 43,
   "metadata": {
    "id": "MKl-lnxrx4Cs"
   },
   "outputs": [],
   "source": [
    "from tensorflow.keras.callbacks import EarlyStopping"
   ]
  },
  {
   "cell_type": "code",
   "execution_count": 44,
   "metadata": {
    "id": "RjYKmcXMzlCj"
   },
   "outputs": [],
   "source": [
    "#### GRADED CELL ####\n",
    "\n",
    "# Complete the following function. \n",
    "# Make sure to not change the function name or arguments.\n",
    "\n",
    "def get_early_stopping():\n",
    "    \"\"\"\n",
    "    This function should return an EarlyStopping callback that stops training when\n",
    "    the validation (testing) accuracy has not improved in the last 3 epochs.\n",
    "    HINT: use the EarlyStopping callback with the correct 'monitor' and 'patience'\n",
    "    \"\"\"\n",
    "    Earlystopping = EarlyStopping(monitor = 'val_accuracy',\n",
    "                                  patience = 3)\n",
    "    return Earlystopping\n",
    "    "
   ]
  },
  {
   "cell_type": "code",
   "execution_count": 45,
   "metadata": {
    "id": "jplngS9izlCn"
   },
   "outputs": [],
   "source": [
    "# Run this cell to create the callbacks\n",
    "\n",
    "checkpoint_every_epoch = get_checkpoint_every_epoch()\n",
    "checkpoint_best_only = get_checkpoint_best_only()\n",
    "early_stopping = get_early_stopping()"
   ]
  },
  {
   "cell_type": "markdown",
   "metadata": {
    "id": "m8DdH7hdzlCp"
   },
   "source": [
    "#### Train model using the callbacks\n",
    "\n",
    "Now, you will train the model using the three callbacks you created. If you created the callbacks correctly, three things should happen:\n",
    "- At the end of every epoch, the model weights are saved into a directory called `checkpoints_every_epoch`\n",
    "- At the end of every epoch, the model weights are saved into a directory called `checkpoints_best_only` **only** if those weights lead to the highest test accuracy\n",
    "- Training stops when the testing accuracy has not improved in three epochs.\n",
    "\n",
    "You should then have two directories:\n",
    "- A directory called `checkpoints_every_epoch` containing filenames that include `checkpoint_001`, `checkpoint_002`, etc with the `001`, `002` corresponding to the epoch\n",
    "- A directory called `checkpoints_best_only` containing filenames that include `checkpoint`, which contain only the weights leading to the highest testing accuracy"
   ]
  },
  {
   "cell_type": "code",
   "execution_count": 46,
   "metadata": {
    "colab": {
     "base_uri": "https://localhost:8080/"
    },
    "id": "IG329dBszlCq",
    "outputId": "df135803-6826-4695-8537-1d7eaa6b9eb8"
   },
   "outputs": [
    {
     "name": "stdout",
     "output_type": "stream",
     "text": [
      "Epoch 1/50\n",
      "125/125 [==============================] - ETA: 0s - loss: 2.0789 - accuracy: 0.1893\n",
      "Epoch 00001: saving model to checkpoints_every_epoch/checkpoint_001\n",
      "\n",
      "Epoch 00001: val_accuracy improved from -inf to 0.32300, saving model to checkpoints_best_only/checkpoint\n",
      "125/125 [==============================] - 19s 152ms/step - loss: 2.0789 - accuracy: 0.1893 - val_loss: 1.7758 - val_accuracy: 0.3230\n",
      "Epoch 2/50\n",
      "125/125 [==============================] - ETA: 0s - loss: 1.6825 - accuracy: 0.3545\n",
      "Epoch 00002: saving model to checkpoints_every_epoch/checkpoint_002\n",
      "\n",
      "Epoch 00002: val_accuracy improved from 0.32300 to 0.35000, saving model to checkpoints_best_only/checkpoint\n",
      "125/125 [==============================] - 19s 154ms/step - loss: 1.6825 - accuracy: 0.3545 - val_loss: 1.6693 - val_accuracy: 0.3500\n",
      "Epoch 3/50\n",
      "125/125 [==============================] - ETA: 0s - loss: 1.5473 - accuracy: 0.4100\n",
      "Epoch 00003: saving model to checkpoints_every_epoch/checkpoint_003\n",
      "\n",
      "Epoch 00003: val_accuracy improved from 0.35000 to 0.45500, saving model to checkpoints_best_only/checkpoint\n",
      "125/125 [==============================] - 19s 153ms/step - loss: 1.5473 - accuracy: 0.4100 - val_loss: 1.4864 - val_accuracy: 0.4550\n",
      "Epoch 4/50\n",
      "125/125 [==============================] - ETA: 0s - loss: 1.3573 - accuracy: 0.5088\n",
      "Epoch 00004: saving model to checkpoints_every_epoch/checkpoint_004\n",
      "\n",
      "Epoch 00004: val_accuracy improved from 0.45500 to 0.48900, saving model to checkpoints_best_only/checkpoint\n",
      "125/125 [==============================] - 19s 154ms/step - loss: 1.3573 - accuracy: 0.5088 - val_loss: 1.3561 - val_accuracy: 0.4890\n",
      "Epoch 5/50\n",
      "125/125 [==============================] - ETA: 0s - loss: 1.1877 - accuracy: 0.5738\n",
      "Epoch 00005: saving model to checkpoints_every_epoch/checkpoint_005\n",
      "\n",
      "Epoch 00005: val_accuracy improved from 0.48900 to 0.52700, saving model to checkpoints_best_only/checkpoint\n",
      "125/125 [==============================] - 19s 153ms/step - loss: 1.1877 - accuracy: 0.5738 - val_loss: 1.2693 - val_accuracy: 0.5270\n",
      "Epoch 6/50\n",
      "125/125 [==============================] - ETA: 0s - loss: 1.1285 - accuracy: 0.5972\n",
      "Epoch 00006: saving model to checkpoints_every_epoch/checkpoint_006\n",
      "\n",
      "Epoch 00006: val_accuracy improved from 0.52700 to 0.57800, saving model to checkpoints_best_only/checkpoint\n",
      "125/125 [==============================] - 19s 154ms/step - loss: 1.1285 - accuracy: 0.5972 - val_loss: 1.2060 - val_accuracy: 0.5780\n",
      "Epoch 7/50\n",
      "125/125 [==============================] - ETA: 0s - loss: 1.0449 - accuracy: 0.6235\n",
      "Epoch 00007: saving model to checkpoints_every_epoch/checkpoint_007\n",
      "\n",
      "Epoch 00007: val_accuracy improved from 0.57800 to 0.59000, saving model to checkpoints_best_only/checkpoint\n",
      "125/125 [==============================] - 19s 153ms/step - loss: 1.0449 - accuracy: 0.6235 - val_loss: 1.0788 - val_accuracy: 0.5900\n",
      "Epoch 8/50\n",
      "125/125 [==============================] - ETA: 0s - loss: 0.9926 - accuracy: 0.6460\n",
      "Epoch 00008: saving model to checkpoints_every_epoch/checkpoint_008\n",
      "\n",
      "Epoch 00008: val_accuracy did not improve from 0.59000\n",
      "125/125 [==============================] - 19s 153ms/step - loss: 0.9926 - accuracy: 0.6460 - val_loss: 1.0954 - val_accuracy: 0.5830\n",
      "Epoch 9/50\n",
      "125/125 [==============================] - ETA: 0s - loss: 0.9729 - accuracy: 0.6572\n",
      "Epoch 00009: saving model to checkpoints_every_epoch/checkpoint_009\n",
      "\n",
      "Epoch 00009: val_accuracy improved from 0.59000 to 0.60500, saving model to checkpoints_best_only/checkpoint\n",
      "125/125 [==============================] - 19s 154ms/step - loss: 0.9729 - accuracy: 0.6572 - val_loss: 1.0226 - val_accuracy: 0.6050\n",
      "Epoch 10/50\n",
      "125/125 [==============================] - ETA: 0s - loss: 0.9336 - accuracy: 0.6625\n",
      "Epoch 00010: saving model to checkpoints_every_epoch/checkpoint_010\n",
      "\n",
      "Epoch 00010: val_accuracy improved from 0.60500 to 0.61200, saving model to checkpoints_best_only/checkpoint\n",
      "125/125 [==============================] - 19s 152ms/step - loss: 0.9336 - accuracy: 0.6625 - val_loss: 1.0756 - val_accuracy: 0.6120\n",
      "Epoch 11/50\n",
      "125/125 [==============================] - ETA: 0s - loss: 0.9102 - accuracy: 0.6812\n",
      "Epoch 00011: saving model to checkpoints_every_epoch/checkpoint_011\n",
      "\n",
      "Epoch 00011: val_accuracy improved from 0.61200 to 0.63500, saving model to checkpoints_best_only/checkpoint\n",
      "125/125 [==============================] - 19s 153ms/step - loss: 0.9102 - accuracy: 0.6812 - val_loss: 1.0202 - val_accuracy: 0.6350\n",
      "Epoch 12/50\n",
      "125/125 [==============================] - ETA: 0s - loss: 0.8848 - accuracy: 0.6858\n",
      "Epoch 00012: saving model to checkpoints_every_epoch/checkpoint_012\n",
      "\n",
      "Epoch 00012: val_accuracy improved from 0.63500 to 0.64300, saving model to checkpoints_best_only/checkpoint\n",
      "125/125 [==============================] - 19s 153ms/step - loss: 0.8848 - accuracy: 0.6858 - val_loss: 1.0102 - val_accuracy: 0.6430\n",
      "Epoch 13/50\n",
      "125/125 [==============================] - ETA: 0s - loss: 0.8875 - accuracy: 0.6910\n",
      "Epoch 00013: saving model to checkpoints_every_epoch/checkpoint_013\n",
      "\n",
      "Epoch 00013: val_accuracy did not improve from 0.64300\n",
      "125/125 [==============================] - 19s 154ms/step - loss: 0.8875 - accuracy: 0.6910 - val_loss: 0.9853 - val_accuracy: 0.6420\n",
      "Epoch 14/50\n",
      "125/125 [==============================] - ETA: 0s - loss: 0.8306 - accuracy: 0.7000\n",
      "Epoch 00014: saving model to checkpoints_every_epoch/checkpoint_014\n",
      "\n",
      "Epoch 00014: val_accuracy improved from 0.64300 to 0.66400, saving model to checkpoints_best_only/checkpoint\n",
      "125/125 [==============================] - 19s 154ms/step - loss: 0.8306 - accuracy: 0.7000 - val_loss: 0.9203 - val_accuracy: 0.6640\n",
      "Epoch 15/50\n",
      "125/125 [==============================] - ETA: 0s - loss: 0.8210 - accuracy: 0.7025\n",
      "Epoch 00015: saving model to checkpoints_every_epoch/checkpoint_015\n",
      "\n",
      "Epoch 00015: val_accuracy did not improve from 0.66400\n",
      "125/125 [==============================] - 19s 154ms/step - loss: 0.8210 - accuracy: 0.7025 - val_loss: 0.9395 - val_accuracy: 0.6610\n",
      "Epoch 16/50\n",
      "125/125 [==============================] - ETA: 0s - loss: 0.8020 - accuracy: 0.7160\n",
      "Epoch 00016: saving model to checkpoints_every_epoch/checkpoint_016\n",
      "\n",
      "Epoch 00016: val_accuracy improved from 0.66400 to 0.69500, saving model to checkpoints_best_only/checkpoint\n",
      "125/125 [==============================] - 19s 154ms/step - loss: 0.8020 - accuracy: 0.7160 - val_loss: 0.8968 - val_accuracy: 0.6950\n",
      "Epoch 17/50\n",
      "125/125 [==============================] - ETA: 0s - loss: 0.7634 - accuracy: 0.7280\n",
      "Epoch 00017: saving model to checkpoints_every_epoch/checkpoint_017\n",
      "\n",
      "Epoch 00017: val_accuracy did not improve from 0.69500\n",
      "125/125 [==============================] - 19s 153ms/step - loss: 0.7634 - accuracy: 0.7280 - val_loss: 0.8546 - val_accuracy: 0.6940\n",
      "Epoch 18/50\n",
      "125/125 [==============================] - ETA: 0s - loss: 0.7573 - accuracy: 0.7247\n",
      "Epoch 00018: saving model to checkpoints_every_epoch/checkpoint_018\n",
      "\n",
      "Epoch 00018: val_accuracy did not improve from 0.69500\n",
      "125/125 [==============================] - 19s 154ms/step - loss: 0.7573 - accuracy: 0.7247 - val_loss: 0.9389 - val_accuracy: 0.6690\n",
      "Epoch 19/50\n",
      "125/125 [==============================] - ETA: 0s - loss: 0.7506 - accuracy: 0.7387\n",
      "Epoch 00019: saving model to checkpoints_every_epoch/checkpoint_019\n",
      "\n",
      "Epoch 00019: val_accuracy improved from 0.69500 to 0.69800, saving model to checkpoints_best_only/checkpoint\n",
      "125/125 [==============================] - 19s 154ms/step - loss: 0.7506 - accuracy: 0.7387 - val_loss: 0.8927 - val_accuracy: 0.6980\n",
      "Epoch 20/50\n",
      "125/125 [==============================] - ETA: 0s - loss: 0.7324 - accuracy: 0.7433\n",
      "Epoch 00020: saving model to checkpoints_every_epoch/checkpoint_020\n",
      "\n",
      "Epoch 00020: val_accuracy did not improve from 0.69800\n",
      "125/125 [==============================] - 19s 154ms/step - loss: 0.7324 - accuracy: 0.7433 - val_loss: 0.8889 - val_accuracy: 0.6950\n",
      "Epoch 21/50\n",
      "125/125 [==============================] - ETA: 0s - loss: 0.7066 - accuracy: 0.7505\n",
      "Epoch 00021: saving model to checkpoints_every_epoch/checkpoint_021\n",
      "\n",
      "Epoch 00021: val_accuracy improved from 0.69800 to 0.71000, saving model to checkpoints_best_only/checkpoint\n",
      "125/125 [==============================] - 19s 153ms/step - loss: 0.7066 - accuracy: 0.7505 - val_loss: 0.8483 - val_accuracy: 0.7100\n",
      "Epoch 22/50\n",
      "125/125 [==============================] - ETA: 0s - loss: 0.6809 - accuracy: 0.7595\n",
      "Epoch 00022: saving model to checkpoints_every_epoch/checkpoint_022\n",
      "\n",
      "Epoch 00022: val_accuracy did not improve from 0.71000\n",
      "125/125 [==============================] - 19s 154ms/step - loss: 0.6809 - accuracy: 0.7595 - val_loss: 0.8383 - val_accuracy: 0.7040\n",
      "Epoch 23/50\n",
      "125/125 [==============================] - ETA: 0s - loss: 0.6676 - accuracy: 0.7615\n",
      "Epoch 00023: saving model to checkpoints_every_epoch/checkpoint_023\n",
      "\n",
      "Epoch 00023: val_accuracy did not improve from 0.71000\n",
      "125/125 [==============================] - 19s 154ms/step - loss: 0.6676 - accuracy: 0.7615 - val_loss: 0.9080 - val_accuracy: 0.6710\n",
      "Epoch 24/50\n",
      "125/125 [==============================] - ETA: 0s - loss: 0.6722 - accuracy: 0.7552\n",
      "Epoch 00024: saving model to checkpoints_every_epoch/checkpoint_024\n",
      "\n",
      "Epoch 00024: val_accuracy improved from 0.71000 to 0.72100, saving model to checkpoints_best_only/checkpoint\n",
      "125/125 [==============================] - 19s 154ms/step - loss: 0.6722 - accuracy: 0.7552 - val_loss: 0.8190 - val_accuracy: 0.7210\n",
      "Epoch 25/50\n",
      "125/125 [==============================] - ETA: 0s - loss: 0.6684 - accuracy: 0.7615\n",
      "Epoch 00025: saving model to checkpoints_every_epoch/checkpoint_025\n",
      "\n",
      "Epoch 00025: val_accuracy did not improve from 0.72100\n",
      "125/125 [==============================] - 19s 153ms/step - loss: 0.6684 - accuracy: 0.7615 - val_loss: 0.8706 - val_accuracy: 0.6820\n",
      "Epoch 26/50\n",
      "125/125 [==============================] - ETA: 0s - loss: 0.6563 - accuracy: 0.7645\n",
      "Epoch 00026: saving model to checkpoints_every_epoch/checkpoint_026\n",
      "\n",
      "Epoch 00026: val_accuracy did not improve from 0.72100\n",
      "125/125 [==============================] - 19s 153ms/step - loss: 0.6563 - accuracy: 0.7645 - val_loss: 0.7977 - val_accuracy: 0.7190\n",
      "Epoch 27/50\n",
      "125/125 [==============================] - ETA: 0s - loss: 0.6361 - accuracy: 0.7717\n",
      "Epoch 00027: saving model to checkpoints_every_epoch/checkpoint_027\n",
      "\n",
      "Epoch 00027: val_accuracy did not improve from 0.72100\n",
      "125/125 [==============================] - 19s 154ms/step - loss: 0.6361 - accuracy: 0.7717 - val_loss: 0.8068 - val_accuracy: 0.7190\n"
     ]
    },
    {
     "data": {
      "text/plain": [
       "<keras.callbacks.History at 0x7fb4fde66b10>"
      ]
     },
     "execution_count": 46,
     "metadata": {},
     "output_type": "execute_result"
    }
   ],
   "source": [
    "# Train model using the callbacks you just created\n",
    "\n",
    "callbacks = [checkpoint_every_epoch, checkpoint_best_only, early_stopping]\n",
    "model.fit(x_train, y_train, epochs=50, validation_data=(x_test, y_test), callbacks=callbacks)"
   ]
  },
  {
   "cell_type": "markdown",
   "metadata": {
    "id": "tKEb0lQ9zlCt"
   },
   "source": [
    "#### Create new instance of model and load on both sets of weights\n",
    "\n",
    "Now you will use the weights you just saved in a fresh model. You should create two functions, both of which take a freshly instantiated model instance:\n",
    "- `model_last_epoch` should contain the weights from the latest saved epoch\n",
    "- `model_best_epoch` should contain the weights from the saved epoch with the highest testing accuracy\n",
    "\n",
    "_Hint: use the_ `tf.train.latest_checkpoint` _function to get the filename of the latest saved checkpoint file. Check the docs_ [_here_](https://www.tensorflow.org/api_docs/python/tf/train/latest_checkpoint)."
   ]
  },
  {
   "cell_type": "code",
   "execution_count": 47,
   "metadata": {
    "id": "nokhxEntzlCu"
   },
   "outputs": [],
   "source": [
    "#### GRADED CELL ####\n",
    "\n",
    "# Complete the following functions. \n",
    "# Make sure to not change the function name or arguments.\n",
    "\n",
    "def get_model_last_epoch(model):\n",
    "    \"\"\"\n",
    "    This function should create a new instance of the CNN you created earlier,\n",
    "    load on the weights from the last training epoch, and return this model.\n",
    "    \"\"\"\n",
    "    model.load_weights(tf.train.latest_checkpoint('checkpoints_every_epoch'))\n",
    "    return model\n",
    "    \n",
    "    \n",
    "    \n",
    "def get_model_best_epoch(model):\n",
    "    \"\"\"\n",
    "    This function should create a new instance of the CNN you created earlier, load \n",
    "    on the weights leading to the highest validation accuracy, and return this model.\n",
    "    \"\"\"\n",
    "    model.load_weights('checkpoints_best_only/checkpoint')\n",
    "    return model\n",
    "    "
   ]
  },
  {
   "cell_type": "code",
   "execution_count": 48,
   "metadata": {
    "colab": {
     "base_uri": "https://localhost:8080/"
    },
    "id": "N0BEAOZYzlCx",
    "outputId": "a7828146-e15a-44a2-dc92-1a71a2a0927e"
   },
   "outputs": [
    {
     "name": "stdout",
     "output_type": "stream",
     "text": [
      "Model with last epoch weights:\n",
      "accuracy: 0.719\n",
      "\n",
      "Model with best epoch weights:\n",
      "accuracy: 0.721\n"
     ]
    }
   ],
   "source": [
    "# Run this cell to create two models: one with the weights from the last training\n",
    "# epoch, and one wiht the weights leading to the highest validation (testing) accuracy.\n",
    "# Verify that the second has a higher validation (testing) accuarcy.\n",
    "\n",
    "model_last_epoch = get_model_last_epoch(get_new_model(x_train[0].shape))\n",
    "model_best_epoch = get_model_best_epoch(get_new_model(x_train[0].shape))\n",
    "print('Model with last epoch weights:')\n",
    "get_test_accuracy(model_last_epoch, x_test, y_test)\n",
    "print('')\n",
    "print('Model with best epoch weights:')\n",
    "get_test_accuracy(model_best_epoch, x_test, y_test)"
   ]
  },
  {
   "cell_type": "markdown",
   "metadata": {
    "id": "P9vIBFVWzlC-"
   },
   "source": [
    "Congratulations for completing this programming assignment! You're now ready to move on to the capstone project for this course."
   ]
  }
 ],
 "metadata": {
  "colab": {
   "collapsed_sections": [],
   "name": "Week 4 Programming Assignment.ipynb",
   "provenance": []
  },
  "coursera": {
   "course_slug": "tensor-flow-2-1",
   "graded_item_id": "JaRY0",
   "launcher_item_id": "mJ8fg"
  },
  "kernelspec": {
   "display_name": "Python 3",
   "language": "python",
   "name": "python3"
  },
  "language_info": {
   "codemirror_mode": {
    "name": "ipython",
    "version": 3
   },
   "file_extension": ".py",
   "mimetype": "text/x-python",
   "name": "python",
   "nbconvert_exporter": "python",
   "pygments_lexer": "ipython3",
   "version": "3.8.8"
  }
 },
 "nbformat": 4,
 "nbformat_minor": 1
}
