{
 "cells": [
  {
   "cell_type": "markdown",
   "metadata": {
    "id": "wJQu9UWtRfRx"
   },
   "source": [
    "# Programming Assignment"
   ]
  },
  {
   "cell_type": "markdown",
   "metadata": {
    "id": "pFRRArflRfR1"
   },
   "source": [
    "## Language model for the Shakespeare dataset"
   ]
  },
  {
   "cell_type": "code",
   "execution_count": 1,
   "metadata": {
    "id": "2j_QtDXtRfR4"
   },
   "outputs": [],
   "source": [
    "#### PACKAGE IMPORTS ####\n",
    "\n",
    "# Run this cell first to import all required packages. Do not make any imports elsewhere in the notebook\n",
    "\n",
    "import tensorflow as tf\n",
    "import numpy as np\n",
    "import json\n",
    "import matplotlib.pyplot as plt\n",
    "%matplotlib inline\n",
    "\n",
    "# If you would like to make further imports from tensorflow, add them here\n",
    "from tensorflow.keras.layers import Dense, Flatten\n",
    "from tensorflow.keras import Sequential\n"
   ]
  },
  {
   "cell_type": "markdown",
   "metadata": {
    "id": "r3wpZrx7RfR-"
   },
   "source": [
    "#### The Shakespeare dataset\n",
    "\n",
    "In this assignment, you will use a subset of the [Shakespeare dataset](http://shakespeare.mit.edu). It consists of a single text file with several excerpts concatenated together. The data is in raw text form, and so far has not yet had any preprocessing. \n",
    "\n",
    "Your goal is to construct an unsupervised character-level sequence model that can generate text according to a distribution learned from the dataset."
   ]
  },
  {
   "cell_type": "markdown",
   "metadata": {
    "id": "2XZu3DSPRkE4"
   },
   "source": [
    "#### Import the data\n",
    "\n",
    "The dataset required for this project can be downloaded from the following link:\n",
    "\n",
    "https://drive.google.com/open?id=1pQI1ryDnuMKl5FtgBI9k9vXQ65S8xLv2\n",
    "\n",
    "You should store this file in Drive for use in this Colab notebook."
   ]
  },
  {
   "cell_type": "markdown",
   "metadata": {
    "id": "ppOL7TDHRfSA"
   },
   "source": [
    "#### Load and inspect the dataset"
   ]
  },
  {
   "cell_type": "code",
   "execution_count": 2,
   "metadata": {
    "id": "XXwzWcB-RfSD"
   },
   "outputs": [],
   "source": [
    "# Load the text file into a string\n",
    "\n",
    "with open('Shakespeare.txt', 'r', encoding='utf-8') as file:\n",
    "    text = file.read()"
   ]
  },
  {
   "cell_type": "code",
   "execution_count": 3,
   "metadata": {
    "colab": {
     "base_uri": "https://localhost:8080/"
    },
    "id": "ZlWdBq04eSTn",
    "outputId": "cc352272-8da2-413f-b37c-b74ac527b6d1"
   },
   "outputs": [
    {
     "data": {
      "text/plain": [
       "str"
      ]
     },
     "execution_count": 3,
     "metadata": {},
     "output_type": "execute_result"
    }
   ],
   "source": [
    "type(text)"
   ]
  },
  {
   "cell_type": "code",
   "execution_count": 4,
   "metadata": {
    "colab": {
     "base_uri": "https://localhost:8080/"
    },
    "id": "81PNt2hPeVBZ",
    "outputId": "b5dd4721-9d45-4a5c-bcb5-4a49511f763b"
   },
   "outputs": [
    {
     "data": {
      "text/plain": [
       "1115394"
      ]
     },
     "execution_count": 4,
     "metadata": {},
     "output_type": "execute_result"
    }
   ],
   "source": [
    "len(text)"
   ]
  },
  {
   "cell_type": "code",
   "execution_count": 5,
   "metadata": {
    "id": "YzHw4wbCRfSH"
   },
   "outputs": [],
   "source": [
    "# Create a list of chunks of text\n",
    "\n",
    "text_chunks = text.split('.')"
   ]
  },
  {
   "cell_type": "code",
   "execution_count": 6,
   "metadata": {
    "colab": {
     "base_uri": "https://localhost:8080/"
    },
    "id": "ivomkSYkeZka",
    "outputId": "41fc24fe-6b2d-47b5-de48-61813bd9ef15"
   },
   "outputs": [
    {
     "data": {
      "text/plain": [
       "7886"
      ]
     },
     "execution_count": 6,
     "metadata": {},
     "output_type": "execute_result"
    }
   ],
   "source": [
    "len(text_chunks)"
   ]
  },
  {
   "cell_type": "code",
   "execution_count": 7,
   "metadata": {
    "colab": {
     "base_uri": "https://localhost:8080/"
    },
    "id": "vXEU0khzfjRj",
    "outputId": "333da993-ad1d-4e30-c993-d325f7fb8d5f"
   },
   "outputs": [
    {
     "data": {
      "text/plain": [
       "['First Citizen:\\nBefore we proceed any further, hear me speak',\n",
       " '\\n\\nAll:\\nSpeak, speak',\n",
       " '\\n\\nFirst Citizen:\\nYou are all resolved rather to die than to famish?\\n\\nAll:\\nResolved',\n",
       " ' resolved',\n",
       " '\\n\\nFirst Citizen:\\nFirst, you know Caius Marcius is chief enemy to the people',\n",
       " \"\\n\\nAll:\\nWe know't, we know't\",\n",
       " \"\\n\\nFirst Citizen:\\nLet us kill him, and we'll have corn at our own price\",\n",
       " \"\\nIs't a verdict?\\n\\nAll:\\nNo more talking on't; let it be done: away, away!\\n\\nSecond Citizen:\\nOne word, good citizens\",\n",
       " '\\n\\nFirst Citizen:\\nWe are accounted poor citizens, the patricians good',\n",
       " '\\nWhat authority surfeits on would relieve us: if they\\nwould yield us but the superfluity, while it were\\nwholesome, we might guess they relieved us humanely;\\nbut they think we are too dear: the leanness that\\nafflicts us, the object of our misery, is as an\\ninventory to particularise their abundance; our\\nsufferance is a gain to them Let us revenge this with\\nour pikes, ere we become rakes: for the gods know I\\nspeak this in hunger for bread, not in thirst for revenge']"
      ]
     },
     "execution_count": 7,
     "metadata": {},
     "output_type": "execute_result"
    }
   ],
   "source": [
    "text_chunks[:10]"
   ]
  },
  {
   "cell_type": "markdown",
   "metadata": {
    "id": "pik73Zq2RfSO"
   },
   "source": [
    "To give you a feel for what the text looks like, we will print a few chunks from the list."
   ]
  },
  {
   "cell_type": "code",
   "execution_count": 8,
   "metadata": {
    "colab": {
     "base_uri": "https://localhost:8080/"
    },
    "id": "CMZj2MIYRfSP",
    "outputId": "3f73eb0e-bf9c-4493-fcbb-2d792a78c37d"
   },
   "outputs": [
    {
     "name": "stdout",
     "output_type": "stream",
     "text": [
      "\n",
      "\n",
      "HERMIONE:\n",
      "That's true enough;\n",
      "Through 'tis a saying, sir, not due to me\n",
      "\n",
      "\n",
      "DUKE VINCENTIO:\n",
      "Against all sense you do importune her:\n",
      "Should she kneel down in mercy of this fact,\n",
      "Her brother's ghost his paved bed would break,\n",
      "And take her hence in horror\n",
      " Leave me\n",
      "awhile with the maid: my mind promises with my\n",
      "habit no loss shall touch her by my company\n",
      "\n",
      "\n",
      "HENRY BOLINGBROKE:\n",
      "Whither?\n",
      "\n",
      "KING RICHARD II:\n",
      "Whither you will, so I were from your sights\n",
      "\n",
      "\n",
      "LUCIO:\n",
      "O, did you so? And do you remember what you said of the duke?\n",
      "\n",
      "DUKE VINCENTIO:\n",
      "Most notedly, sir\n"
     ]
    }
   ],
   "source": [
    "# Display some randomly selected text samples\n",
    "\n",
    "num_samples = 5\n",
    "inx = np.random.choice(len(text_chunks), num_samples, replace=False)\n",
    "for chunk in np.array(text_chunks)[inx]:\n",
    "    print(chunk)"
   ]
  },
  {
   "cell_type": "markdown",
   "metadata": {
    "id": "QSxfAsFARfSX"
   },
   "source": [
    "#### Create a character-level tokenizer"
   ]
  },
  {
   "cell_type": "markdown",
   "metadata": {
    "id": "SBukx3SDRfSY"
   },
   "source": [
    "You should now write a function that returns a `Tokenizer` object. The function takes a list of strings as an argument, and should create a `Tokenizer` according to the following specification:\n",
    "\n",
    "* The number of tokens should be unlimited (there should be as many as required by the dataset).\n",
    "* Tokens should be created at the character level (not at the word level, which is the default behaviour).\n",
    "* No characters should be filtered out or ignored.\n",
    "* The original capitalization should be retained (do not convert the text to lower case)\n",
    "\n",
    "The `Tokenizer` should be fit to the `list_of_strings` argument and returned by the function. \n",
    "\n",
    "**Hint:** you may need to refer to the [documentation](https://www.tensorflow.org/api_docs/python/tf/keras/preprocessing/text/Tokenizer) for the `Tokenizer`."
   ]
  },
  {
   "cell_type": "code",
   "execution_count": 9,
   "metadata": {
    "id": "qNknqeDNhWTE"
   },
   "outputs": [],
   "source": [
    "from tensorflow.keras.preprocessing.text import Tokenizer\n",
    "from tensorflow.keras.preprocessing.sequence import pad_sequences"
   ]
  },
  {
   "cell_type": "code",
   "execution_count": 10,
   "metadata": {
    "id": "Q8s2aR4oRfSb"
   },
   "outputs": [],
   "source": [
    "#### GRADED CELL ####\n",
    "\n",
    "# Complete the following function.\n",
    "# Make sure not to change the function name or arguments.\n",
    "\n",
    "def create_character_tokenizer(list_of_strings):\n",
    "    \"\"\"\n",
    "    This function takes a list of strings as its argument. It should create \n",
    "    and return a Tokenizer according to the above specifications. \n",
    "    \"\"\"\n",
    "    tokenizer = Tokenizer(filters = None,\n",
    "                          lower = False,\n",
    "                          char_level = True)\n",
    "    tokenizer.fit_on_texts(list_of_strings)\n",
    "    return tokenizer"
   ]
  },
  {
   "cell_type": "code",
   "execution_count": 11,
   "metadata": {
    "id": "aKZpIcn_RfSf"
   },
   "outputs": [],
   "source": [
    "# Get the tokenizer\n",
    "\n",
    "tokenizer = create_character_tokenizer(text_chunks)"
   ]
  },
  {
   "cell_type": "code",
   "execution_count": 12,
   "metadata": {
    "colab": {
     "base_uri": "https://localhost:8080/"
    },
    "id": "a4sKBLA1iYPn",
    "outputId": "598a6130-26ea-4d0f-9286-0b218e3604a9"
   },
   "outputs": [
    {
     "data": {
      "text/plain": [
       "{' ': 1,\n",
       " 'e': 2,\n",
       " 't': 3,\n",
       " 'o': 4,\n",
       " 'a': 5,\n",
       " 'h': 6,\n",
       " 's': 7,\n",
       " 'r': 8,\n",
       " 'n': 9,\n",
       " 'i': 10,\n",
       " '\\n': 11,\n",
       " 'l': 12,\n",
       " 'd': 13,\n",
       " 'u': 14,\n",
       " 'm': 15,\n",
       " 'y': 16,\n",
       " ',': 17,\n",
       " 'w': 18,\n",
       " 'f': 19,\n",
       " 'c': 20,\n",
       " 'g': 21,\n",
       " 'I': 22,\n",
       " 'b': 23,\n",
       " 'p': 24,\n",
       " ':': 25,\n",
       " 'A': 26,\n",
       " 'v': 27,\n",
       " 'k': 28,\n",
       " 'T': 29,\n",
       " \"'\": 30,\n",
       " 'E': 31,\n",
       " 'O': 32,\n",
       " 'N': 33,\n",
       " 'R': 34,\n",
       " 'S': 35,\n",
       " 'L': 36,\n",
       " 'C': 37,\n",
       " ';': 38,\n",
       " 'W': 39,\n",
       " 'U': 40,\n",
       " 'H': 41,\n",
       " 'M': 42,\n",
       " 'B': 43,\n",
       " '?': 44,\n",
       " 'G': 45,\n",
       " '!': 46,\n",
       " 'D': 47,\n",
       " '-': 48,\n",
       " 'F': 49,\n",
       " 'Y': 50,\n",
       " 'P': 51,\n",
       " 'K': 52,\n",
       " 'V': 53,\n",
       " 'j': 54,\n",
       " 'q': 55,\n",
       " 'x': 56,\n",
       " 'z': 57,\n",
       " 'J': 58,\n",
       " 'Q': 59,\n",
       " 'Z': 60,\n",
       " 'X': 61,\n",
       " '3': 62,\n",
       " '&': 63,\n",
       " '$': 64}"
      ]
     },
     "execution_count": 12,
     "metadata": {},
     "output_type": "execute_result"
    }
   ],
   "source": [
    "tokenizer.word_index"
   ]
  },
  {
   "cell_type": "markdown",
   "metadata": {
    "id": "gWObVg6DRfSi"
   },
   "source": [
    "#### Tokenize the text\n",
    "\n",
    "You should now write a function to use the tokenizer to map each string in `text_chunks` to its corresponding encoded sequence. The following function takes a fitted `Tokenizer` object in the first argument (as returned by `create_character_tokenizer`) and a list of strings in the second argument. The function should return a list of lists, where each sublist is a sequence of integer tokens encoding the text sequences according to the mapping stored in the tokenizer.\n",
    "\n",
    "**Hint:** you may need to refer to the [documentation](https://www.tensorflow.org/api_docs/python/tf/keras/preprocessing/text/Tokenizer) for the `Tokenizer`."
   ]
  },
  {
   "cell_type": "code",
   "execution_count": 13,
   "metadata": {
    "id": "lkKDCvV1RfSj"
   },
   "outputs": [],
   "source": [
    "#### GRADED CELL ####\n",
    "\n",
    "# Complete the following function.\n",
    "# Make sure not to change the function name or arguments.\n",
    "\n",
    "def strings_to_sequences(tokenizer, list_of_strings):\n",
    "    \"\"\"\n",
    "    This function takes a tokenizer object and a list of strings as its arguments.\n",
    "    It should use the tokenizer to map the text chunks to sequences of tokens and\n",
    "    then return this list of encoded sequences.\n",
    "    \"\"\"\n",
    "    sequence = tokenizer.texts_to_sequences(list_of_strings)\n",
    "    return sequence"
   ]
  },
  {
   "cell_type": "code",
   "execution_count": 14,
   "metadata": {
    "id": "hhYb2mSlRfSo"
   },
   "outputs": [],
   "source": [
    "# Encode the text chunks into tokens\n",
    "\n",
    "seq_chunks = strings_to_sequences(tokenizer, text_chunks)"
   ]
  },
  {
   "cell_type": "code",
   "execution_count": 15,
   "metadata": {
    "colab": {
     "base_uri": "https://localhost:8080/"
    },
    "id": "W8Tjo0j8jJQh",
    "outputId": "616e9661-9752-4fe5-971a-9051fe6b6ec6"
   },
   "outputs": [
    {
     "data": {
      "text/plain": [
       "7886"
      ]
     },
     "execution_count": 15,
     "metadata": {},
     "output_type": "execute_result"
    }
   ],
   "source": [
    "len(seq_chunks)"
   ]
  },
  {
   "cell_type": "code",
   "execution_count": 16,
   "metadata": {
    "colab": {
     "base_uri": "https://localhost:8080/"
    },
    "id": "7m5Ip9L6jKk4",
    "outputId": "433645b5-5f0c-409c-c3aa-fb2acb106b4c"
   },
   "outputs": [
    {
     "data": {
      "text/plain": [
       "list"
      ]
     },
     "execution_count": 16,
     "metadata": {},
     "output_type": "execute_result"
    }
   ],
   "source": [
    "type(seq_chunks)"
   ]
  },
  {
   "cell_type": "code",
   "execution_count": 17,
   "metadata": {
    "colab": {
     "base_uri": "https://localhost:8080/"
    },
    "id": "ul5wlGQ3j5Ac",
    "outputId": "7fe9d91a-49f2-4536-97ca-74cfea38224a"
   },
   "outputs": [
    {
     "data": {
      "text/plain": [
       "1346"
      ]
     },
     "execution_count": 17,
     "metadata": {},
     "output_type": "execute_result"
    }
   ],
   "source": [
    "max([len(i) for i in seq_chunks])"
   ]
  },
  {
   "cell_type": "code",
   "execution_count": 18,
   "metadata": {
    "colab": {
     "base_uri": "https://localhost:8080/",
     "height": 35
    },
    "id": "PKtPYw3viL_K",
    "outputId": "b04000d9-a31e-40bb-b411-6cb996877bd6"
   },
   "outputs": [
    {
     "data": {
      "text/plain": [
       "'First Citizen:\\nBefore we proceed any further, hear me speak'"
      ]
     },
     "execution_count": 18,
     "metadata": {},
     "output_type": "execute_result"
    }
   ],
   "source": [
    "text_chunks[0]"
   ]
  },
  {
   "cell_type": "code",
   "execution_count": 19,
   "metadata": {
    "colab": {
     "base_uri": "https://localhost:8080/"
    },
    "id": "GuEFqHUNiDBn",
    "outputId": "35a36cad-6145-44e3-f4aa-b09c062736b1"
   },
   "outputs": [
    {
     "data": {
      "text/plain": [
       "[49,\n",
       " 10,\n",
       " 8,\n",
       " 7,\n",
       " 3,\n",
       " 1,\n",
       " 37,\n",
       " 10,\n",
       " 3,\n",
       " 10,\n",
       " 57,\n",
       " 2,\n",
       " 9,\n",
       " 25,\n",
       " 11,\n",
       " 43,\n",
       " 2,\n",
       " 19,\n",
       " 4,\n",
       " 8,\n",
       " 2,\n",
       " 1,\n",
       " 18,\n",
       " 2,\n",
       " 1,\n",
       " 24,\n",
       " 8,\n",
       " 4,\n",
       " 20,\n",
       " 2,\n",
       " 2,\n",
       " 13,\n",
       " 1,\n",
       " 5,\n",
       " 9,\n",
       " 16,\n",
       " 1,\n",
       " 19,\n",
       " 14,\n",
       " 8,\n",
       " 3,\n",
       " 6,\n",
       " 2,\n",
       " 8,\n",
       " 17,\n",
       " 1,\n",
       " 6,\n",
       " 2,\n",
       " 5,\n",
       " 8,\n",
       " 1,\n",
       " 15,\n",
       " 2,\n",
       " 1,\n",
       " 7,\n",
       " 24,\n",
       " 2,\n",
       " 5,\n",
       " 28]"
      ]
     },
     "execution_count": 19,
     "metadata": {},
     "output_type": "execute_result"
    }
   ],
   "source": [
    "seq_chunks[0]"
   ]
  },
  {
   "cell_type": "markdown",
   "metadata": {
    "id": "iRCN70xkRfSt"
   },
   "source": [
    "#### Pad the encoded sequences and store them in a numpy array"
   ]
  },
  {
   "cell_type": "markdown",
   "metadata": {
    "id": "3ucADRYoRfSu"
   },
   "source": [
    "Since not all of the text chunks are the same length, you will need to pad them in order to train on batches. You should now complete the following function, which takes the list of lists of tokens, and creates a single numpy array with the token sequences in the rows, according to the following specification:\n",
    "\n",
    "* The longest allowed sequence should be 500 tokens. Any sequence that is longer should be shortened by truncating the beginning of the sequence.\n",
    "* Use zeros for padding the sequences. The zero padding should be placed before the sequences as required.\n",
    "\n",
    "The function should then return the resulting numpy array.\n",
    "\n",
    "**Hint:** you may want to refer to the [documentation](https://www.tensorflow.org/api_docs/python/tf/keras/preprocessing/sequence/pad_sequences) for the `pad_sequences` function."
   ]
  },
  {
   "cell_type": "code",
   "execution_count": 20,
   "metadata": {
    "id": "zLf-9KxWRfSw"
   },
   "outputs": [],
   "source": [
    "#### GRADED CELL ####\n",
    "\n",
    "# Complete the following function.\n",
    "# Make sure not to change the function name or arguments.\n",
    "\n",
    "def make_padded_dataset(sequence_chunks):\n",
    "    \"\"\"\n",
    "    This function takes a list of lists of tokenized sequences, and transforms\n",
    "    them into a 2D numpy array, padding the sequences as necessary according to\n",
    "    the above specification. The function should then return the numpy array.\n",
    "    \"\"\"\n",
    "    padded = pad_sequences(sequence_chunks, maxlen = 500, padding = 'pre', truncating= 'pre')\n",
    "    return padded\n",
    "    "
   ]
  },
  {
   "cell_type": "code",
   "execution_count": 21,
   "metadata": {
    "id": "IKB26MgJRfS0"
   },
   "outputs": [],
   "source": [
    "# Pad the token sequence chunks and get the numpy array\n",
    "\n",
    "padded_sequences = make_padded_dataset(seq_chunks)"
   ]
  },
  {
   "cell_type": "code",
   "execution_count": 22,
   "metadata": {},
   "outputs": [
    {
     "data": {
      "text/plain": [
       "numpy.ndarray"
      ]
     },
     "execution_count": 22,
     "metadata": {},
     "output_type": "execute_result"
    }
   ],
   "source": [
    "type(padded_sequences)"
   ]
  },
  {
   "cell_type": "code",
   "execution_count": 23,
   "metadata": {
    "colab": {
     "base_uri": "https://localhost:8080/"
    },
    "id": "qxnR6_TIl5_6",
    "outputId": "da08f3a1-03cd-41af-d8de-5a55357a45d9"
   },
   "outputs": [
    {
     "data": {
      "text/plain": [
       "(7886, 500)"
      ]
     },
     "execution_count": 23,
     "metadata": {},
     "output_type": "execute_result"
    }
   ],
   "source": [
    "padded_sequences.shape"
   ]
  },
  {
   "cell_type": "code",
   "execution_count": 24,
   "metadata": {
    "colab": {
     "base_uri": "https://localhost:8080/"
    },
    "id": "LtxDvD-zlD-H",
    "outputId": "803d3958-7e2e-4c67-b93f-09500b3cc757"
   },
   "outputs": [
    {
     "data": {
      "text/plain": [
       "array([[ 0,  0,  0, ...,  2,  5, 28],\n",
       "       [ 0,  0,  0, ...,  2,  5, 28],\n",
       "       [ 0,  0,  0, ..., 27,  2, 13],\n",
       "       ...,\n",
       "       [ 0,  0,  0, ...,  2,  2, 24],\n",
       "       [ 0,  0,  0, ..., 10,  9, 21],\n",
       "       [ 0,  0,  0, ...,  0,  0, 11]])"
      ]
     },
     "execution_count": 24,
     "metadata": {},
     "output_type": "execute_result"
    }
   ],
   "source": [
    "padded_sequences"
   ]
  },
  {
   "cell_type": "markdown",
   "metadata": {
    "id": "U-4W2iICRfS3"
   },
   "source": [
    "#### Create model inputs and targets\n",
    "\n",
    "Now you are ready to build your RNN model. The model will receive a sequence of characters and predict the next character in the sequence. At training time, the model can be passed an input sequence, with the target sequence is shifted by one.\n",
    "\n",
    "For example, the expression `To be or not to be` appears in Shakespeare's play 'Hamlet'. Given input `To be or not to b`, the correct prediction is `o be or not to be`. Notice that the prediction is the same length as the input!\n",
    "\n",
    "![sequence_prediction_example](rnn_example.png)\n",
    "\n",
    "You should now write the following function to create an input and target array from the current `padded_sequences` array. The function has a single argument that is a 2D numpy array of shape `(num_examples, max_seq_len)`. It should fulfil the following specification:\n",
    "\n",
    "* The function should return an input array and an output array, both of size `(num_examples, max_seq_len - 1)`.\n",
    "* The input array should contain the first `max_seq_len - 1` tokens of each sequence. \n",
    "* The output array should contain the last `max_seq_len - 1` tokens of each sequence. \n",
    "\n",
    "The function should then return the tuple `(input_array, output_array)`. Note that it is possible to complete this function using numpy indexing alone!"
   ]
  },
  {
   "cell_type": "code",
   "execution_count": 25,
   "metadata": {
    "id": "pzLY5mT3RfS5"
   },
   "outputs": [],
   "source": [
    "#### GRADED CELL ####\n",
    "\n",
    "# Complete the following function.\n",
    "# Make sure not to change the function name or arguments.\n",
    "\n",
    "def create_inputs_and_targets(array_of_sequences):\n",
    "    \"\"\"\n",
    "    This function takes a 2D numpy array of token sequences, and returns a tuple of two\n",
    "    elements: the first element is the input array and the second element is the output\n",
    "    array, which are defined according to the above specification.\n",
    "    \"\"\" \n",
    "    return array_of_sequences[:, :-1], array_of_sequences[:, 1:]  \n",
    "    \n",
    "    "
   ]
  },
  {
   "cell_type": "code",
   "execution_count": 26,
   "metadata": {
    "id": "MzHXg9HcRfTB"
   },
   "outputs": [],
   "source": [
    "# Create the input and output arrays\n",
    "\n",
    "input_seq, target_seq = create_inputs_and_targets(padded_sequences)"
   ]
  },
  {
   "cell_type": "code",
   "execution_count": 27,
   "metadata": {
    "colab": {
     "base_uri": "https://localhost:8080/"
    },
    "id": "ICRJl3oulwzc",
    "outputId": "13732c69-32f4-46ff-a8d3-4915dd523ec6"
   },
   "outputs": [
    {
     "data": {
      "text/plain": [
       "array([[ 0,  0,  0, ..., 24,  2,  5],\n",
       "       [ 0,  0,  0, ..., 24,  2,  5],\n",
       "       [ 0,  0,  0, ..., 12, 27,  2],\n",
       "       ...,\n",
       "       [ 0,  0,  0, ..., 12,  2,  2],\n",
       "       [ 0,  0,  0, ..., 28, 10,  9],\n",
       "       [ 0,  0,  0, ...,  0,  0,  0]])"
      ]
     },
     "execution_count": 27,
     "metadata": {},
     "output_type": "execute_result"
    }
   ],
   "source": [
    "input_seq"
   ]
  },
  {
   "cell_type": "code",
   "execution_count": 28,
   "metadata": {
    "colab": {
     "base_uri": "https://localhost:8080/"
    },
    "id": "TjaWx5ALly2B",
    "outputId": "12724c93-5882-426d-8d40-72e966d032e0"
   },
   "outputs": [
    {
     "data": {
      "text/plain": [
       "array([[ 0,  0,  0, ...,  2,  5, 28],\n",
       "       [ 0,  0,  0, ...,  2,  5, 28],\n",
       "       [ 0,  0,  0, ..., 27,  2, 13],\n",
       "       ...,\n",
       "       [ 0,  0,  0, ...,  2,  2, 24],\n",
       "       [ 0,  0,  0, ..., 10,  9, 21],\n",
       "       [ 0,  0,  0, ...,  0,  0, 11]])"
      ]
     },
     "execution_count": 28,
     "metadata": {},
     "output_type": "execute_result"
    }
   ],
   "source": [
    "target_seq"
   ]
  },
  {
   "cell_type": "code",
   "execution_count": 29,
   "metadata": {
    "colab": {
     "base_uri": "https://localhost:8080/"
    },
    "id": "rvcKS4qyl19o",
    "outputId": "26501130-c164-489f-9959-88ba8943e2d4"
   },
   "outputs": [
    {
     "data": {
      "text/plain": [
       "(7886, 499)"
      ]
     },
     "execution_count": 29,
     "metadata": {},
     "output_type": "execute_result"
    }
   ],
   "source": [
    "target_seq.shape"
   ]
  },
  {
   "cell_type": "markdown",
   "metadata": {
    "id": "YFTEK7hnRfTJ"
   },
   "source": [
    "#### Preprocess sequence array for stateful RNN\n",
    "\n",
    "We will build our RNN language model to be stateful, so that the internal state of the RNN will be maintained across batches. For this to be effective, we need to make sure that each element of every batch follows on from the corresponding element of the preceding batch (you may want to look back at the \"Stateful RNNs\" reading notebook earlier in the week).\n",
    "\n",
    "The following code processes the input and output sequence arrays so that they are ready to be split into batches for training a stateful RNN, by re-ordering the sequence examples (the rows) according to a specified batch size. "
   ]
  },
  {
   "cell_type": "code",
   "execution_count": 30,
   "metadata": {
    "id": "S4gsVamxRfTK"
   },
   "outputs": [],
   "source": [
    "# Fix the batch size for training\n",
    "\n",
    "batch_size = 32"
   ]
  },
  {
   "cell_type": "code",
   "execution_count": 31,
   "metadata": {
    "id": "cJu9VgWFRfTP"
   },
   "outputs": [],
   "source": [
    "# Prepare input and output arrays for training the stateful RNN\n",
    "\n",
    "num_examples = input_seq.shape[0]\n",
    "\n",
    "num_processed_examples = num_examples - (num_examples % batch_size)\n",
    "\n",
    "input_seq = input_seq[:num_processed_examples]\n",
    "target_seq = target_seq[:num_processed_examples]\n",
    "\n",
    "steps = int(num_processed_examples / 32)  # steps per epoch\n",
    "\n",
    "inx = np.empty((0,), dtype=np.int32)\n",
    "for i in range(steps):\n",
    "    inx = np.concatenate((inx, i + np.arange(0, num_processed_examples, steps)))\n",
    "\n",
    "input_seq_stateful = input_seq[inx]\n",
    "target_seq_stateful = target_seq[inx]"
   ]
  },
  {
   "cell_type": "code",
   "execution_count": 32,
   "metadata": {},
   "outputs": [
    {
     "data": {
      "text/plain": [
       "246"
      ]
     },
     "execution_count": 32,
     "metadata": {},
     "output_type": "execute_result"
    }
   ],
   "source": [
    "steps"
   ]
  },
  {
   "cell_type": "code",
   "execution_count": 33,
   "metadata": {},
   "outputs": [
    {
     "data": {
      "text/plain": [
       "array([], dtype=float64)"
      ]
     },
     "execution_count": 33,
     "metadata": {},
     "output_type": "execute_result"
    }
   ],
   "source": [
    "np.array([])"
   ]
  },
  {
   "cell_type": "code",
   "execution_count": 34,
   "metadata": {},
   "outputs": [
    {
     "data": {
      "text/plain": [
       "(32,)"
      ]
     },
     "execution_count": 34,
     "metadata": {},
     "output_type": "execute_result"
    }
   ],
   "source": [
    "np.arange(0, num_processed_examples, steps).shape"
   ]
  },
  {
   "cell_type": "code",
   "execution_count": 35,
   "metadata": {},
   "outputs": [
    {
     "data": {
      "text/plain": [
       "array([   0,  246,  492,  738,  984, 1230, 1476, 1722, 1968, 2214, 2460,\n",
       "       2706, 2952, 3198, 3444, 3690, 3936, 4182, 4428, 4674, 4920, 5166,\n",
       "       5412, 5658, 5904, 6150, 6396, 6642, 6888, 7134, 7380, 7626])"
      ]
     },
     "execution_count": 35,
     "metadata": {},
     "output_type": "execute_result"
    }
   ],
   "source": [
    "np.arange(0, num_processed_examples, steps)"
   ]
  },
  {
   "cell_type": "code",
   "execution_count": 36,
   "metadata": {
    "scrolled": true
   },
   "outputs": [
    {
     "name": "stdout",
     "output_type": "stream",
     "text": [
      "[   0  246  492  738  984 1230 1476 1722 1968 2214 2460 2706 2952 3198\n",
      " 3444 3690 3936 4182 4428 4674 4920 5166 5412 5658 5904 6150 6396 6642\n",
      " 6888 7134 7380 7626]\n",
      "32\n",
      "\n",
      "\n",
      "[   0  246  492  738  984 1230 1476 1722 1968 2214 2460 2706 2952 3198\n",
      " 3444 3690 3936 4182 4428 4674 4920 5166 5412 5658 5904 6150 6396 6642\n",
      " 6888 7134 7380 7626    1  247  493  739  985 1231 1477 1723 1969 2215\n",
      " 2461 2707 2953 3199 3445 3691 3937 4183 4429 4675 4921 5167 5413 5659\n",
      " 5905 6151 6397 6643 6889 7135 7381 7627]\n",
      "64\n",
      "\n",
      "\n",
      "[   0  246  492  738  984 1230 1476 1722 1968 2214 2460 2706 2952 3198\n",
      " 3444 3690 3936 4182 4428 4674 4920 5166 5412 5658 5904 6150 6396 6642\n",
      " 6888 7134 7380 7626    1  247  493  739  985 1231 1477 1723 1969 2215\n",
      " 2461 2707 2953 3199 3445 3691 3937 4183 4429 4675 4921 5167 5413 5659\n",
      " 5905 6151 6397 6643 6889 7135 7381 7627    2  248  494  740  986 1232\n",
      " 1478 1724 1970 2216 2462 2708 2954 3200 3446 3692 3938 4184 4430 4676\n",
      " 4922 5168 5414 5660 5906 6152 6398 6644 6890 7136 7382 7628]\n",
      "96\n",
      "\n",
      "\n",
      "[   0  246  492  738  984 1230 1476 1722 1968 2214 2460 2706 2952 3198\n",
      " 3444 3690 3936 4182 4428 4674 4920 5166 5412 5658 5904 6150 6396 6642\n",
      " 6888 7134 7380 7626    1  247  493  739  985 1231 1477 1723 1969 2215\n",
      " 2461 2707 2953 3199 3445 3691 3937 4183 4429 4675 4921 5167 5413 5659\n",
      " 5905 6151 6397 6643 6889 7135 7381 7627    2  248  494  740  986 1232\n",
      " 1478 1724 1970 2216 2462 2708 2954 3200 3446 3692 3938 4184 4430 4676\n",
      " 4922 5168 5414 5660 5906 6152 6398 6644 6890 7136 7382 7628    3  249\n",
      "  495  741  987 1233 1479 1725 1971 2217 2463 2709 2955 3201 3447 3693\n",
      " 3939 4185 4431 4677 4923 5169 5415 5661 5907 6153 6399 6645 6891 7137\n",
      " 7383 7629]\n",
      "128\n",
      "\n",
      "\n",
      "[   0  246  492  738  984 1230 1476 1722 1968 2214 2460 2706 2952 3198\n",
      " 3444 3690 3936 4182 4428 4674 4920 5166 5412 5658 5904 6150 6396 6642\n",
      " 6888 7134 7380 7626    1  247  493  739  985 1231 1477 1723 1969 2215\n",
      " 2461 2707 2953 3199 3445 3691 3937 4183 4429 4675 4921 5167 5413 5659\n",
      " 5905 6151 6397 6643 6889 7135 7381 7627    2  248  494  740  986 1232\n",
      " 1478 1724 1970 2216 2462 2708 2954 3200 3446 3692 3938 4184 4430 4676\n",
      " 4922 5168 5414 5660 5906 6152 6398 6644 6890 7136 7382 7628    3  249\n",
      "  495  741  987 1233 1479 1725 1971 2217 2463 2709 2955 3201 3447 3693\n",
      " 3939 4185 4431 4677 4923 5169 5415 5661 5907 6153 6399 6645 6891 7137\n",
      " 7383 7629    4  250  496  742  988 1234 1480 1726 1972 2218 2464 2710\n",
      " 2956 3202 3448 3694 3940 4186 4432 4678 4924 5170 5416 5662 5908 6154\n",
      " 6400 6646 6892 7138 7384 7630]\n",
      "160\n",
      "\n",
      "\n",
      "[   0  246  492  738  984 1230 1476 1722 1968 2214 2460 2706 2952 3198\n",
      " 3444 3690 3936 4182 4428 4674 4920 5166 5412 5658 5904 6150 6396 6642\n",
      " 6888 7134 7380 7626    1  247  493  739  985 1231 1477 1723 1969 2215\n",
      " 2461 2707 2953 3199 3445 3691 3937 4183 4429 4675 4921 5167 5413 5659\n",
      " 5905 6151 6397 6643 6889 7135 7381 7627    2  248  494  740  986 1232\n",
      " 1478 1724 1970 2216 2462 2708 2954 3200 3446 3692 3938 4184 4430 4676\n",
      " 4922 5168 5414 5660 5906 6152 6398 6644 6890 7136 7382 7628    3  249\n",
      "  495  741  987 1233 1479 1725 1971 2217 2463 2709 2955 3201 3447 3693\n",
      " 3939 4185 4431 4677 4923 5169 5415 5661 5907 6153 6399 6645 6891 7137\n",
      " 7383 7629    4  250  496  742  988 1234 1480 1726 1972 2218 2464 2710\n",
      " 2956 3202 3448 3694 3940 4186 4432 4678 4924 5170 5416 5662 5908 6154\n",
      " 6400 6646 6892 7138 7384 7630    5  251  497  743  989 1235 1481 1727\n",
      " 1973 2219 2465 2711 2957 3203 3449 3695 3941 4187 4433 4679 4925 5171\n",
      " 5417 5663 5909 6155 6401 6647 6893 7139 7385 7631]\n",
      "192\n",
      "\n",
      "\n",
      "[   0  246  492  738  984 1230 1476 1722 1968 2214 2460 2706 2952 3198\n",
      " 3444 3690 3936 4182 4428 4674 4920 5166 5412 5658 5904 6150 6396 6642\n",
      " 6888 7134 7380 7626    1  247  493  739  985 1231 1477 1723 1969 2215\n",
      " 2461 2707 2953 3199 3445 3691 3937 4183 4429 4675 4921 5167 5413 5659\n",
      " 5905 6151 6397 6643 6889 7135 7381 7627    2  248  494  740  986 1232\n",
      " 1478 1724 1970 2216 2462 2708 2954 3200 3446 3692 3938 4184 4430 4676\n",
      " 4922 5168 5414 5660 5906 6152 6398 6644 6890 7136 7382 7628    3  249\n",
      "  495  741  987 1233 1479 1725 1971 2217 2463 2709 2955 3201 3447 3693\n",
      " 3939 4185 4431 4677 4923 5169 5415 5661 5907 6153 6399 6645 6891 7137\n",
      " 7383 7629    4  250  496  742  988 1234 1480 1726 1972 2218 2464 2710\n",
      " 2956 3202 3448 3694 3940 4186 4432 4678 4924 5170 5416 5662 5908 6154\n",
      " 6400 6646 6892 7138 7384 7630    5  251  497  743  989 1235 1481 1727\n",
      " 1973 2219 2465 2711 2957 3203 3449 3695 3941 4187 4433 4679 4925 5171\n",
      " 5417 5663 5909 6155 6401 6647 6893 7139 7385 7631    6  252  498  744\n",
      "  990 1236 1482 1728 1974 2220 2466 2712 2958 3204 3450 3696 3942 4188\n",
      " 4434 4680 4926 5172 5418 5664 5910 6156 6402 6648 6894 7140 7386 7632]\n",
      "224\n",
      "\n",
      "\n",
      "[   0  246  492  738  984 1230 1476 1722 1968 2214 2460 2706 2952 3198\n",
      " 3444 3690 3936 4182 4428 4674 4920 5166 5412 5658 5904 6150 6396 6642\n",
      " 6888 7134 7380 7626    1  247  493  739  985 1231 1477 1723 1969 2215\n",
      " 2461 2707 2953 3199 3445 3691 3937 4183 4429 4675 4921 5167 5413 5659\n",
      " 5905 6151 6397 6643 6889 7135 7381 7627    2  248  494  740  986 1232\n",
      " 1478 1724 1970 2216 2462 2708 2954 3200 3446 3692 3938 4184 4430 4676\n",
      " 4922 5168 5414 5660 5906 6152 6398 6644 6890 7136 7382 7628    3  249\n",
      "  495  741  987 1233 1479 1725 1971 2217 2463 2709 2955 3201 3447 3693\n",
      " 3939 4185 4431 4677 4923 5169 5415 5661 5907 6153 6399 6645 6891 7137\n",
      " 7383 7629    4  250  496  742  988 1234 1480 1726 1972 2218 2464 2710\n",
      " 2956 3202 3448 3694 3940 4186 4432 4678 4924 5170 5416 5662 5908 6154\n",
      " 6400 6646 6892 7138 7384 7630    5  251  497  743  989 1235 1481 1727\n",
      " 1973 2219 2465 2711 2957 3203 3449 3695 3941 4187 4433 4679 4925 5171\n",
      " 5417 5663 5909 6155 6401 6647 6893 7139 7385 7631    6  252  498  744\n",
      "  990 1236 1482 1728 1974 2220 2466 2712 2958 3204 3450 3696 3942 4188\n",
      " 4434 4680 4926 5172 5418 5664 5910 6156 6402 6648 6894 7140 7386 7632\n",
      "    7  253  499  745  991 1237 1483 1729 1975 2221 2467 2713 2959 3205\n",
      " 3451 3697 3943 4189 4435 4681 4927 5173 5419 5665 5911 6157 6403 6649\n",
      " 6895 7141 7387 7633]\n",
      "256\n",
      "\n",
      "\n",
      "[   0  246  492  738  984 1230 1476 1722 1968 2214 2460 2706 2952 3198\n",
      " 3444 3690 3936 4182 4428 4674 4920 5166 5412 5658 5904 6150 6396 6642\n",
      " 6888 7134 7380 7626    1  247  493  739  985 1231 1477 1723 1969 2215\n",
      " 2461 2707 2953 3199 3445 3691 3937 4183 4429 4675 4921 5167 5413 5659\n",
      " 5905 6151 6397 6643 6889 7135 7381 7627    2  248  494  740  986 1232\n",
      " 1478 1724 1970 2216 2462 2708 2954 3200 3446 3692 3938 4184 4430 4676\n",
      " 4922 5168 5414 5660 5906 6152 6398 6644 6890 7136 7382 7628    3  249\n",
      "  495  741  987 1233 1479 1725 1971 2217 2463 2709 2955 3201 3447 3693\n",
      " 3939 4185 4431 4677 4923 5169 5415 5661 5907 6153 6399 6645 6891 7137\n",
      " 7383 7629    4  250  496  742  988 1234 1480 1726 1972 2218 2464 2710\n",
      " 2956 3202 3448 3694 3940 4186 4432 4678 4924 5170 5416 5662 5908 6154\n",
      " 6400 6646 6892 7138 7384 7630    5  251  497  743  989 1235 1481 1727\n",
      " 1973 2219 2465 2711 2957 3203 3449 3695 3941 4187 4433 4679 4925 5171\n",
      " 5417 5663 5909 6155 6401 6647 6893 7139 7385 7631    6  252  498  744\n",
      "  990 1236 1482 1728 1974 2220 2466 2712 2958 3204 3450 3696 3942 4188\n",
      " 4434 4680 4926 5172 5418 5664 5910 6156 6402 6648 6894 7140 7386 7632\n",
      "    7  253  499  745  991 1237 1483 1729 1975 2221 2467 2713 2959 3205\n",
      " 3451 3697 3943 4189 4435 4681 4927 5173 5419 5665 5911 6157 6403 6649\n",
      " 6895 7141 7387 7633    8  254  500  746  992 1238 1484 1730 1976 2222\n",
      " 2468 2714 2960 3206 3452 3698 3944 4190 4436 4682 4928 5174 5420 5666\n",
      " 5912 6158 6404 6650 6896 7142 7388 7634]\n",
      "288\n",
      "\n",
      "\n",
      "[   0  246  492  738  984 1230 1476 1722 1968 2214 2460 2706 2952 3198\n",
      " 3444 3690 3936 4182 4428 4674 4920 5166 5412 5658 5904 6150 6396 6642\n",
      " 6888 7134 7380 7626    1  247  493  739  985 1231 1477 1723 1969 2215\n",
      " 2461 2707 2953 3199 3445 3691 3937 4183 4429 4675 4921 5167 5413 5659\n",
      " 5905 6151 6397 6643 6889 7135 7381 7627    2  248  494  740  986 1232\n",
      " 1478 1724 1970 2216 2462 2708 2954 3200 3446 3692 3938 4184 4430 4676\n",
      " 4922 5168 5414 5660 5906 6152 6398 6644 6890 7136 7382 7628    3  249\n",
      "  495  741  987 1233 1479 1725 1971 2217 2463 2709 2955 3201 3447 3693\n",
      " 3939 4185 4431 4677 4923 5169 5415 5661 5907 6153 6399 6645 6891 7137\n",
      " 7383 7629    4  250  496  742  988 1234 1480 1726 1972 2218 2464 2710\n",
      " 2956 3202 3448 3694 3940 4186 4432 4678 4924 5170 5416 5662 5908 6154\n",
      " 6400 6646 6892 7138 7384 7630    5  251  497  743  989 1235 1481 1727\n",
      " 1973 2219 2465 2711 2957 3203 3449 3695 3941 4187 4433 4679 4925 5171\n",
      " 5417 5663 5909 6155 6401 6647 6893 7139 7385 7631    6  252  498  744\n",
      "  990 1236 1482 1728 1974 2220 2466 2712 2958 3204 3450 3696 3942 4188\n",
      " 4434 4680 4926 5172 5418 5664 5910 6156 6402 6648 6894 7140 7386 7632\n",
      "    7  253  499  745  991 1237 1483 1729 1975 2221 2467 2713 2959 3205\n",
      " 3451 3697 3943 4189 4435 4681 4927 5173 5419 5665 5911 6157 6403 6649\n",
      " 6895 7141 7387 7633    8  254  500  746  992 1238 1484 1730 1976 2222\n",
      " 2468 2714 2960 3206 3452 3698 3944 4190 4436 4682 4928 5174 5420 5666\n",
      " 5912 6158 6404 6650 6896 7142 7388 7634    9  255  501  747  993 1239\n",
      " 1485 1731 1977 2223 2469 2715 2961 3207 3453 3699 3945 4191 4437 4683\n",
      " 4929 5175 5421 5667 5913 6159 6405 6651 6897 7143 7389 7635]\n",
      "320\n",
      "\n",
      "\n"
     ]
    }
   ],
   "source": [
    "a = np.empty((0,), dtype=np.int32)\n",
    "for i in range(10):\n",
    "    a = np.concatenate((a, i + np.arange(0, num_processed_examples, steps)))\n",
    "    print(a)\n",
    "    print(len(a))\n",
    "    print('\\n')"
   ]
  },
  {
   "cell_type": "code",
   "execution_count": 37,
   "metadata": {
    "scrolled": true
   },
   "outputs": [
    {
     "name": "stdout",
     "output_type": "stream",
     "text": [
      "[   0  246  492  738  984 1230 1476 1722 1968 2214 2460 2706 2952 3198\n",
      " 3444 3690 3936 4182 4428 4674 4920 5166 5412 5658 5904 6150 6396 6642\n",
      " 6888 7134 7380 7626]\n",
      "32\n",
      "\n",
      "\n",
      "[   0  246  492  738  984 1230 1476 1722 1968 2214 2460 2706 2952 3198\n",
      " 3444 3690 3936 4182 4428 4674 4920 5166 5412 5658 5904 6150 6396 6642\n",
      " 6888 7134 7380 7626    1  247  493  739  985 1231 1477 1723 1969 2215\n",
      " 2461 2707 2953 3199 3445 3691 3937 4183 4429 4675 4921 5167 5413 5659\n",
      " 5905 6151 6397 6643 6889 7135 7381 7627]\n",
      "64\n",
      "\n",
      "\n",
      "[   0  246  492  738  984 1230 1476 1722 1968 2214 2460 2706 2952 3198\n",
      " 3444 3690 3936 4182 4428 4674 4920 5166 5412 5658 5904 6150 6396 6642\n",
      " 6888 7134 7380 7626    1  247  493  739  985 1231 1477 1723 1969 2215\n",
      " 2461 2707 2953 3199 3445 3691 3937 4183 4429 4675 4921 5167 5413 5659\n",
      " 5905 6151 6397 6643 6889 7135 7381 7627    2  248  494  740  986 1232\n",
      " 1478 1724 1970 2216 2462 2708 2954 3200 3446 3692 3938 4184 4430 4676\n",
      " 4922 5168 5414 5660 5906 6152 6398 6644 6890 7136 7382 7628]\n",
      "96\n",
      "\n",
      "\n",
      "[   0  246  492  738  984 1230 1476 1722 1968 2214 2460 2706 2952 3198\n",
      " 3444 3690 3936 4182 4428 4674 4920 5166 5412 5658 5904 6150 6396 6642\n",
      " 6888 7134 7380 7626    1  247  493  739  985 1231 1477 1723 1969 2215\n",
      " 2461 2707 2953 3199 3445 3691 3937 4183 4429 4675 4921 5167 5413 5659\n",
      " 5905 6151 6397 6643 6889 7135 7381 7627    2  248  494  740  986 1232\n",
      " 1478 1724 1970 2216 2462 2708 2954 3200 3446 3692 3938 4184 4430 4676\n",
      " 4922 5168 5414 5660 5906 6152 6398 6644 6890 7136 7382 7628    3  249\n",
      "  495  741  987 1233 1479 1725 1971 2217 2463 2709 2955 3201 3447 3693\n",
      " 3939 4185 4431 4677 4923 5169 5415 5661 5907 6153 6399 6645 6891 7137\n",
      " 7383 7629]\n",
      "128\n",
      "\n",
      "\n",
      "[   0  246  492  738  984 1230 1476 1722 1968 2214 2460 2706 2952 3198\n",
      " 3444 3690 3936 4182 4428 4674 4920 5166 5412 5658 5904 6150 6396 6642\n",
      " 6888 7134 7380 7626    1  247  493  739  985 1231 1477 1723 1969 2215\n",
      " 2461 2707 2953 3199 3445 3691 3937 4183 4429 4675 4921 5167 5413 5659\n",
      " 5905 6151 6397 6643 6889 7135 7381 7627    2  248  494  740  986 1232\n",
      " 1478 1724 1970 2216 2462 2708 2954 3200 3446 3692 3938 4184 4430 4676\n",
      " 4922 5168 5414 5660 5906 6152 6398 6644 6890 7136 7382 7628    3  249\n",
      "  495  741  987 1233 1479 1725 1971 2217 2463 2709 2955 3201 3447 3693\n",
      " 3939 4185 4431 4677 4923 5169 5415 5661 5907 6153 6399 6645 6891 7137\n",
      " 7383 7629    4  250  496  742  988 1234 1480 1726 1972 2218 2464 2710\n",
      " 2956 3202 3448 3694 3940 4186 4432 4678 4924 5170 5416 5662 5908 6154\n",
      " 6400 6646 6892 7138 7384 7630]\n",
      "160\n",
      "\n",
      "\n",
      "[   0  246  492  738  984 1230 1476 1722 1968 2214 2460 2706 2952 3198\n",
      " 3444 3690 3936 4182 4428 4674 4920 5166 5412 5658 5904 6150 6396 6642\n",
      " 6888 7134 7380 7626    1  247  493  739  985 1231 1477 1723 1969 2215\n",
      " 2461 2707 2953 3199 3445 3691 3937 4183 4429 4675 4921 5167 5413 5659\n",
      " 5905 6151 6397 6643 6889 7135 7381 7627    2  248  494  740  986 1232\n",
      " 1478 1724 1970 2216 2462 2708 2954 3200 3446 3692 3938 4184 4430 4676\n",
      " 4922 5168 5414 5660 5906 6152 6398 6644 6890 7136 7382 7628    3  249\n",
      "  495  741  987 1233 1479 1725 1971 2217 2463 2709 2955 3201 3447 3693\n",
      " 3939 4185 4431 4677 4923 5169 5415 5661 5907 6153 6399 6645 6891 7137\n",
      " 7383 7629    4  250  496  742  988 1234 1480 1726 1972 2218 2464 2710\n",
      " 2956 3202 3448 3694 3940 4186 4432 4678 4924 5170 5416 5662 5908 6154\n",
      " 6400 6646 6892 7138 7384 7630    5  251  497  743  989 1235 1481 1727\n",
      " 1973 2219 2465 2711 2957 3203 3449 3695 3941 4187 4433 4679 4925 5171\n",
      " 5417 5663 5909 6155 6401 6647 6893 7139 7385 7631]\n",
      "192\n",
      "\n",
      "\n",
      "[   0  246  492  738  984 1230 1476 1722 1968 2214 2460 2706 2952 3198\n",
      " 3444 3690 3936 4182 4428 4674 4920 5166 5412 5658 5904 6150 6396 6642\n",
      " 6888 7134 7380 7626    1  247  493  739  985 1231 1477 1723 1969 2215\n",
      " 2461 2707 2953 3199 3445 3691 3937 4183 4429 4675 4921 5167 5413 5659\n",
      " 5905 6151 6397 6643 6889 7135 7381 7627    2  248  494  740  986 1232\n",
      " 1478 1724 1970 2216 2462 2708 2954 3200 3446 3692 3938 4184 4430 4676\n",
      " 4922 5168 5414 5660 5906 6152 6398 6644 6890 7136 7382 7628    3  249\n",
      "  495  741  987 1233 1479 1725 1971 2217 2463 2709 2955 3201 3447 3693\n",
      " 3939 4185 4431 4677 4923 5169 5415 5661 5907 6153 6399 6645 6891 7137\n",
      " 7383 7629    4  250  496  742  988 1234 1480 1726 1972 2218 2464 2710\n",
      " 2956 3202 3448 3694 3940 4186 4432 4678 4924 5170 5416 5662 5908 6154\n",
      " 6400 6646 6892 7138 7384 7630    5  251  497  743  989 1235 1481 1727\n",
      " 1973 2219 2465 2711 2957 3203 3449 3695 3941 4187 4433 4679 4925 5171\n",
      " 5417 5663 5909 6155 6401 6647 6893 7139 7385 7631    6  252  498  744\n",
      "  990 1236 1482 1728 1974 2220 2466 2712 2958 3204 3450 3696 3942 4188\n",
      " 4434 4680 4926 5172 5418 5664 5910 6156 6402 6648 6894 7140 7386 7632]\n",
      "224\n",
      "\n",
      "\n",
      "[   0  246  492  738  984 1230 1476 1722 1968 2214 2460 2706 2952 3198\n",
      " 3444 3690 3936 4182 4428 4674 4920 5166 5412 5658 5904 6150 6396 6642\n",
      " 6888 7134 7380 7626    1  247  493  739  985 1231 1477 1723 1969 2215\n",
      " 2461 2707 2953 3199 3445 3691 3937 4183 4429 4675 4921 5167 5413 5659\n",
      " 5905 6151 6397 6643 6889 7135 7381 7627    2  248  494  740  986 1232\n",
      " 1478 1724 1970 2216 2462 2708 2954 3200 3446 3692 3938 4184 4430 4676\n",
      " 4922 5168 5414 5660 5906 6152 6398 6644 6890 7136 7382 7628    3  249\n",
      "  495  741  987 1233 1479 1725 1971 2217 2463 2709 2955 3201 3447 3693\n",
      " 3939 4185 4431 4677 4923 5169 5415 5661 5907 6153 6399 6645 6891 7137\n",
      " 7383 7629    4  250  496  742  988 1234 1480 1726 1972 2218 2464 2710\n",
      " 2956 3202 3448 3694 3940 4186 4432 4678 4924 5170 5416 5662 5908 6154\n",
      " 6400 6646 6892 7138 7384 7630    5  251  497  743  989 1235 1481 1727\n",
      " 1973 2219 2465 2711 2957 3203 3449 3695 3941 4187 4433 4679 4925 5171\n",
      " 5417 5663 5909 6155 6401 6647 6893 7139 7385 7631    6  252  498  744\n",
      "  990 1236 1482 1728 1974 2220 2466 2712 2958 3204 3450 3696 3942 4188\n",
      " 4434 4680 4926 5172 5418 5664 5910 6156 6402 6648 6894 7140 7386 7632\n",
      "    7  253  499  745  991 1237 1483 1729 1975 2221 2467 2713 2959 3205\n",
      " 3451 3697 3943 4189 4435 4681 4927 5173 5419 5665 5911 6157 6403 6649\n",
      " 6895 7141 7387 7633]\n",
      "256\n",
      "\n",
      "\n",
      "[   0  246  492  738  984 1230 1476 1722 1968 2214 2460 2706 2952 3198\n",
      " 3444 3690 3936 4182 4428 4674 4920 5166 5412 5658 5904 6150 6396 6642\n",
      " 6888 7134 7380 7626    1  247  493  739  985 1231 1477 1723 1969 2215\n",
      " 2461 2707 2953 3199 3445 3691 3937 4183 4429 4675 4921 5167 5413 5659\n",
      " 5905 6151 6397 6643 6889 7135 7381 7627    2  248  494  740  986 1232\n",
      " 1478 1724 1970 2216 2462 2708 2954 3200 3446 3692 3938 4184 4430 4676\n",
      " 4922 5168 5414 5660 5906 6152 6398 6644 6890 7136 7382 7628    3  249\n",
      "  495  741  987 1233 1479 1725 1971 2217 2463 2709 2955 3201 3447 3693\n",
      " 3939 4185 4431 4677 4923 5169 5415 5661 5907 6153 6399 6645 6891 7137\n",
      " 7383 7629    4  250  496  742  988 1234 1480 1726 1972 2218 2464 2710\n",
      " 2956 3202 3448 3694 3940 4186 4432 4678 4924 5170 5416 5662 5908 6154\n",
      " 6400 6646 6892 7138 7384 7630    5  251  497  743  989 1235 1481 1727\n",
      " 1973 2219 2465 2711 2957 3203 3449 3695 3941 4187 4433 4679 4925 5171\n",
      " 5417 5663 5909 6155 6401 6647 6893 7139 7385 7631    6  252  498  744\n",
      "  990 1236 1482 1728 1974 2220 2466 2712 2958 3204 3450 3696 3942 4188\n",
      " 4434 4680 4926 5172 5418 5664 5910 6156 6402 6648 6894 7140 7386 7632\n",
      "    7  253  499  745  991 1237 1483 1729 1975 2221 2467 2713 2959 3205\n",
      " 3451 3697 3943 4189 4435 4681 4927 5173 5419 5665 5911 6157 6403 6649\n",
      " 6895 7141 7387 7633    8  254  500  746  992 1238 1484 1730 1976 2222\n",
      " 2468 2714 2960 3206 3452 3698 3944 4190 4436 4682 4928 5174 5420 5666\n",
      " 5912 6158 6404 6650 6896 7142 7388 7634]\n",
      "288\n",
      "\n",
      "\n",
      "[   0  246  492  738  984 1230 1476 1722 1968 2214 2460 2706 2952 3198\n",
      " 3444 3690 3936 4182 4428 4674 4920 5166 5412 5658 5904 6150 6396 6642\n",
      " 6888 7134 7380 7626    1  247  493  739  985 1231 1477 1723 1969 2215\n",
      " 2461 2707 2953 3199 3445 3691 3937 4183 4429 4675 4921 5167 5413 5659\n",
      " 5905 6151 6397 6643 6889 7135 7381 7627    2  248  494  740  986 1232\n",
      " 1478 1724 1970 2216 2462 2708 2954 3200 3446 3692 3938 4184 4430 4676\n",
      " 4922 5168 5414 5660 5906 6152 6398 6644 6890 7136 7382 7628    3  249\n",
      "  495  741  987 1233 1479 1725 1971 2217 2463 2709 2955 3201 3447 3693\n",
      " 3939 4185 4431 4677 4923 5169 5415 5661 5907 6153 6399 6645 6891 7137\n",
      " 7383 7629    4  250  496  742  988 1234 1480 1726 1972 2218 2464 2710\n",
      " 2956 3202 3448 3694 3940 4186 4432 4678 4924 5170 5416 5662 5908 6154\n",
      " 6400 6646 6892 7138 7384 7630    5  251  497  743  989 1235 1481 1727\n",
      " 1973 2219 2465 2711 2957 3203 3449 3695 3941 4187 4433 4679 4925 5171\n",
      " 5417 5663 5909 6155 6401 6647 6893 7139 7385 7631    6  252  498  744\n",
      "  990 1236 1482 1728 1974 2220 2466 2712 2958 3204 3450 3696 3942 4188\n",
      " 4434 4680 4926 5172 5418 5664 5910 6156 6402 6648 6894 7140 7386 7632\n",
      "    7  253  499  745  991 1237 1483 1729 1975 2221 2467 2713 2959 3205\n",
      " 3451 3697 3943 4189 4435 4681 4927 5173 5419 5665 5911 6157 6403 6649\n",
      " 6895 7141 7387 7633    8  254  500  746  992 1238 1484 1730 1976 2222\n",
      " 2468 2714 2960 3206 3452 3698 3944 4190 4436 4682 4928 5174 5420 5666\n",
      " 5912 6158 6404 6650 6896 7142 7388 7634    9  255  501  747  993 1239\n",
      " 1485 1731 1977 2223 2469 2715 2961 3207 3453 3699 3945 4191 4437 4683\n",
      " 4929 5175 5421 5667 5913 6159 6405 6651 6897 7143 7389 7635]\n",
      "320\n",
      "\n",
      "\n"
     ]
    }
   ],
   "source": [
    "a = np.array([], dtype=np.int32)\n",
    "for i in range(10):\n",
    "    a = np.concatenate((a, i + np.arange(0, num_processed_examples, steps)))\n",
    "    print(a)\n",
    "    print(len(a))\n",
    "    print('\\n')"
   ]
  },
  {
   "cell_type": "code",
   "execution_count": 38,
   "metadata": {},
   "outputs": [
    {
     "data": {
      "text/plain": [
       "array([   0,  246,  492,  738,  984, 1230, 1476, 1722, 1968, 2214, 2460,\n",
       "       2706, 2952, 3198, 3444, 3690, 3936, 4182, 4428, 4674, 4920, 5166,\n",
       "       5412, 5658, 5904, 6150, 6396, 6642, 6888, 7134, 7380, 7626])"
      ]
     },
     "execution_count": 38,
     "metadata": {},
     "output_type": "execute_result"
    }
   ],
   "source": [
    "np.concatenate((np.empty((0,), dtype = np.int32), 0 +  np.arange(0, num_processed_examples, steps)))"
   ]
  },
  {
   "cell_type": "code",
   "execution_count": 39,
   "metadata": {},
   "outputs": [
    {
     "data": {
      "text/plain": [
       "7872"
      ]
     },
     "execution_count": 39,
     "metadata": {},
     "output_type": "execute_result"
    }
   ],
   "source": [
    "246*32"
   ]
  },
  {
   "cell_type": "code",
   "execution_count": 40,
   "metadata": {
    "colab": {
     "base_uri": "https://localhost:8080/"
    },
    "id": "4sVq9leBpV81",
    "outputId": "2dec56e9-21c9-41e0-c972-d754d3e877eb"
   },
   "outputs": [
    {
     "data": {
      "text/plain": [
       "7886"
      ]
     },
     "execution_count": 40,
     "metadata": {},
     "output_type": "execute_result"
    }
   ],
   "source": [
    "num_examples"
   ]
  },
  {
   "cell_type": "code",
   "execution_count": 41,
   "metadata": {
    "colab": {
     "base_uri": "https://localhost:8080/"
    },
    "id": "_0EZTCEkpYEg",
    "outputId": "598ee221-ad36-42fd-aa91-8eedc16e4d90"
   },
   "outputs": [
    {
     "data": {
      "text/plain": [
       "7872"
      ]
     },
     "execution_count": 41,
     "metadata": {},
     "output_type": "execute_result"
    }
   ],
   "source": [
    "num_processed_examples"
   ]
  },
  {
   "cell_type": "code",
   "execution_count": 42,
   "metadata": {
    "colab": {
     "base_uri": "https://localhost:8080/"
    },
    "id": "kmp1Xm8GpX5b",
    "outputId": "253e92e6-79c9-4416-8a71-1a091bdfa70b"
   },
   "outputs": [
    {
     "data": {
      "text/plain": [
       "246.0"
      ]
     },
     "execution_count": 42,
     "metadata": {},
     "output_type": "execute_result"
    }
   ],
   "source": [
    "num_processed_examples / 32"
   ]
  },
  {
   "cell_type": "code",
   "execution_count": 43,
   "metadata": {
    "colab": {
     "base_uri": "https://localhost:8080/"
    },
    "id": "hjBR8jK-rHWh",
    "outputId": "28f23e48-08f4-48aa-d198-8b2de3b7277a"
   },
   "outputs": [
    {
     "data": {
      "text/plain": [
       "(7872,)"
      ]
     },
     "execution_count": 43,
     "metadata": {},
     "output_type": "execute_result"
    }
   ],
   "source": [
    "inx.shape"
   ]
  },
  {
   "cell_type": "code",
   "execution_count": 44,
   "metadata": {
    "colab": {
     "base_uri": "https://localhost:8080/"
    },
    "id": "uQYkEPSzqhsT",
    "outputId": "dbe80a65-cd1e-4b4f-ffb5-80006f9b889a"
   },
   "outputs": [
    {
     "data": {
      "text/plain": [
       "array([   0,  246,  492, ..., 7379, 7625, 7871])"
      ]
     },
     "execution_count": 44,
     "metadata": {},
     "output_type": "execute_result"
    }
   ],
   "source": [
    "inx"
   ]
  },
  {
   "cell_type": "code",
   "execution_count": 45,
   "metadata": {
    "colab": {
     "base_uri": "https://localhost:8080/"
    },
    "id": "7cejjNlWrtWY",
    "outputId": "0b5b6422-bd4e-4a2c-8947-c72ef6a3c28a"
   },
   "outputs": [
    {
     "data": {
      "text/plain": [
       "(7872, 499)"
      ]
     },
     "execution_count": 45,
     "metadata": {},
     "output_type": "execute_result"
    }
   ],
   "source": [
    "input_seq_stateful.shape"
   ]
  },
  {
   "cell_type": "code",
   "execution_count": 46,
   "metadata": {
    "colab": {
     "base_uri": "https://localhost:8080/"
    },
    "id": "L8fwDEMMrujG",
    "outputId": "b87bffce-505c-4776-ea09-509c6220e93c"
   },
   "outputs": [
    {
     "data": {
      "text/plain": [
       "array([[ 0,  0,  0, ..., 24,  2,  5],\n",
       "       [ 0,  0,  0, ..., 24,  2,  5],\n",
       "       [ 0,  0,  0, ..., 12, 27,  2],\n",
       "       ...,\n",
       "       [ 0,  0,  0, ...,  9, 21,  8],\n",
       "       [ 0,  0,  0, ...,  5, 28, 12],\n",
       "       [ 0,  0,  0, ...,  8,  1, 14]])"
      ]
     },
     "execution_count": 46,
     "metadata": {},
     "output_type": "execute_result"
    }
   ],
   "source": [
    "input_seq"
   ]
  },
  {
   "cell_type": "code",
   "execution_count": 47,
   "metadata": {
    "colab": {
     "base_uri": "https://localhost:8080/"
    },
    "id": "-EZ_YFITr0vm",
    "outputId": "dab7ddfc-1397-42dd-8f42-77a53f205ef8"
   },
   "outputs": [
    {
     "data": {
      "text/plain": [
       "array([[ 0,  0,  0, ..., 24,  2,  5],\n",
       "       [ 0,  0,  0, ...,  1, 16,  4],\n",
       "       [ 0,  0,  0, ...,  1,  9,  4],\n",
       "       ...,\n",
       "       [ 0,  0,  0, ...,  9,  3, 10],\n",
       "       [ 0,  0,  0, ...,  1,  6,  2],\n",
       "       [ 0,  0,  0, ...,  8,  1, 14]])"
      ]
     },
     "execution_count": 47,
     "metadata": {},
     "output_type": "execute_result"
    }
   ],
   "source": [
    "input_seq_stateful"
   ]
  },
  {
   "cell_type": "markdown",
   "metadata": {
    "id": "Rm8gNoNJRfTT"
   },
   "source": [
    "#### Split the data into training and validation sets\n",
    "\n",
    "We will set aside approximately 20% of the data for validation."
   ]
  },
  {
   "cell_type": "code",
   "execution_count": 48,
   "metadata": {
    "id": "iiLWfyemRfTU"
   },
   "outputs": [],
   "source": [
    "# Create the training and validation splits\n",
    "\n",
    "num_train_examples = int(batch_size * ((0.8 * num_processed_examples) // batch_size))\n",
    "\n",
    "input_train = input_seq_stateful[:num_train_examples]\n",
    "target_train = target_seq_stateful[:num_train_examples]\n",
    "\n",
    "input_valid = input_seq_stateful[num_train_examples:]\n",
    "target_valid = target_seq_stateful[num_train_examples:]"
   ]
  },
  {
   "cell_type": "code",
   "execution_count": 49,
   "metadata": {
    "colab": {
     "base_uri": "https://localhost:8080/"
    },
    "id": "sPtbqzcmtDim",
    "outputId": "d6e9882a-f3f3-4cbe-f7f2-1dc08a23b53f"
   },
   "outputs": [
    {
     "data": {
      "text/plain": [
       "6297.6"
      ]
     },
     "execution_count": 49,
     "metadata": {},
     "output_type": "execute_result"
    }
   ],
   "source": [
    "0.8 * num_processed_examples"
   ]
  },
  {
   "cell_type": "code",
   "execution_count": 50,
   "metadata": {
    "colab": {
     "base_uri": "https://localhost:8080/"
    },
    "id": "CuMAR92hscJi",
    "outputId": "c04580c1-128e-49e9-9026-e4ea17bc24b5"
   },
   "outputs": [
    {
     "data": {
      "text/plain": [
       "196.0"
      ]
     },
     "execution_count": 50,
     "metadata": {},
     "output_type": "execute_result"
    }
   ],
   "source": [
    "0.8 * num_processed_examples// batch_size"
   ]
  },
  {
   "cell_type": "code",
   "execution_count": 51,
   "metadata": {
    "colab": {
     "base_uri": "https://localhost:8080/"
    },
    "id": "0vFFJy59sA7V",
    "outputId": "f74ea59e-3684-45fc-bf37-f2b728a000ee"
   },
   "outputs": [
    {
     "data": {
      "text/plain": [
       "6272"
      ]
     },
     "execution_count": 51,
     "metadata": {},
     "output_type": "execute_result"
    }
   ],
   "source": [
    "num_train_examples"
   ]
  },
  {
   "cell_type": "markdown",
   "metadata": {
    "id": "FQ_mAEoPRfTX"
   },
   "source": [
    "#### Create training and validation Dataset objects\n",
    "\n",
    "You should now write a function to take the training and validation input and target arrays, and create training and validation `tf.data.Dataset` objects. The function takes an input array and target array in the first two arguments, and the batch size in the third argument. Your function should do the following:\n",
    "\n",
    "* Create a `Dataset` using the `from_tensor_slices` static method, passing in a tuple of the input and output numpy arrays.\n",
    "* Batch the `Dataset` using the `batch_size` argument, setting `drop_remainder` to `True`. \n",
    "\n",
    "The function should then return the `Dataset` object."
   ]
  },
  {
   "cell_type": "code",
   "execution_count": 52,
   "metadata": {
    "id": "_DJAjEHKRfTY"
   },
   "outputs": [],
   "source": [
    "#### GRADED CELL ####\n",
    "\n",
    "# Complete the following function.\n",
    "# Make sure not to change the function name or arguments.\n",
    "\n",
    "def make_Dataset(input_array, target_array, batch_size):\n",
    "    \"\"\"\n",
    "    This function takes two 2D numpy arrays in the first two arguments, and an integer\n",
    "    batch_size in the third argument. It should create and return a Dataset object \n",
    "    using the two numpy arrays and batch size according to the above specification.\n",
    "    \"\"\"\n",
    "    dataset = tf.data.Dataset.from_tensor_slices((input_array, target_array))\n",
    "    dataset = dataset.batch(batch_size, drop_remainder = True)\n",
    "    return dataset\n",
    "    \n",
    "    "
   ]
  },
  {
   "cell_type": "code",
   "execution_count": 53,
   "metadata": {
    "id": "rzqK_qVARfTc"
   },
   "outputs": [],
   "source": [
    "# Create the training and validation Datasets\n",
    "\n",
    "train_data = make_Dataset(input_train, target_train, batch_size)\n",
    "valid_data = make_Dataset(input_valid, target_valid, batch_size)"
   ]
  },
  {
   "cell_type": "code",
   "execution_count": 54,
   "metadata": {
    "colab": {
     "base_uri": "https://localhost:8080/"
    },
    "id": "VgEyLt0R25WF",
    "outputId": "7f6a3f46-67cc-42e7-ca26-fea763dfc13b"
   },
   "outputs": [
    {
     "data": {
      "text/plain": [
       "<BatchDataset shapes: ((32, 499), (32, 499)), types: (tf.int32, tf.int32)>"
      ]
     },
     "execution_count": 54,
     "metadata": {},
     "output_type": "execute_result"
    }
   ],
   "source": [
    "train_data"
   ]
  },
  {
   "cell_type": "code",
   "execution_count": 55,
   "metadata": {
    "colab": {
     "base_uri": "https://localhost:8080/"
    },
    "id": "I6D96J5Z28Y0",
    "outputId": "f5dbce52-22a8-4aa8-ac42-f2eea0066d8d"
   },
   "outputs": [
    {
     "data": {
      "text/plain": [
       "<BatchDataset shapes: ((32, 499), (32, 499)), types: (tf.int32, tf.int32)>"
      ]
     },
     "execution_count": 55,
     "metadata": {},
     "output_type": "execute_result"
    }
   ],
   "source": [
    "valid_data"
   ]
  },
  {
   "cell_type": "markdown",
   "metadata": {
    "id": "IKfaWcCCRfTf"
   },
   "source": [
    "#### Build the recurrent neural network model"
   ]
  },
  {
   "cell_type": "markdown",
   "metadata": {
    "id": "KcPyteqDRfTh"
   },
   "source": [
    "You are now ready to build your RNN character-level language model. You should write the following function to build the model; the function takes arguments for the batch size and vocabulary size (number of tokens). Using the Sequential API, your function should build your model according to the following specifications:\n",
    "\n",
    "* The first layer should be an Embedding layer with an embedding dimension of 256 and set the vocabulary size to `vocab_size` from the function argument.\n",
    "* The Embedding layer should also mask the zero padding in the input sequences.\n",
    "* The Embedding layer should also set the `batch_input_shape` to `(batch_size, None)` (a fixed batch size is required for stateful RNNs).\n",
    "* The next layer should be a (uni-directional) GRU layer with 1024 units, set to be a stateful RNN layer.\n",
    "* The GRU layer should return the full sequence, instead of just the output state at the final time step.\n",
    "* The final layer should be a Dense layer with `vocab_size` units and no activation function.\n",
    "\n",
    "In total, the network should have 3 layers."
   ]
  },
  {
   "cell_type": "code",
   "execution_count": 56,
   "metadata": {
    "id": "tUypwAJjqRGq"
   },
   "outputs": [],
   "source": [
    "from tensorflow.keras.layers import Embedding, GRU, LSTM, Flatten, GlobalAveragePooling1D"
   ]
  },
  {
   "cell_type": "code",
   "execution_count": 81,
   "metadata": {
    "id": "oauekqOSRfTi"
   },
   "outputs": [],
   "source": [
    "#### GRADED CELL ####\n",
    "\n",
    "# Complete the following function.\n",
    "# Make sure not to change the function name or arguments.\n",
    "\n",
    "def get_model(vocab_size, batch_size):\n",
    "    \"\"\"\n",
    "    This function takes a vocabulary size and batch size, and builds and returns a \n",
    "    Sequential model according to the above specification.\n",
    "    \"\"\"\n",
    "    model = Sequential([\n",
    "            Embedding(vocab_size, 256, mask_zero= True, batch_input_shape = (batch_size, None)),\n",
    "            GRU(1024, stateful= True, return_sequences= True),\n",
    "            Dense(vocab_size)\n",
    "    ])\n",
    "    return model\n",
    "\n",
    "    \n",
    "    "
   ]
  },
  {
   "cell_type": "code",
   "execution_count": 82,
   "metadata": {},
   "outputs": [
    {
     "data": {
      "text/plain": [
       "64"
      ]
     },
     "execution_count": 82,
     "metadata": {},
     "output_type": "execute_result"
    }
   ],
   "source": [
    "len(tokenizer.word_index)"
   ]
  },
  {
   "cell_type": "code",
   "execution_count": 83,
   "metadata": {
    "colab": {
     "base_uri": "https://localhost:8080/"
    },
    "id": "AmmEfYo-RfTl",
    "outputId": "9a91e6ba-970a-4892-dd99-f2743db6cead"
   },
   "outputs": [
    {
     "name": "stdout",
     "output_type": "stream",
     "text": [
      "Model: \"sequential_4\"\n",
      "_________________________________________________________________\n",
      "Layer (type)                 Output Shape              Param #   \n",
      "=================================================================\n",
      "embedding_4 (Embedding)      (32, None, 256)           16640     \n",
      "_________________________________________________________________\n",
      "gru (GRU)                    (32, None, 1024)          3938304   \n",
      "_________________________________________________________________\n",
      "dense_4 (Dense)              (32, None, 65)            66625     \n",
      "=================================================================\n",
      "Total params: 4,021,569\n",
      "Trainable params: 4,021,569\n",
      "Non-trainable params: 0\n",
      "_________________________________________________________________\n"
     ]
    }
   ],
   "source": [
    "# Build the model and print the model summary\n",
    "\n",
    "model = get_model(len(tokenizer.word_index) +1, batch_size)\n",
    "model.summary()"
   ]
  },
  {
   "cell_type": "markdown",
   "metadata": {
    "id": "4PJ4cU0YRfTo"
   },
   "source": [
    "#### Compile and train the model\n",
    "\n",
    "You are now ready to compile and train the model. For this model and dataset, the training time is very long. Therefore for this assignment it is not a requirement to train the model. We have pre-trained a model for you (using the code below) and saved the model weights, which can be loaded to get the model predictions. \n",
    "\n",
    "It is recommended to use accelerator hardware (e.g. using Colab) when training this model. It would also be beneficial to increase the size of the model, e.g. by stacking extra recurrent layers."
   ]
  },
  {
   "cell_type": "code",
   "execution_count": 60,
   "metadata": {
    "id": "62k8AD8eRfTp"
   },
   "outputs": [],
   "source": [
    "# Choose whether to train a new model or load the pre-trained model\n",
    "\n",
    "skip_training = True"
   ]
  },
  {
   "cell_type": "code",
   "execution_count": 61,
   "metadata": {
    "colab": {
     "base_uri": "https://localhost:8080/",
     "height": 380
    },
    "id": "DJhnIUHSRfTt",
    "outputId": "305ef53a-bbe5-4dc4-baf2-3e6fb9bafd0d"
   },
   "outputs": [],
   "source": [
    "# Compile and train the model, or load pre-trained weights\n",
    "\n",
    "if not skip_training:\n",
    "    checkpoint_callback=tf.keras.callbacks.ModelCheckpoint(filepath='./models/ckpt',\n",
    "                                                           save_weights_only=True,\n",
    "                                                           save_best_only=True)\n",
    "    model.compile(optimizer='adam', loss=tf.keras.losses.SparseCategoricalCrossentropy(from_logits=True),\n",
    "                  metrics=['sparse_categorical_accuracy'])\n",
    "    history = model.fit(train_data, epochs=15, validation_data=valid_data, \n",
    "                        validation_steps=50, callbacks=[checkpoint_callback])"
   ]
  },
  {
   "cell_type": "code",
   "execution_count": 84,
   "metadata": {
    "colab": {
     "base_uri": "https://localhost:8080/",
     "height": 217
    },
    "id": "yqjTlQyoRfTx",
    "outputId": "f9f0b102-634e-4b1f-b103-cab84dd8f127"
   },
   "outputs": [],
   "source": [
    "# Save model history as a json file, or load it if using pre-trained weights\n",
    "\n",
    "if not skip_training:\n",
    "    history_dict = dict()\n",
    "    for k, v in history.history.items():\n",
    "        history_dict[k] = [float(val) for val in history.history[k]]\n",
    "    with open('models/history.json', 'w+') as json_file:\n",
    "        json.dump(history_dict, json_file, sort_keys=True, indent=4)\n",
    "else:\n",
    "    with open('models/history.json', 'r') as json_file:\n",
    "        history_dict = json.load(json_file)"
   ]
  },
  {
   "cell_type": "markdown",
   "metadata": {
    "id": "upDpsmf9RfT2"
   },
   "source": [
    "#### Plot the learning curves"
   ]
  },
  {
   "cell_type": "code",
   "execution_count": 63,
   "metadata": {
    "id": "gGpPk5bbRfT3"
   },
   "outputs": [
    {
     "data": {
      "image/png": "[encoded data removed]",
      "text/plain": [
       "<Figure size 1080x360 with 2 Axes>"
      ]
     },
     "metadata": {
      "needs_background": "light"
     },
     "output_type": "display_data"
    }
   ],
   "source": [
    "# Run this cell to plot accuracy vs epoch and loss vs epoch\n",
    "\n",
    "plt.figure(figsize=(15,5))\n",
    "plt.subplot(121)\n",
    "plt.plot(history_dict['sparse_categorical_accuracy'])\n",
    "plt.plot(history_dict['val_sparse_categorical_accuracy'])\n",
    "plt.title('Accuracy vs. epochs')\n",
    "plt.ylabel('Accuracy')\n",
    "plt.xlabel('Epoch')\n",
    "plt.xticks(np.arange(len(history_dict['sparse_categorical_accuracy'])))\n",
    "ax = plt.gca()\n",
    "ax.set_xticklabels(1 + np.arange(len(history_dict['sparse_categorical_accuracy'])))\n",
    "plt.legend(['Training', 'Validation'], loc='lower right')\n",
    "\n",
    "plt.subplot(122)\n",
    "plt.plot(history_dict['loss'])\n",
    "plt.plot(history_dict['val_loss'])\n",
    "plt.title('Loss vs. epochs')\n",
    "plt.ylabel('Loss')\n",
    "plt.xlabel('Epoch')\n",
    "plt.xticks(np.arange(len(history_dict['sparse_categorical_accuracy'])))\n",
    "ax = plt.gca()\n",
    "ax.set_xticklabels(1 + np.arange(len(history_dict['sparse_categorical_accuracy'])))\n",
    "plt.legend(['Training', 'Validation'], loc='upper right')\n",
    "plt.show() "
   ]
  },
  {
   "cell_type": "markdown",
   "metadata": {
    "id": "2msBeLSoRfT7"
   },
   "source": [
    "#### Write a text generation algorithm\n",
    "\n",
    "You can now use the model to generate text! In order to generate a single text sequence, the model needs to be rebuilt with a batch size of 1."
   ]
  },
  {
   "cell_type": "code",
   "execution_count": 85,
   "metadata": {
    "id": "zzQW69qxRfT_"
   },
   "outputs": [
    {
     "name": "stdout",
     "output_type": "stream",
     "text": [
      "WARNING:tensorflow:Inconsistent references when loading the checkpoint into this object graph. Either the Trackable object references in the Python program have changed in an incompatible way, or the checkpoint was generated in an incompatible program.\n",
      "\n",
      "Two checkpoint references resolved to different objects (<keras.layers.embeddings.Embedding object at 0x00000240855E47C0> and <keras.layers.recurrent_v2.GRU object at 0x00000240855E41F0>).\n",
      "WARNING:tensorflow:Inconsistent references when loading the checkpoint into this object graph. Either the Trackable object references in the Python program have changed in an incompatible way, or the checkpoint was generated in an incompatible program.\n",
      "\n",
      "Two checkpoint references resolved to different objects (<keras.layers.recurrent_v2.GRU object at 0x00000240855E41F0> and <keras.layers.core.Dense object at 0x00000240855E40A0>).\n"
     ]
    },
    {
     "data": {
      "text/plain": [
       "<tensorflow.python.training.tracking.util.CheckpointLoadStatus at 0x240855e8f10>"
      ]
     },
     "execution_count": 85,
     "metadata": {},
     "output_type": "execute_result"
    }
   ],
   "source": [
    "# Re-build the model and load the saved weights\n",
    "\n",
    "model = get_model(len(tokenizer.word_index) + 1, batch_size=1)\n",
    "model.load_weights(tf.train.latest_checkpoint('./models/'))"
   ]
  },
  {
   "cell_type": "markdown",
   "metadata": {
    "id": "TM3LHQAgRfUD"
   },
   "source": [
    "An algorithm to generate text is as follows:\n",
    "\n",
    "1. Specify a seed string (e.g. `'ROMEO:'`) to get the network started, and a define number of characters for the model to generate, `num_generation_steps`.\n",
    "2. Tokenize this sentence to obtain a list containing one list of the integer tokens.\n",
    "3. Reset the initial state of the network. \n",
    "4. Convert the token list into a Tensor (or numpy array) and pass it to your model as a batch of size one.\n",
    "5. Get the model prediction (logits) for the last time step and extract the state of the recurrent layer.\n",
    "6. Use the logits to construct a categorical distribution and sample a token from it.\n",
    "7. Repeat the following for `num_generation_steps - 1` steps:\n",
    "\n",
    "    1. Use the saved state of the recurrent layer and the last sampled token to get new logit predictions\n",
    "    2. Use the logits to construct a new categorical distribution and sample a token from it.\n",
    "    3. Save the updated state of the recurrent layer.    \n",
    "\n",
    "8. Take the final list of tokens and convert to text using the Tokenizer.\n",
    "\n",
    "Note that the internal state of the recurrent layer can be accessed using the `states` property. For the GRU layer, it is a list of one variable:"
   ]
  },
  {
   "cell_type": "code",
   "execution_count": 67,
   "metadata": {
    "id": "DDbzdt0LRfUE"
   },
   "outputs": [
    {
     "data": {
      "text/plain": [
       "[<tf.Variable 'gru_stateful/Variable:0' shape=(1, 1024) dtype=float32, numpy=array([[0., 0., 0., ..., 0., 0., 0.]], dtype=float32)>]"
      ]
     },
     "execution_count": 67,
     "metadata": {},
     "output_type": "execute_result"
    }
   ],
   "source": [
    "# Inspect the model's current recurrent state\n",
    "\n",
    "model.layers[1].states"
   ]
  },
  {
   "cell_type": "code",
   "execution_count": 72,
   "metadata": {},
   "outputs": [
    {
     "data": {
      "text/plain": [
       "[<tf.Variable 'gru_stateful/Variable:0' shape=(1, 1024) dtype=float32, numpy=array([[0., 0., 0., ..., 0., 0., 0.]], dtype=float32)>]"
      ]
     },
     "execution_count": 72,
     "metadata": {},
     "output_type": "execute_result"
    }
   ],
   "source": [
    "model.get_layer('gru_stateful').states"
   ]
  },
  {
   "cell_type": "markdown",
   "metadata": {
    "id": "2KvmtkvrRfUI"
   },
   "source": [
    "We will break the algorithm down into two steps. First, you should now complete the following function that takes a sequence of tokens of any length and returns the model's prediction (the logits) for the last time step. The specification is as follows:\n",
    "\n",
    "* The token sequence will be a python list, containing one list of integer tokens, e.g. `[[1, 2, 3, 4]]`\n",
    "* The function should convert the list into a 2D Tensor or numpy array\n",
    "* If the function argument `initial_state` is `None`, then the function should reset the state of the recurrent layer to zeros.\n",
    "* Otherwise, if the function argument `initial_state` is a 2D Tensor or numpy array, assign the value of the internal state of the GRU layer to this argument.\n",
    "* Get the model's prediction (logits) for the last time step only.\n",
    "\n",
    "The function should then return the logits as a 2D numpy array, where the first dimension is equal to 1 (batch size).\n",
    "\n",
    "**Hint:** the internal state of the recurrent can be reset to zeros using the `reset_states` method."
   ]
  },
  {
   "cell_type": "code",
   "execution_count": 86,
   "metadata": {
    "id": "3aHg6y44RfUJ"
   },
   "outputs": [],
   "source": [
    "#### GRADED CELL ####\n",
    "\n",
    "# Complete the following function.\n",
    "# Make sure not to change the function name or arguments.\n",
    "\n",
    "def get_logits(model, token_sequence, initial_state=None):\n",
    "    \"\"\"\n",
    "    This function takes a model object, a token sequence and an optional initial\n",
    "    state for the recurrent layer. The function should return the logits prediction\n",
    "    for the final time step as a 2D numpy array.\n",
    "    \"\"\"\n",
    "    token_sequence = np.array(token_sequence)\n",
    "    if initial_state is None:\n",
    "        model.layers[1].reset_states()\n",
    "    else:\n",
    "        model.layers[1].reset_states(states = initial_state)\n",
    "    prediction = model.predict(token_sequence)\n",
    "    pred_last = prediction[0, -1, :]\n",
    "    return np.expand_dims(pred_last, 0)\n",
    "    \n",
    "    \n",
    "    "
   ]
  },
  {
   "cell_type": "code",
   "execution_count": 87,
   "metadata": {
    "id": "La2CNRzqRfUN",
    "scrolled": true
   },
   "outputs": [
    {
     "data": {
      "text/plain": [
       "array([[-6.9925365 ,  1.4556051 ,  1.0321405 ,  2.8077443 ,  3.5786397 ,\n",
       "        -0.52930534, -5.514953  ,  3.2020104 ,  7.899821  ,  3.7389245 ,\n",
       "         3.3236823 ,  0.45386034,  3.710796  ,  1.0530921 ,  4.440876  ,\n",
       "         5.338029  , -0.92716163, -0.0764707 ,  3.0653694 , -0.18663046,\n",
       "         3.2825305 , -0.5872105 , -8.903613  , -1.1651022 ,  3.4669793 ,\n",
       "        -1.354363  , -8.128687  ,  0.9908344 , -0.19141316, -3.1248577 ,\n",
       "         1.4933392 , -5.705172  , -7.181185  , -2.9961169 , -3.9349775 ,\n",
       "        -4.741759  , -6.524552  , -6.2391357 , -3.4991548 , -4.2099524 ,\n",
       "        -6.738851  , -7.2057095 , -5.806171  , -3.3677242 , -3.176132  ,\n",
       "        -6.770037  , -2.837829  , -6.991     , -0.8980004 , -7.4625654 ,\n",
       "        -4.451502  , -5.864482  , -7.9080176 , -6.5596433 , -5.143383  ,\n",
       "        -0.82705474,  0.51696557, -2.4826221 , -6.9937005 , -5.7093863 ,\n",
       "        -3.2895062 , -2.1675594 , -5.5908737 , -5.332512  , -4.4342504 ]],\n",
       "      dtype=float32)"
      ]
     },
     "execution_count": 87,
     "metadata": {},
     "output_type": "execute_result"
    }
   ],
   "source": [
    "# Test the get_logits function by passing a dummy token sequence\n",
    "\n",
    "dummy_initial_state = tf.random.normal(model.layers[1].states[0].shape)\n",
    "get_logits(model, [[1, 2, 3, 4]], initial_state=dummy_initial_state)"
   ]
  },
  {
   "cell_type": "markdown",
   "metadata": {
    "id": "KcMB8Yv5RfUQ"
   },
   "source": [
    "You should now write a function that takes a logits prediction similar to the above, uses it to create a categorical distribution, and samples a token from this distribution. The following function takes a 2D numpy array `logits` as an argument, and should return a single integer prediction that is sampled from the categorical distribution. \n",
    "\n",
    "**Hint:** you might find the `tf.random.categorical` function useful for this; see the documentation [here](https://www.tensorflow.org/api_docs/python/tf/random/categorical)."
   ]
  },
  {
   "cell_type": "code",
   "execution_count": 75,
   "metadata": {
    "id": "LObVBMdzRfUS"
   },
   "outputs": [],
   "source": [
    "#### GRADED CELL ####\n",
    "\n",
    "# Complete the following function.\n",
    "# Make sure not to change the function name or arguments.\n",
    "\n",
    "def sample_token(logits):\n",
    "    \"\"\"\n",
    "    This function takes a 2D numpy array as an input, and constructs a \n",
    "    categorical distribution using it. It should then sample from this\n",
    "    distribution and return the sample as a single integer.\n",
    "    \"\"\"\n",
    "    return int(tf.random.categorical(logits, 1))\n",
    "    \n",
    "    "
   ]
  },
  {
   "cell_type": "code",
   "execution_count": 76,
   "metadata": {
    "id": "MrgPsuOYRfUV"
   },
   "outputs": [
    {
     "data": {
      "text/plain": [
       "8"
      ]
     },
     "execution_count": 76,
     "metadata": {},
     "output_type": "execute_result"
    }
   ],
   "source": [
    "# Test the sample_token function by passing dummy logits\n",
    "\n",
    "dummy_initial_state = tf.random.normal(model.layers[1].states[0].shape)\n",
    "dummy_logits = get_logits(model, [[1, 2, 3, 4]], initial_state=dummy_initial_state)\n",
    "sample_token(dummy_logits)"
   ]
  },
  {
   "cell_type": "code",
   "execution_count": 77,
   "metadata": {},
   "outputs": [
    {
     "data": {
      "text/plain": [
       "(1, 65)"
      ]
     },
     "execution_count": 77,
     "metadata": {},
     "output_type": "execute_result"
    }
   ],
   "source": [
    "dummy_logits.shape"
   ]
  },
  {
   "cell_type": "code",
   "execution_count": 78,
   "metadata": {
    "id": "Q23e4MNpRfUY"
   },
   "outputs": [
    {
     "name": "stdout",
     "output_type": "stream",
     "text": [
      "63 33\n"
     ]
    },
    {
     "data": {
      "text/plain": [
       "True"
      ]
     },
     "execution_count": 78,
     "metadata": {},
     "output_type": "execute_result"
    }
   ],
   "source": [
    "logits_size = dummy_logits.shape[1]\n",
    "dummy_logits = -np.inf*np.ones((1, logits_size))\n",
    "dummy_logits[0, 20] = 0\n",
    "sample_token(dummy_logits)\n",
    "random_inx = np.random.choice(logits_size, 2, replace=False)\n",
    "random_inx1, random_inx2 = random_inx[0], random_inx[1]\n",
    "print(random_inx1, random_inx2)\n",
    "dummy_logits = -np.inf*np.ones((1, logits_size))\n",
    "dummy_logits[0, random_inx1] = 0\n",
    "dummy_logits[0, random_inx2] = 0\n",
    "sampled_token = []\n",
    "for _ in range(100):\n",
    "    sampled_token.append(sample_token(dummy_logits))\n",
    "    \n",
    "l_tokens, l_counts = np.unique(np.array(sampled_token), return_counts=True)\n",
    "len(l_tokens) == 2"
   ]
  },
  {
   "cell_type": "markdown",
   "metadata": {
    "id": "7A0FOxOTRfUc"
   },
   "source": [
    "#### Generate text from the model\n",
    "\n",
    "You are now ready to generate text from the model!"
   ]
  },
  {
   "cell_type": "code",
   "execution_count": 79,
   "metadata": {
    "id": "KgXNTiaYRfUd"
   },
   "outputs": [],
   "source": [
    "# Create a seed string and number of generation steps\n",
    "\n",
    "init_string = 'ROMEO:'\n",
    "num_generation_steps = 1000"
   ]
  },
  {
   "cell_type": "code",
   "execution_count": 80,
   "metadata": {
    "id": "6jm4JeyyRfUf"
   },
   "outputs": [
    {
     "name": "stdout",
     "output_type": "stream",
     "text": [
      "ROMEO:\n",
      "Ad it revolty, I will rise a bawdy unwon\n",
      "The house men in the Duke of York and minister!\n",
      "Hath then at this him on't to Bianca with the late\n",
      "Of all the end of this cursts, a frowns,\n",
      "To be shew the senate, good my still, be spent;\n",
      "Upon his highness in this, but the outraget?\n",
      "\n",
      "KATHANANIA:\n",
      "Yet possible patience as a bed; and for us to him;\n",
      "For she is disperaced in the offiteron,\n",
      "And hardest mount upon me: gain I were all\n",
      "daughter on the cause? Or look the and that lawful raise\n",
      "And yet that calls upon you, stand baliast\n",
      "That go pard on, after, our own pardon:\n",
      "See that much lived in the sea, or end thy sweet:\n",
      "By the sudden aped limit all;\n",
      "I see a happy faws: but either quick\n",
      "O, fit too unstall'd my fair Baptistle;\n",
      "For cause, look company, and there it may false prince\n",
      "Fit to min that babe's breed, and the rest off from him:\n",
      "With some offence by his chargened body\n",
      "And what can too make speak as mine attempt return\n",
      "by our and lament, Jelusutiful,\n",
      "The bawder men of my son, for thus shalt,\n",
      "So d\n"
     ]
    }
   ],
   "source": [
    "# Use the model to generate a token sequence\n",
    "\n",
    "token_sequence = tokenizer.texts_to_sequences([init_string])\n",
    "initial_state = None\n",
    "input_sequence = token_sequence\n",
    "\n",
    "for _ in range(num_generation_steps):\n",
    "    logits = get_logits(model, input_sequence, initial_state=initial_state)\n",
    "    sampled_token = sample_token(logits)\n",
    "    token_sequence[0].append(sampled_token)\n",
    "    input_sequence = [[sampled_token]]\n",
    "    initial_state = model.layers[1].states[0].numpy()\n",
    "    \n",
    "print(tokenizer.sequences_to_texts(token_sequence)[0][::2])"
   ]
  },
  {
   "cell_type": "markdown",
   "metadata": {
    "id": "O9mUfLUyRfUl"
   },
   "source": [
    "Congratulations for completing this programming assignment! In the next week of the course we will see how to build customised models and layers, and make custom training loops."
   ]
  }
 ],
 "metadata": {
  "colab": {
   "collapsed_sections": [],
   "name": "Bản sao của Week 3 Programming Assignment.ipynb",
   "provenance": []
  },
  "coursera": {
   "course_slug": "tensor-flow-2-2",
   "graded_item_id": "4eYSM",
   "launcher_item_id": "HEV6h"
  },
  "kernelspec": {
   "display_name": "Python 3",
   "language": "python",
   "name": "python3"
  },
  "language_info": {
   "codemirror_mode": {
    "name": "ipython",
    "version": 3
   },
   "file_extension": ".py",
   "mimetype": "text/x-python",
   "name": "python",
   "nbconvert_exporter": "python",
   "pygments_lexer": "ipython3",
   "version": "3.8.8"
  }
 },
 "nbformat": 4,
 "nbformat_minor": 1
}
