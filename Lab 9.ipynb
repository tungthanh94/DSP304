{
 "cells": [
  {
   "cell_type": "code",
   "execution_count": 2,
   "metadata": {
    "colab": {
     "base_uri": "https://localhost:8080/"
    },
    "id": "PYe1g01ZXq-Q",
    "outputId": "888891a3-1391-4cea-99ad-0db56377044e",
    "scrolled": true
   },
   "outputs": [
    {
     "name": "stdout",
     "output_type": "stream",
     "text": [
      "2.7.0\n"
     ]
    }
   ],
   "source": [
    "import tensorflow as tf\n",
    "print(tf.__version__)"
   ]
  },
  {
   "cell_type": "markdown",
   "metadata": {
    "id": "xFFJFHWPXq-Y"
   },
   "source": [
    "# Validation, regularisation and callbacks"
   ]
  },
  {
   "cell_type": "markdown",
   "metadata": {
    "id": "JOvHKvEvXq-b"
   },
   "source": [
    " ## Coding tutorials\n",
    " #### [1. Validation sets](#coding_tutorial_1)\n",
    " #### [2. Model regularisation](#coding_tutorial_2)\n",
    " #### [3. Introduction to callbacks](#coding_tutorial_3)\n",
    " #### [4. Early stopping / patience](#coding_tutorial_4)"
   ]
  },
  {
   "cell_type": "markdown",
   "metadata": {
    "id": "0pXJX8h0Xq-d"
   },
   "source": [
    "***\n",
    "<a id=\"coding_tutorial_1\"></a>\n",
    "## Validation sets"
   ]
  },
  {
   "cell_type": "markdown",
   "metadata": {
    "id": "MZTPzL9XXq-e"
   },
   "source": [
    "#### Load the data"
   ]
  },
  {
   "cell_type": "code",
   "execution_count": 3,
   "metadata": {
    "colab": {
     "base_uri": "https://localhost:8080/"
    },
    "id": "ePyJVI8_Xq-f",
    "outputId": "17df1080-83e6-4297-967b-6f4cac3b69f5"
   },
   "outputs": [
    {
     "name": "stdout",
     "output_type": "stream",
     "text": [
      ".. _diabetes_dataset:\n",
      "\n",
      "Diabetes dataset\n",
      "----------------\n",
      "\n",
      "Ten baseline variables, age, sex, body mass index, average blood\n",
      "pressure, and six blood serum measurements were obtained for each of n =\n",
      "442 diabetes patients, as well as the response of interest, a\n",
      "quantitative measure of disease progression one year after baseline.\n",
      "\n",
      "**Data Set Characteristics:**\n",
      "\n",
      "  :Number of Instances: 442\n",
      "\n",
      "  :Number of Attributes: First 10 columns are numeric predictive values\n",
      "\n",
      "  :Target: Column 11 is a quantitative measure of disease progression one year after baseline\n",
      "\n",
      "  :Attribute Information:\n",
      "      - age     age in years\n",
      "      - sex\n",
      "      - bmi     body mass index\n",
      "      - bp      average blood pressure\n",
      "      - s1      tc, total serum cholesterol\n",
      "      - s2      ldl, low-density lipoproteins\n",
      "      - s3      hdl, high-density lipoproteins\n",
      "      - s4      tch, total cholesterol / HDL\n",
      "      - s5      ltg, possibly log of serum triglycerides level\n",
      "      - s6      glu, blood sugar level\n",
      "\n",
      "Note: Each of these 10 feature variables have been mean centered and scaled by the standard deviation times `n_samples` (i.e. the sum of squares of each column totals 1).\n",
      "\n",
      "Source URL:\n",
      "https://www4.stat.ncsu.edu/~boos/var.select/diabetes.html\n",
      "\n",
      "For more information see:\n",
      "Bradley Efron, Trevor Hastie, Iain Johnstone and Robert Tibshirani (2004) \"Least Angle Regression,\" Annals of Statistics (with discussion), 407-499.\n",
      "(https://web.stanford.edu/~hastie/Papers/LARS/LeastAngle_2002.pdf)\n"
     ]
    }
   ],
   "source": [
    "# Load the diabetes dataset\n",
    "from sklearn.datasets import load_diabetes\n",
    "\n",
    "diabetes_dataset = load_diabetes()\n",
    "print(diabetes_dataset['DESCR'])\n"
   ]
  },
  {
   "cell_type": "code",
   "execution_count": 4,
   "metadata": {
    "colab": {
     "base_uri": "https://localhost:8080/"
    },
    "id": "DLNwzyznXq-g",
    "outputId": "bb6bf89d-d31c-4192-e1f9-8b68471f8272"
   },
   "outputs": [
    {
     "name": "stdout",
     "output_type": "stream",
     "text": [
      "dict_keys(['data', 'target', 'frame', 'DESCR', 'feature_names', 'data_filename', 'target_filename', 'data_module'])\n"
     ]
    }
   ],
   "source": [
    "# Save the input and target variables\n",
    "print(diabetes_dataset.keys())\n",
    "data = diabetes_dataset['data']\n",
    "target = diabetes_dataset['target']"
   ]
  },
  {
   "cell_type": "code",
   "execution_count": 5,
   "metadata": {
    "id": "x54Kr-zYXq-i"
   },
   "outputs": [],
   "source": [
    "# Normalise the target data (this will make clearer training curves)\n",
    "target = (target - target.mean())/target.std()\n"
   ]
  },
  {
   "cell_type": "code",
   "execution_count": 6,
   "metadata": {
    "colab": {
     "base_uri": "https://localhost:8080/"
    },
    "id": "Ti-Yupelk4d-",
    "outputId": "f4cec828-d8c0-4064-eb6c-d33893b0f558"
   },
   "outputs": [
    {
     "data": {
      "text/plain": [
       "array([-1.47194752e-02, -1.00165882e+00, -1.44579915e-01,  6.99512942e-01,\n",
       "       -2.22496178e-01, -7.15965848e-01, -1.83538046e-01, -1.15749134e+00,\n",
       "       -5.47147277e-01,  2.05006151e+00, -6.64021672e-01, -1.07957508e+00,\n",
       "        3.48889755e-01,  4.26806019e-01, -4.43258925e-01,  2.45001404e-01,\n",
       "        1.80071184e-01, -1.05621783e-01, -7.15965848e-01,  2.06043272e-01,\n",
       "       -1.09256112e+00, -1.33929596e+00, -1.09256112e+00,  1.20596866e+00,\n",
       "        4.13819975e-01,  6.47568766e-01, -1.96524090e-01, -8.71798376e-01,\n",
       "       -2.74440354e-01,  1.69943833e+00, -3.00412442e-01, -1.20943552e+00,\n",
       "        2.45262887e+00, -8.45826288e-01, -1.13151925e+00, -6.51035629e-01,\n",
       "        1.46568953e+00,  1.60853602e+00,  1.29687096e+00, -8.06868156e-01,\n",
       "       -6.77007716e-01, -1.26137969e+00, -1.18346343e+00, -7.80896068e-01,\n",
       "        1.38777327e+00, -1.28735178e+00,  4.91736239e-01, -1.31593871e-01,\n",
       "       -1.00165882e+00, -1.31593871e-01,  3.72247006e-02,  9.46247777e-01,\n",
       "       -1.20943552e+00, -6.25063541e-01,  3.87847887e-01, -3.13398486e-01,\n",
       "       -1.30033783e+00, -1.49512849e+00,  2.32015360e-01,  2.32015360e-01,\n",
       "       -1.18346343e+00, -1.05621783e-01, -1.30033783e+00, -3.13398486e-01,\n",
       "       -1.05360299e+00,  1.41113052e-01, -2.77055191e-02, -7.15965848e-01,\n",
       "        1.02154920e-01,  3.35903711e-01, -1.35228200e+00,  1.53061975e+00,\n",
       "        6.47568766e-01, -5.34161233e-01, -8.71798376e-01, -1.43019827e+00,\n",
       "        2.32015360e-01,  6.21596678e-01,  1.29687096e+00, -5.08189145e-01,\n",
       "       -1.18607827e-01, -1.31332387e+00, -1.30033783e+00,  7.51457118e-01,\n",
       "       -1.13151925e+00, -1.44579915e-01, -1.26137969e+00, -2.35482222e-01,\n",
       "       -1.43019827e+00, -5.34161233e-01, -7.02979804e-01,  1.54099096e-01,\n",
       "       -1.35228200e+00, -7.28951892e-01, -8.06868156e-01,  1.28127008e-01,\n",
       "       -2.77055191e-02,  1.64749415e+00, -7.80896068e-01, -8.97770464e-01,\n",
       "       -3.13398486e-01, -6.51035629e-01,  1.94617316e+00,  5.95624590e-01,\n",
       "       -7.41937936e-01, -1.28735178e+00, -2.35482222e-01, -1.05621783e-01,\n",
       "        1.03715008e+00, -9.23742551e-01, -6.25063541e-01, -1.20943552e+00,\n",
       "        1.21895470e+00,  1.88124294e+00,  1.37478723e+00,  9.98191953e-01,\n",
       "        1.59554997e+00,  1.67346624e+00,  3.48889755e-01,  6.21596678e-01,\n",
       "        6.21596678e-01,  2.70973492e-01,  3.61875799e-01, -8.84784420e-01,\n",
       "       -4.04300794e-01,  1.15140964e-01, -6.89993760e-01, -5.60133321e-01,\n",
       "       -4.82217057e-01,  1.50464767e+00,  1.58256393e+00,  7.61828325e-02,\n",
       "       -5.86105409e-01, -8.97770464e-01, -6.38049585e-01,  1.55659184e+00,\n",
       "       -8.71798376e-01,  1.66048019e+00,  2.38769865e+00,  1.67346624e+00,\n",
       "       -4.43258925e-01,  2.14096382e+00,  1.07610822e+00, -1.19644947e+00,\n",
       "        2.83959536e-01,  1.38777327e+00,  3.35903711e-01, -3.13398486e-01,\n",
       "       -7.28951892e-01, -3.39370574e-01,  1.76436855e+00, -8.32840244e-01,\n",
       "        1.81631272e+00, -1.05360299e+00,  5.82638546e-01,  4.39792063e-01,\n",
       "       -1.65096101e+00, -8.84784420e-01, -7.28951892e-01,  5.56666458e-01,\n",
       "       -1.28735178e+00,  8.42359425e-01,  2.57987448e-01, -2.74440354e-01,\n",
       "        8.03401293e-01, -1.20943552e+00, -1.06658903e+00,  8.81317557e-01,\n",
       "        1.50464767e+00, -1.73343121e-03, -1.36526805e+00, -1.01464486e+00,\n",
       "        1.85527085e+00, -6.64021672e-01, -1.47194752e-02, -3.26384530e-01,\n",
       "        1.10208030e+00,  9.46247777e-01, -9.23742551e-01, -1.47194752e-02,\n",
       "       -5.86105409e-01, -1.14450530e+00, -1.83538046e-01,  4.26806019e-01,\n",
       "        1.46568953e+00, -6.64021672e-01, -1.96524090e-01, -1.18607827e-01,\n",
       "       -1.44579915e-01, -9.49714639e-01,  1.81631272e+00,  3.35903711e-01,\n",
       "       -7.93882112e-01, -4.69231013e-01, -8.58812332e-01, -3.91314750e-01,\n",
       "       -1.04061695e+00, -3.00412442e-01, -1.31593871e-01, -8.06868156e-01,\n",
       "        7.61828325e-02, -1.46915640e+00,  5.69652502e-01,  9.07289645e-01,\n",
       "        1.62152206e+00, -6.89993760e-01,  5.69652502e-01,  6.47568766e-01,\n",
       "        3.72247006e-02, -9.75686727e-01,  5.04722283e-01, -1.06658903e+00,\n",
       "       -1.02763090e+00, -1.33929596e+00, -1.13151925e+00,  1.43971745e+00,\n",
       "        1.24492679e+00,  1.86825690e+00,  8.03401293e-01,  4.26806019e-01,\n",
       "       -9.62700683e-01, -7.67910024e-01,  1.29687096e+00, -2.77055191e-02,\n",
       "       -9.75686727e-01,  7.25485030e-01, -9.75686727e-01, -5.73119365e-01,\n",
       "        1.02154920e-01, -1.28735178e+00,  8.81317557e-01,  2.42386567e-02,\n",
       "        1.38777327e+00, -8.06868156e-01,  1.21895470e+00, -3.65342662e-01,\n",
       "       -1.10554717e+00, -1.04061695e+00,  1.36180118e+00,  1.42673140e+00,\n",
       "        1.59554997e+00,  3.22917667e-01, -1.05360299e+00, -1.36526805e+00,\n",
       "        4.52778107e-01, -3.52356618e-01, -9.62700683e-01, -1.31332387e+00,\n",
       "        1.37478723e+00,  8.16387337e-01,  1.95915920e+00,  1.17999657e+00,\n",
       "       -7.93882112e-01, -2.77055191e-02,  2.05006151e+00,  1.12526127e-02,\n",
       "        2.51755909e+00, -1.15749134e+00, -8.19854200e-01, -1.32630991e+00,\n",
       "       -1.46915640e+00, -6.38049585e-01,  2.02408942e+00, -4.69231013e-01,\n",
       "       -9.26357388e-02, -1.01464486e+00, -1.39124013e+00, -4.82217057e-01,\n",
       "        1.45270349e+00, -8.45826288e-01,  6.47568766e-01, -3.26384530e-01,\n",
       "        3.87847887e-01,  1.15402448e+00, -1.11853321e+00, -7.54923980e-01,\n",
       "        1.69943833e+00, -1.14450530e+00, -6.51035629e-01,  6.21596678e-01,\n",
       "        1.46568953e+00, -7.54923980e-01,  1.01117800e+00,  3.74861843e-01,\n",
       "        5.02107446e-02,  1.05013613e+00, -1.19644947e+00,  8.68331513e-01,\n",
       "       -9.36728595e-01, -1.09256112e+00,  2.33575448e+00,  1.24492679e+00,\n",
       "       -8.84784420e-01,  6.21596678e-01, -1.26137969e+00, -8.71798376e-01,\n",
       "       -8.19854200e-01, -1.57304475e+00, -3.00412442e-01, -8.97770464e-01,\n",
       "        1.59554997e+00, -1.13151925e+00,  5.95624590e-01,  1.08909426e+00,\n",
       "        1.30985701e+00, -3.65342662e-01, -1.40422618e+00,  2.57987448e-01,\n",
       "       -4.95203101e-01, -1.31593871e-01, -5.60133321e-01,  3.61875799e-01,\n",
       "       -1.05621783e-01,  1.41113052e-01, -6.66636509e-02, -7.15965848e-01,\n",
       "        8.81317557e-01,  4.91736239e-01, -5.60133321e-01,  5.04722283e-01,\n",
       "       -3.91314750e-01,  1.01117800e+00,  1.16701052e+00,  1.24492679e+00,\n",
       "        1.25791283e+00,  5.17708327e-01, -2.74440354e-01,  1.10208030e+00,\n",
       "       -9.62700683e-01, -2.22496178e-01,  1.19298261e+00,  6.08610634e-01,\n",
       "        1.53061975e+00,  1.54099096e-01, -1.04061695e+00, -7.28951892e-01,\n",
       "        1.99811734e+00, -7.93882112e-01,  8.03401293e-01, -7.41937936e-01,\n",
       "        8.29373381e-01,  1.43971745e+00,  3.35903711e-01, -5.08189145e-01,\n",
       "        6.21596678e-01, -1.70552003e-01, -1.70552003e-01, -8.32840244e-01,\n",
       "       -5.36776070e-02, -8.32840244e-01,  1.17999657e+00, -1.05360299e+00,\n",
       "       -9.75686727e-01, -5.60133321e-01,  1.55659184e+00, -1.19644947e+00,\n",
       "       -1.27436574e+00,  8.94303601e-01, -8.06868156e-01,  2.06304756e+00,\n",
       "        1.67346624e+00,  3.87847887e-01,  2.19290800e+00, -1.22242156e+00,\n",
       "        1.42673140e+00,  6.99512942e-01,  1.05013613e+00,  1.16701052e+00,\n",
       "       -3.78328706e-01,  1.93057228e-01, -1.15749134e+00,  5.82638546e-01,\n",
       "       -1.05360299e+00,  2.06043272e-01, -1.57565959e-01,  8.42359425e-01,\n",
       "       -4.04300794e-01,  1.07610822e+00,  1.20596866e+00, -1.45617035e+00,\n",
       "       -1.30033783e+00, -6.25063541e-01, -2.61454310e-01, -8.32840244e-01,\n",
       "       -1.07957508e+00,  8.68331513e-01, -1.04061695e+00,  6.34582722e-01,\n",
       "       -5.47147277e-01, -1.31332387e+00,  1.62152206e+00, -1.15749134e+00,\n",
       "       -4.43258925e-01, -1.07957508e+00,  1.56957789e+00,  1.37478723e+00,\n",
       "       -1.41721222e+00,  5.95624590e-01,  1.16701052e+00,  1.03715008e+00,\n",
       "        2.96945580e-01, -7.67910024e-01,  2.06043272e-01,  1.59554997e+00,\n",
       "        1.82929877e+00,  1.67346624e+00, -1.04061695e+00, -1.57565959e-01,\n",
       "        4.78750195e-01,  3.74861843e-01,  7.38471074e-01, -2.09510134e-01,\n",
       "        1.41374536e+00, -5.08189145e-01, -2.74440354e-01,  2.83959536e-01,\n",
       "        1.36180118e+00, -1.26137969e+00, -8.84784420e-01, -1.43019827e+00,\n",
       "       -7.96496949e-02,  7.77429206e-01,  1.05013613e+00, -7.93882112e-01,\n",
       "       -5.34161233e-01, -1.73343121e-03, -4.17286837e-01, -1.10554717e+00,\n",
       "        2.05006151e+00, -7.54923980e-01,  4.00833931e-01, -1.11853321e+00,\n",
       "        2.70973492e-01, -1.04061695e+00, -1.33929596e+00, -1.14450530e+00,\n",
       "       -1.35228200e+00,  3.35903711e-01, -6.25063541e-01, -2.61454310e-01,\n",
       "        8.81317557e-01, -1.23540761e+00])"
      ]
     },
     "execution_count": 6,
     "metadata": {},
     "output_type": "execute_result"
    }
   ],
   "source": [
    "target"
   ]
  },
  {
   "cell_type": "code",
   "execution_count": 7,
   "metadata": {
    "id": "MudIfqmNXq-j"
   },
   "outputs": [],
   "source": [
    "# Split the data into train and test sets\n",
    "from sklearn.model_selection import train_test_split\n",
    "\n",
    "xtrain, xtest, ytrain, ytest = train_test_split(data, target, test_size = 0.1)\n"
   ]
  },
  {
   "cell_type": "code",
   "execution_count": null,
   "metadata": {},
   "outputs": [],
   "source": [
    "plot_train = np.random.choice(1000, 16, replace = False)\n",
    "plt.figure(figsize = (12,12))\n",
    "for u, v in enumerate(plot_train):\n",
    "  plt.subplot(4, 4, u+1)\n",
    "  plt.imshow(xtrain[v,:,:,:])\n",
    "  plt.text(15, -1.5, s = ytrain[v,0], fontsize = 14)\n",
    "  plt.axis('off')"
   ]
  },
  {
   "cell_type": "markdown",
   "metadata": {
    "id": "kWZynoBAXq-k"
   },
   "source": [
    "#### Train a feedforward neural network model"
   ]
  },
  {
   "cell_type": "code",
   "execution_count": 8,
   "metadata": {
    "id": "x2ogIIhyXq-k"
   },
   "outputs": [],
   "source": [
    "# Build the model\n",
    "from tensorflow.keras.models import Sequential\n",
    "from tensorflow.keras.layers import Dense\n",
    "\n",
    "def get_model():\n",
    "  model = Sequential([\n",
    "    Dense(128, activation = 'relu', input_shape = (xtrain.shape[1],)),\n",
    "    Dense(128, activation = 'relu'),\n",
    "    Dense(128, activation = 'relu'),\n",
    "    Dense(128, activation = 'relu'),\n",
    "    Dense(128, activation = 'relu'),\n",
    "    Dense(128, activation = 'relu'),\n",
    "    Dense(1)\n",
    "  ])\n",
    "  return model\n",
    "model = get_model()"
   ]
  },
  {
   "cell_type": "code",
   "execution_count": 9,
   "metadata": {
    "colab": {
     "base_uri": "https://localhost:8080/"
    },
    "id": "eXDe0x0WXq-l",
    "outputId": "e0837de0-6517-45ed-a7a1-1e88fb657a84"
   },
   "outputs": [
    {
     "name": "stdout",
     "output_type": "stream",
     "text": [
      "Model: \"sequential\"\n",
      "_________________________________________________________________\n",
      " Layer (type)                Output Shape              Param #   \n",
      "=================================================================\n",
      " dense (Dense)               (None, 128)               1408      \n",
      "                                                                 \n",
      " dense_1 (Dense)             (None, 128)               16512     \n",
      "                                                                 \n",
      " dense_2 (Dense)             (None, 128)               16512     \n",
      "                                                                 \n",
      " dense_3 (Dense)             (None, 128)               16512     \n",
      "                                                                 \n",
      " dense_4 (Dense)             (None, 128)               16512     \n",
      "                                                                 \n",
      " dense_5 (Dense)             (None, 128)               16512     \n",
      "                                                                 \n",
      " dense_6 (Dense)             (None, 1)                 129       \n",
      "                                                                 \n",
      "=================================================================\n",
      "Total params: 84,097\n",
      "Trainable params: 84,097\n",
      "Non-trainable params: 0\n",
      "_________________________________________________________________\n"
     ]
    }
   ],
   "source": [
    "# Print the model summary\n",
    "model.summary()\n"
   ]
  },
  {
   "cell_type": "code",
   "execution_count": 10,
   "metadata": {
    "id": "RiLs7As2Xq-l"
   },
   "outputs": [],
   "source": [
    "# Compile the model\n",
    "\n",
    "model.compile(optimizer = 'adam', loss = 'mse', metrics = ['mae'])"
   ]
  },
  {
   "cell_type": "code",
   "execution_count": 11,
   "metadata": {
    "colab": {
     "base_uri": "https://localhost:8080/"
    },
    "id": "h6dKccdfXq-l",
    "outputId": "5d992c70-8288-495d-c2aa-fff1407a0c40"
   },
   "outputs": [
    {
     "name": "stdout",
     "output_type": "stream",
     "text": [
      "Epoch 1/100\n",
      "6/6 [==============================] - 1s 45ms/step - loss: 0.9622 - mae: 0.8355 - val_loss: 0.9640 - val_mae: 0.8439\n",
      "Epoch 2/100\n",
      "6/6 [==============================] - 0s 9ms/step - loss: 0.8793 - mae: 0.7975 - val_loss: 0.7790 - val_mae: 0.7509\n",
      "Epoch 3/100\n",
      "6/6 [==============================] - 0s 8ms/step - loss: 0.6930 - mae: 0.6978 - val_loss: 0.5120 - val_mae: 0.5965\n",
      "Epoch 4/100\n",
      "6/6 [==============================] - 0s 8ms/step - loss: 0.6111 - mae: 0.6538 - val_loss: 0.4865 - val_mae: 0.5723\n",
      "Epoch 5/100\n",
      "6/6 [==============================] - 0s 8ms/step - loss: 0.5466 - mae: 0.5943 - val_loss: 0.4977 - val_mae: 0.5714\n",
      "Epoch 6/100\n",
      "6/6 [==============================] - 0s 10ms/step - loss: 0.4998 - mae: 0.5890 - val_loss: 0.5532 - val_mae: 0.5920\n",
      "Epoch 7/100\n",
      "6/6 [==============================] - 0s 9ms/step - loss: 0.5100 - mae: 0.5637 - val_loss: 0.5261 - val_mae: 0.5705\n",
      "Epoch 8/100\n",
      "6/6 [==============================] - 0s 9ms/step - loss: 0.4853 - mae: 0.5680 - val_loss: 0.5318 - val_mae: 0.5769\n",
      "Epoch 9/100\n",
      "6/6 [==============================] - 0s 8ms/step - loss: 0.4628 - mae: 0.5376 - val_loss: 0.5964 - val_mae: 0.6092\n",
      "Epoch 10/100\n",
      "6/6 [==============================] - 0s 9ms/step - loss: 0.4319 - mae: 0.5368 - val_loss: 0.5399 - val_mae: 0.5828\n",
      "Epoch 11/100\n",
      "6/6 [==============================] - 0s 9ms/step - loss: 0.4388 - mae: 0.5341 - val_loss: 0.6004 - val_mae: 0.6098\n",
      "Epoch 12/100\n",
      "6/6 [==============================] - 0s 8ms/step - loss: 0.4142 - mae: 0.5183 - val_loss: 0.5447 - val_mae: 0.5883\n",
      "Epoch 13/100\n",
      "6/6 [==============================] - 0s 8ms/step - loss: 0.4068 - mae: 0.5201 - val_loss: 0.5658 - val_mae: 0.5965\n",
      "Epoch 14/100\n",
      "6/6 [==============================] - 0s 9ms/step - loss: 0.3875 - mae: 0.4964 - val_loss: 0.5647 - val_mae: 0.5903\n",
      "Epoch 15/100\n",
      "6/6 [==============================] - 0s 11ms/step - loss: 0.3787 - mae: 0.4937 - val_loss: 0.5626 - val_mae: 0.5913\n",
      "Epoch 16/100\n",
      "6/6 [==============================] - 0s 8ms/step - loss: 0.3798 - mae: 0.4886 - val_loss: 0.5563 - val_mae: 0.5883\n",
      "Epoch 17/100\n",
      "6/6 [==============================] - 0s 9ms/step - loss: 0.3684 - mae: 0.4839 - val_loss: 0.5838 - val_mae: 0.5994\n",
      "Epoch 18/100\n",
      "6/6 [==============================] - 0s 9ms/step - loss: 0.3583 - mae: 0.4757 - val_loss: 0.6033 - val_mae: 0.6021\n",
      "Epoch 19/100\n",
      "6/6 [==============================] - 0s 8ms/step - loss: 0.3528 - mae: 0.4706 - val_loss: 0.6221 - val_mae: 0.6163\n",
      "Epoch 20/100\n",
      "6/6 [==============================] - 0s 8ms/step - loss: 0.3415 - mae: 0.4624 - val_loss: 0.6188 - val_mae: 0.6134\n",
      "Epoch 21/100\n",
      "6/6 [==============================] - 0s 8ms/step - loss: 0.3461 - mae: 0.4639 - val_loss: 0.5986 - val_mae: 0.5948\n",
      "Epoch 22/100\n",
      "6/6 [==============================] - 0s 8ms/step - loss: 0.3350 - mae: 0.4608 - val_loss: 0.6120 - val_mae: 0.6042\n",
      "Epoch 23/100\n",
      "6/6 [==============================] - 0s 9ms/step - loss: 0.3215 - mae: 0.4447 - val_loss: 0.6252 - val_mae: 0.6094\n",
      "Epoch 24/100\n",
      "6/6 [==============================] - 0s 8ms/step - loss: 0.3136 - mae: 0.4393 - val_loss: 0.6749 - val_mae: 0.6416\n",
      "Epoch 25/100\n",
      "6/6 [==============================] - 0s 9ms/step - loss: 0.3276 - mae: 0.4450 - val_loss: 0.6126 - val_mae: 0.5908\n",
      "Epoch 26/100\n",
      "6/6 [==============================] - 0s 8ms/step - loss: 0.3038 - mae: 0.4298 - val_loss: 0.6467 - val_mae: 0.6193\n",
      "Epoch 27/100\n",
      "6/6 [==============================] - 0s 8ms/step - loss: 0.3080 - mae: 0.4352 - val_loss: 0.6919 - val_mae: 0.6470\n",
      "Epoch 28/100\n",
      "6/6 [==============================] - 0s 9ms/step - loss: 0.3212 - mae: 0.4488 - val_loss: 0.6270 - val_mae: 0.6010\n",
      "Epoch 29/100\n",
      "6/6 [==============================] - 0s 8ms/step - loss: 0.2976 - mae: 0.4244 - val_loss: 0.6432 - val_mae: 0.5908\n",
      "Epoch 30/100\n",
      "6/6 [==============================] - 0s 10ms/step - loss: 0.2837 - mae: 0.4207 - val_loss: 0.7035 - val_mae: 0.6296\n",
      "Epoch 31/100\n",
      "6/6 [==============================] - 0s 8ms/step - loss: 0.2942 - mae: 0.4308 - val_loss: 0.6347 - val_mae: 0.6175\n",
      "Epoch 32/100\n",
      "6/6 [==============================] - 0s 8ms/step - loss: 0.2629 - mae: 0.4018 - val_loss: 0.6246 - val_mae: 0.6001\n",
      "Epoch 33/100\n",
      "6/6 [==============================] - 0s 8ms/step - loss: 0.2520 - mae: 0.3864 - val_loss: 0.6900 - val_mae: 0.6182\n",
      "Epoch 34/100\n",
      "6/6 [==============================] - 0s 8ms/step - loss: 0.2495 - mae: 0.3897 - val_loss: 0.7079 - val_mae: 0.6121\n",
      "Epoch 35/100\n",
      "6/6 [==============================] - 0s 8ms/step - loss: 0.2358 - mae: 0.3826 - val_loss: 0.7016 - val_mae: 0.6087\n",
      "Epoch 36/100\n",
      "6/6 [==============================] - 0s 8ms/step - loss: 0.2210 - mae: 0.3681 - val_loss: 0.7641 - val_mae: 0.6649\n",
      "Epoch 37/100\n",
      "6/6 [==============================] - 0s 8ms/step - loss: 0.2428 - mae: 0.3909 - val_loss: 0.7119 - val_mae: 0.6328\n",
      "Epoch 38/100\n",
      "6/6 [==============================] - 0s 9ms/step - loss: 0.2100 - mae: 0.3601 - val_loss: 0.7615 - val_mae: 0.6291\n",
      "Epoch 39/100\n",
      "6/6 [==============================] - 0s 8ms/step - loss: 0.2108 - mae: 0.3547 - val_loss: 0.7383 - val_mae: 0.6200\n",
      "Epoch 40/100\n",
      "6/6 [==============================] - 0s 12ms/step - loss: 0.1879 - mae: 0.3416 - val_loss: 0.7758 - val_mae: 0.6291\n",
      "Epoch 41/100\n",
      "6/6 [==============================] - 0s 8ms/step - loss: 0.1868 - mae: 0.3290 - val_loss: 0.8603 - val_mae: 0.6646\n",
      "Epoch 42/100\n",
      "6/6 [==============================] - 0s 8ms/step - loss: 0.1748 - mae: 0.3274 - val_loss: 0.6951 - val_mae: 0.6045\n",
      "Epoch 43/100\n",
      "6/6 [==============================] - 0s 9ms/step - loss: 0.1750 - mae: 0.3367 - val_loss: 0.8202 - val_mae: 0.6525\n",
      "Epoch 44/100\n",
      "6/6 [==============================] - 0s 10ms/step - loss: 0.1650 - mae: 0.3096 - val_loss: 0.8326 - val_mae: 0.6558\n",
      "Epoch 45/100\n",
      "6/6 [==============================] - 0s 8ms/step - loss: 0.1614 - mae: 0.3189 - val_loss: 0.7782 - val_mae: 0.6250\n",
      "Epoch 46/100\n",
      "6/6 [==============================] - 0s 8ms/step - loss: 0.1637 - mae: 0.3226 - val_loss: 0.8579 - val_mae: 0.6648\n",
      "Epoch 47/100\n",
      "6/6 [==============================] - 0s 8ms/step - loss: 0.1630 - mae: 0.3219 - val_loss: 0.8077 - val_mae: 0.6373\n",
      "Epoch 48/100\n",
      "6/6 [==============================] - 0s 8ms/step - loss: 0.2085 - mae: 0.3687 - val_loss: 0.7465 - val_mae: 0.6255\n",
      "Epoch 49/100\n",
      "6/6 [==============================] - 0s 8ms/step - loss: 0.1845 - mae: 0.3440 - val_loss: 0.8130 - val_mae: 0.6293\n",
      "Epoch 50/100\n",
      "6/6 [==============================] - 0s 8ms/step - loss: 0.2212 - mae: 0.3685 - val_loss: 0.7295 - val_mae: 0.6142\n",
      "Epoch 51/100\n",
      "6/6 [==============================] - 0s 8ms/step - loss: 0.2129 - mae: 0.3708 - val_loss: 0.7800 - val_mae: 0.6318\n",
      "Epoch 52/100\n",
      "6/6 [==============================] - 0s 8ms/step - loss: 0.1724 - mae: 0.3290 - val_loss: 0.8318 - val_mae: 0.6616\n",
      "Epoch 53/100\n",
      "6/6 [==============================] - 0s 8ms/step - loss: 0.1943 - mae: 0.3522 - val_loss: 0.8332 - val_mae: 0.6587\n",
      "Epoch 54/100\n",
      "6/6 [==============================] - 0s 8ms/step - loss: 0.1683 - mae: 0.3266 - val_loss: 0.7925 - val_mae: 0.6587\n",
      "Epoch 55/100\n",
      "6/6 [==============================] - 0s 8ms/step - loss: 0.1743 - mae: 0.3314 - val_loss: 0.8094 - val_mae: 0.6525\n",
      "Epoch 56/100\n",
      "6/6 [==============================] - 0s 9ms/step - loss: 0.1397 - mae: 0.3014 - val_loss: 0.9061 - val_mae: 0.6933\n",
      "Epoch 57/100\n",
      "6/6 [==============================] - 0s 8ms/step - loss: 0.1402 - mae: 0.2890 - val_loss: 0.9298 - val_mae: 0.6977\n",
      "Epoch 58/100\n",
      "6/6 [==============================] - 0s 8ms/step - loss: 0.1352 - mae: 0.2875 - val_loss: 0.8581 - val_mae: 0.6522\n",
      "Epoch 59/100\n",
      "6/6 [==============================] - 0s 8ms/step - loss: 0.1068 - mae: 0.2573 - val_loss: 0.8444 - val_mae: 0.6472\n",
      "Epoch 60/100\n",
      "6/6 [==============================] - 0s 9ms/step - loss: 0.0947 - mae: 0.2377 - val_loss: 0.8457 - val_mae: 0.6486\n",
      "Epoch 61/100\n",
      "6/6 [==============================] - 0s 9ms/step - loss: 0.0861 - mae: 0.2239 - val_loss: 0.9302 - val_mae: 0.6818\n",
      "Epoch 62/100\n",
      "6/6 [==============================] - 0s 8ms/step - loss: 0.0840 - mae: 0.2255 - val_loss: 0.8846 - val_mae: 0.6536\n",
      "Epoch 63/100\n",
      "6/6 [==============================] - 0s 10ms/step - loss: 0.0978 - mae: 0.2420 - val_loss: 0.8592 - val_mae: 0.6524\n",
      "Epoch 64/100\n",
      "6/6 [==============================] - 0s 8ms/step - loss: 0.1275 - mae: 0.2814 - val_loss: 0.7897 - val_mae: 0.6257\n",
      "Epoch 65/100\n",
      "6/6 [==============================] - 0s 8ms/step - loss: 0.1072 - mae: 0.2566 - val_loss: 0.8989 - val_mae: 0.6827\n",
      "Epoch 66/100\n",
      "6/6 [==============================] - 0s 9ms/step - loss: 0.1169 - mae: 0.2666 - val_loss: 0.9176 - val_mae: 0.6819\n",
      "Epoch 67/100\n",
      "6/6 [==============================] - 0s 9ms/step - loss: 0.1024 - mae: 0.2526 - val_loss: 0.8530 - val_mae: 0.6583\n",
      "Epoch 68/100\n",
      "6/6 [==============================] - 0s 8ms/step - loss: 0.1025 - mae: 0.2471 - val_loss: 0.8292 - val_mae: 0.6413\n",
      "Epoch 69/100\n",
      "6/6 [==============================] - 0s 8ms/step - loss: 0.0871 - mae: 0.2241 - val_loss: 0.8544 - val_mae: 0.6452\n",
      "Epoch 70/100\n",
      "6/6 [==============================] - 0s 8ms/step - loss: 0.0804 - mae: 0.2200 - val_loss: 0.8647 - val_mae: 0.6409\n",
      "Epoch 71/100\n",
      "6/6 [==============================] - 0s 8ms/step - loss: 0.0716 - mae: 0.2029 - val_loss: 0.8413 - val_mae: 0.6462\n",
      "Epoch 72/100\n",
      "6/6 [==============================] - 0s 8ms/step - loss: 0.0651 - mae: 0.1921 - val_loss: 0.8590 - val_mae: 0.6449\n",
      "Epoch 73/100\n",
      "6/6 [==============================] - 0s 9ms/step - loss: 0.0692 - mae: 0.1982 - val_loss: 0.8754 - val_mae: 0.6609\n",
      "Epoch 74/100\n",
      "6/6 [==============================] - 0s 9ms/step - loss: 0.0596 - mae: 0.1803 - val_loss: 0.8712 - val_mae: 0.6444\n",
      "Epoch 75/100\n",
      "6/6 [==============================] - 0s 9ms/step - loss: 0.0612 - mae: 0.1858 - val_loss: 0.8820 - val_mae: 0.6664\n",
      "Epoch 76/100\n",
      "6/6 [==============================] - 0s 8ms/step - loss: 0.0533 - mae: 0.1720 - val_loss: 0.8535 - val_mae: 0.6479\n",
      "Epoch 77/100\n",
      "6/6 [==============================] - 0s 8ms/step - loss: 0.0509 - mae: 0.1642 - val_loss: 0.9057 - val_mae: 0.6720\n",
      "Epoch 78/100\n",
      "6/6 [==============================] - 0s 8ms/step - loss: 0.0518 - mae: 0.1690 - val_loss: 0.8465 - val_mae: 0.6476\n",
      "Epoch 79/100\n",
      "6/6 [==============================] - 0s 9ms/step - loss: 0.0540 - mae: 0.1779 - val_loss: 0.9090 - val_mae: 0.6648\n",
      "Epoch 80/100\n",
      "6/6 [==============================] - 0s 9ms/step - loss: 0.0580 - mae: 0.1819 - val_loss: 0.8486 - val_mae: 0.6624\n",
      "Epoch 81/100\n",
      "6/6 [==============================] - 0s 9ms/step - loss: 0.0616 - mae: 0.1912 - val_loss: 0.8341 - val_mae: 0.6480\n",
      "Epoch 82/100\n",
      "6/6 [==============================] - 0s 9ms/step - loss: 0.0550 - mae: 0.1771 - val_loss: 0.8726 - val_mae: 0.6554\n",
      "Epoch 83/100\n",
      "6/6 [==============================] - 0s 8ms/step - loss: 0.0473 - mae: 0.1603 - val_loss: 0.8774 - val_mae: 0.6626\n",
      "Epoch 84/100\n",
      "6/6 [==============================] - 0s 8ms/step - loss: 0.0456 - mae: 0.1538 - val_loss: 0.8666 - val_mae: 0.6631\n",
      "Epoch 85/100\n",
      "6/6 [==============================] - 0s 8ms/step - loss: 0.0459 - mae: 0.1623 - val_loss: 0.8973 - val_mae: 0.6723\n",
      "Epoch 86/100\n",
      "6/6 [==============================] - 0s 8ms/step - loss: 0.0464 - mae: 0.1569 - val_loss: 0.8934 - val_mae: 0.6808\n",
      "Epoch 87/100\n",
      "6/6 [==============================] - 0s 11ms/step - loss: 0.0460 - mae: 0.1591 - val_loss: 0.8385 - val_mae: 0.6480\n",
      "Epoch 88/100\n",
      "6/6 [==============================] - 0s 8ms/step - loss: 0.0458 - mae: 0.1599 - val_loss: 0.8583 - val_mae: 0.6731\n",
      "Epoch 89/100\n",
      "6/6 [==============================] - 0s 7ms/step - loss: 0.0484 - mae: 0.1649 - val_loss: 0.8647 - val_mae: 0.6693\n",
      "Epoch 90/100\n",
      "6/6 [==============================] - 0s 9ms/step - loss: 0.0457 - mae: 0.1589 - val_loss: 0.8323 - val_mae: 0.6497\n",
      "Epoch 91/100\n",
      "6/6 [==============================] - 0s 8ms/step - loss: 0.0383 - mae: 0.1465 - val_loss: 0.8840 - val_mae: 0.6739\n",
      "Epoch 92/100\n",
      "6/6 [==============================] - 0s 8ms/step - loss: 0.0422 - mae: 0.1575 - val_loss: 0.8646 - val_mae: 0.6629\n",
      "Epoch 93/100\n",
      "6/6 [==============================] - 0s 7ms/step - loss: 0.0389 - mae: 0.1475 - val_loss: 0.8640 - val_mae: 0.6681\n",
      "Epoch 94/100\n",
      "6/6 [==============================] - 0s 8ms/step - loss: 0.0313 - mae: 0.1233 - val_loss: 0.8717 - val_mae: 0.6760\n",
      "Epoch 95/100\n",
      "6/6 [==============================] - 0s 8ms/step - loss: 0.0307 - mae: 0.1239 - val_loss: 0.8571 - val_mae: 0.6554\n",
      "Epoch 96/100\n",
      "6/6 [==============================] - 0s 9ms/step - loss: 0.0280 - mae: 0.1157 - val_loss: 0.9055 - val_mae: 0.6848\n",
      "Epoch 97/100\n",
      "6/6 [==============================] - 0s 10ms/step - loss: 0.0341 - mae: 0.1286 - val_loss: 0.8670 - val_mae: 0.6809\n",
      "Epoch 98/100\n",
      "6/6 [==============================] - 0s 8ms/step - loss: 0.0445 - mae: 0.1589 - val_loss: 0.8845 - val_mae: 0.6739\n",
      "Epoch 99/100\n",
      "6/6 [==============================] - 0s 8ms/step - loss: 0.0380 - mae: 0.1442 - val_loss: 0.8446 - val_mae: 0.6698\n",
      "Epoch 100/100\n",
      "6/6 [==============================] - 0s 8ms/step - loss: 0.0344 - mae: 0.1365 - val_loss: 0.8705 - val_mae: 0.6728\n"
     ]
    }
   ],
   "source": [
    "# Train the model, with some of the data reserved for validation\n",
    "history = model.fit(xtrain, ytrain, epochs=100,\n",
    "                    validation_split = 0.15, batch_size = 64)\n"
   ]
  },
  {
   "cell_type": "code",
   "execution_count": 12,
   "metadata": {
    "colab": {
     "base_uri": "https://localhost:8080/"
    },
    "id": "3QXzqp8LXq-l",
    "outputId": "42c5e4b9-6fad-43c9-9fc8-56a2266c95e0"
   },
   "outputs": [
    {
     "name": "stdout",
     "output_type": "stream",
     "text": [
      "2/2 [==============================] - 0s 6ms/step - loss: 0.8819 - mae: 0.7063\n"
     ]
    },
    {
     "data": {
      "text/plain": [
       "[0.881927490234375, 0.7062744498252869]"
      ]
     },
     "execution_count": 12,
     "metadata": {},
     "output_type": "execute_result"
    }
   ],
   "source": [
    "# Evaluate the model on the test set\n",
    "model.evaluate(xtest, ytest)\n"
   ]
  },
  {
   "cell_type": "markdown",
   "metadata": {
    "id": "zevZHn-aXq-m"
   },
   "source": [
    "#### Plot the learning curves"
   ]
  },
  {
   "cell_type": "code",
   "execution_count": 13,
   "metadata": {
    "id": "97zZENyXXq-m"
   },
   "outputs": [],
   "source": [
    "import matplotlib.pyplot as plt\n",
    "%matplotlib inline"
   ]
  },
  {
   "cell_type": "code",
   "execution_count": 14,
   "metadata": {
    "colab": {
     "base_uri": "https://localhost:8080/",
     "height": 295
    },
    "id": "Kd60vddlXq-m",
    "outputId": "19180503-2f95-448e-d3df-a9e74faea7f1"
   },
   "outputs": [
    {
     "data": {
      "image/png": "[encoded data removed]",
      "text/plain": [
       "<Figure size 432x288 with 1 Axes>"
      ]
     },
     "metadata": {
      "needs_background": "light"
     },
     "output_type": "display_data"
    }
   ],
   "source": [
    "# Plot the training and validation loss\n",
    "\n",
    "plt.plot(history.history['loss'])\n",
    "plt.plot(history.history['val_loss'])\n",
    "plt.title('Loss vs. epochs')\n",
    "plt.ylabel('Loss')\n",
    "plt.xlabel('Epoch')\n",
    "plt.legend(['Training', 'Validation'], loc='upper right')\n",
    "plt.show()"
   ]
  },
  {
   "cell_type": "markdown",
   "metadata": {
    "id": "8zn2hmZOXq-n"
   },
   "source": [
    "***\n",
    "<a id=\"coding_tutorial_2\"></a>\n",
    "## Model regularisation"
   ]
  },
  {
   "cell_type": "markdown",
   "metadata": {
    "id": "B3dSAI2vXq-n"
   },
   "source": [
    "#### Adding regularisation with weight decay and dropout"
   ]
  },
  {
   "cell_type": "code",
   "execution_count": 15,
   "metadata": {
    "id": "aKQUFNPxXq-n"
   },
   "outputs": [],
   "source": [
    "from tensorflow.keras.layers import Dropout\n",
    "from tensorflow.keras import regularizers"
   ]
  },
  {
   "cell_type": "code",
   "execution_count": 16,
   "metadata": {
    "id": "kJ-a2ZToXq-n"
   },
   "outputs": [],
   "source": [
    "def get_regularised_model(wd, rate):\n",
    "    model = Sequential([\n",
    "        Dense(128, activation=\"relu\", kernel_regularizer= regularizers.l2(wd), input_shape=(xtrain.shape[1],)),\n",
    "        Dropout(rate),\n",
    "        Dense(128, activation=\"relu\", kernel_regularizer= regularizers.l2(wd)),\n",
    "        Dropout(rate),\n",
    "        Dense(128, activation=\"relu\", kernel_regularizer= regularizers.l2(wd)),\n",
    "        Dropout(rate),\n",
    "        Dense(128, activation=\"relu\", kernel_regularizer= regularizers.l2(wd)),\n",
    "        Dropout(rate),\n",
    "        Dense(128, activation=\"relu\", kernel_regularizer= regularizers.l2(wd)),\n",
    "        Dropout(rate),\n",
    "        Dense(128, activation=\"relu\", kernel_regularizer= regularizers.l2(wd)),\n",
    "        Dropout(rate),\n",
    "        Dense(1)\n",
    "    ])\n",
    "    return model"
   ]
  },
  {
   "cell_type": "code",
   "execution_count": 17,
   "metadata": {
    "id": "V4eStZUcXq-o"
   },
   "outputs": [],
   "source": [
    "# Re-build the model with weight decay and dropout layers\n",
    "model = get_regularised_model(1e-4, 0.3)\n"
   ]
  },
  {
   "cell_type": "code",
   "execution_count": 18,
   "metadata": {
    "id": "KNzVq9FeXq-o"
   },
   "outputs": [],
   "source": [
    "# Compile the model\n",
    "model.compile(optimizer= 'adam', loss = 'mse', metrics = ['mae'])\n"
   ]
  },
  {
   "cell_type": "code",
   "execution_count": 19,
   "metadata": {
    "colab": {
     "base_uri": "https://localhost:8080/"
    },
    "id": "LiUVl4HtXq-o",
    "outputId": "81350339-728d-4756-d4eb-51c7af947b21"
   },
   "outputs": [
    {
     "name": "stdout",
     "output_type": "stream",
     "text": [
      "Epoch 1/100\n",
      "6/6 [==============================] - 1s 48ms/step - loss: 1.0356 - mae: 0.8402 - val_loss: 1.0592 - val_mae: 0.8585\n",
      "Epoch 2/100\n",
      "6/6 [==============================] - 0s 10ms/step - loss: 1.0203 - mae: 0.8353 - val_loss: 1.0156 - val_mae: 0.8401\n",
      "Epoch 3/100\n",
      "6/6 [==============================] - 0s 9ms/step - loss: 0.9804 - mae: 0.8179 - val_loss: 0.9196 - val_mae: 0.7977\n",
      "Epoch 4/100\n",
      "6/6 [==============================] - 0s 10ms/step - loss: 0.8873 - mae: 0.7775 - val_loss: 0.7226 - val_mae: 0.7018\n",
      "Epoch 5/100\n",
      "6/6 [==============================] - 0s 9ms/step - loss: 0.7643 - mae: 0.7121 - val_loss: 0.6276 - val_mae: 0.6439\n",
      "Epoch 6/100\n",
      "6/6 [==============================] - 0s 11ms/step - loss: 0.6618 - mae: 0.6378 - val_loss: 0.6139 - val_mae: 0.6116\n",
      "Epoch 7/100\n",
      "6/6 [==============================] - 0s 10ms/step - loss: 0.6534 - mae: 0.6260 - val_loss: 0.5958 - val_mae: 0.5965\n",
      "Epoch 8/100\n",
      "6/6 [==============================] - 0s 11ms/step - loss: 0.6662 - mae: 0.6360 - val_loss: 0.6777 - val_mae: 0.6458\n",
      "Epoch 9/100\n",
      "6/6 [==============================] - 0s 10ms/step - loss: 0.5678 - mae: 0.5912 - val_loss: 0.5897 - val_mae: 0.6088\n",
      "Epoch 10/100\n",
      "6/6 [==============================] - 0s 9ms/step - loss: 0.6573 - mae: 0.6384 - val_loss: 0.6167 - val_mae: 0.6102\n",
      "Epoch 11/100\n",
      "6/6 [==============================] - 0s 13ms/step - loss: 0.6213 - mae: 0.6191 - val_loss: 0.6380 - val_mae: 0.6106\n",
      "Epoch 12/100\n",
      "6/6 [==============================] - 0s 9ms/step - loss: 0.6044 - mae: 0.6116 - val_loss: 0.5842 - val_mae: 0.5825\n",
      "Epoch 13/100\n",
      "6/6 [==============================] - 0s 10ms/step - loss: 0.6009 - mae: 0.5996 - val_loss: 0.6610 - val_mae: 0.6101\n",
      "Epoch 14/100\n",
      "6/6 [==============================] - 0s 8ms/step - loss: 0.5904 - mae: 0.5876 - val_loss: 0.6041 - val_mae: 0.5903\n",
      "Epoch 15/100\n",
      "6/6 [==============================] - 0s 9ms/step - loss: 0.5720 - mae: 0.5878 - val_loss: 0.6356 - val_mae: 0.6072\n",
      "Epoch 16/100\n",
      "6/6 [==============================] - 0s 11ms/step - loss: 0.5325 - mae: 0.5586 - val_loss: 0.6362 - val_mae: 0.6031\n",
      "Epoch 17/100\n",
      "6/6 [==============================] - 0s 10ms/step - loss: 0.5430 - mae: 0.5623 - val_loss: 0.6216 - val_mae: 0.6006\n",
      "Epoch 18/100\n",
      "6/6 [==============================] - 0s 9ms/step - loss: 0.5622 - mae: 0.5788 - val_loss: 0.6289 - val_mae: 0.6058\n",
      "Epoch 19/100\n",
      "6/6 [==============================] - 0s 9ms/step - loss: 0.5620 - mae: 0.5895 - val_loss: 0.6124 - val_mae: 0.5994\n",
      "Epoch 20/100\n",
      "6/6 [==============================] - 0s 10ms/step - loss: 0.5666 - mae: 0.5743 - val_loss: 0.6266 - val_mae: 0.5988\n",
      "Epoch 21/100\n",
      "6/6 [==============================] - 0s 10ms/step - loss: 0.5330 - mae: 0.5713 - val_loss: 0.5841 - val_mae: 0.5813\n",
      "Epoch 22/100\n",
      "6/6 [==============================] - 0s 10ms/step - loss: 0.5351 - mae: 0.5589 - val_loss: 0.6150 - val_mae: 0.5943\n",
      "Epoch 23/100\n",
      "6/6 [==============================] - 0s 20ms/step - loss: 0.4962 - mae: 0.5432 - val_loss: 0.6130 - val_mae: 0.6017\n",
      "Epoch 24/100\n",
      "6/6 [==============================] - 0s 13ms/step - loss: 0.5406 - mae: 0.5603 - val_loss: 0.6937 - val_mae: 0.6276\n",
      "Epoch 25/100\n",
      "6/6 [==============================] - 0s 10ms/step - loss: 0.5503 - mae: 0.5615 - val_loss: 0.6478 - val_mae: 0.6257\n",
      "Epoch 26/100\n",
      "6/6 [==============================] - 0s 10ms/step - loss: 0.5358 - mae: 0.5700 - val_loss: 0.6105 - val_mae: 0.6058\n",
      "Epoch 27/100\n",
      "6/6 [==============================] - 0s 11ms/step - loss: 0.5002 - mae: 0.5435 - val_loss: 0.6420 - val_mae: 0.6047\n",
      "Epoch 28/100\n",
      "6/6 [==============================] - 0s 12ms/step - loss: 0.5232 - mae: 0.5464 - val_loss: 0.6083 - val_mae: 0.5954\n",
      "Epoch 29/100\n",
      "6/6 [==============================] - 0s 10ms/step - loss: 0.5085 - mae: 0.5438 - val_loss: 0.6415 - val_mae: 0.6095\n",
      "Epoch 30/100\n",
      "6/6 [==============================] - 0s 9ms/step - loss: 0.4900 - mae: 0.5267 - val_loss: 0.6096 - val_mae: 0.5892\n",
      "Epoch 31/100\n",
      "6/6 [==============================] - 0s 10ms/step - loss: 0.4657 - mae: 0.5215 - val_loss: 0.6102 - val_mae: 0.5869\n",
      "Epoch 32/100\n",
      "6/6 [==============================] - 0s 10ms/step - loss: 0.4990 - mae: 0.5329 - val_loss: 0.6472 - val_mae: 0.6003\n",
      "Epoch 33/100\n",
      "6/6 [==============================] - 0s 12ms/step - loss: 0.4991 - mae: 0.5356 - val_loss: 0.6519 - val_mae: 0.6052\n",
      "Epoch 34/100\n",
      "6/6 [==============================] - 0s 12ms/step - loss: 0.4718 - mae: 0.5220 - val_loss: 0.6388 - val_mae: 0.6049\n",
      "Epoch 35/100\n",
      "6/6 [==============================] - 0s 9ms/step - loss: 0.5126 - mae: 0.5500 - val_loss: 0.6396 - val_mae: 0.6073\n",
      "Epoch 36/100\n",
      "6/6 [==============================] - 0s 9ms/step - loss: 0.4911 - mae: 0.5388 - val_loss: 0.6377 - val_mae: 0.6090\n",
      "Epoch 37/100\n",
      "6/6 [==============================] - 0s 9ms/step - loss: 0.4667 - mae: 0.5113 - val_loss: 0.6315 - val_mae: 0.6010\n",
      "Epoch 38/100\n",
      "6/6 [==============================] - 0s 9ms/step - loss: 0.4986 - mae: 0.5268 - val_loss: 0.6538 - val_mae: 0.6080\n",
      "Epoch 39/100\n",
      "6/6 [==============================] - 0s 9ms/step - loss: 0.4758 - mae: 0.5260 - val_loss: 0.6157 - val_mae: 0.6013\n",
      "Epoch 40/100\n",
      "6/6 [==============================] - 0s 11ms/step - loss: 0.4703 - mae: 0.5276 - val_loss: 0.6679 - val_mae: 0.6114\n",
      "Epoch 41/100\n",
      "6/6 [==============================] - 0s 10ms/step - loss: 0.4686 - mae: 0.5181 - val_loss: 0.6066 - val_mae: 0.5853\n",
      "Epoch 42/100\n",
      "6/6 [==============================] - 0s 9ms/step - loss: 0.4752 - mae: 0.5235 - val_loss: 0.6345 - val_mae: 0.6017\n",
      "Epoch 43/100\n",
      "6/6 [==============================] - 0s 9ms/step - loss: 0.4992 - mae: 0.5314 - val_loss: 0.6475 - val_mae: 0.6114\n",
      "Epoch 44/100\n",
      "6/6 [==============================] - 0s 9ms/step - loss: 0.4649 - mae: 0.5257 - val_loss: 0.6514 - val_mae: 0.6165\n",
      "Epoch 45/100\n",
      "6/6 [==============================] - 0s 9ms/step - loss: 0.4693 - mae: 0.5172 - val_loss: 0.6793 - val_mae: 0.6175\n",
      "Epoch 46/100\n",
      "6/6 [==============================] - 0s 9ms/step - loss: 0.4539 - mae: 0.5039 - val_loss: 0.6587 - val_mae: 0.6129\n",
      "Epoch 47/100\n",
      "6/6 [==============================] - 0s 9ms/step - loss: 0.4933 - mae: 0.5366 - val_loss: 0.6964 - val_mae: 0.6281\n",
      "Epoch 48/100\n",
      "6/6 [==============================] - 0s 10ms/step - loss: 0.4909 - mae: 0.5264 - val_loss: 0.6713 - val_mae: 0.6228\n",
      "Epoch 49/100\n",
      "6/6 [==============================] - 0s 9ms/step - loss: 0.4871 - mae: 0.5377 - val_loss: 0.6204 - val_mae: 0.6095\n",
      "Epoch 50/100\n",
      "6/6 [==============================] - 0s 9ms/step - loss: 0.4414 - mae: 0.5038 - val_loss: 0.6864 - val_mae: 0.6225\n",
      "Epoch 51/100\n",
      "6/6 [==============================] - 0s 9ms/step - loss: 0.4840 - mae: 0.5226 - val_loss: 0.6335 - val_mae: 0.6048\n",
      "Epoch 52/100\n",
      "6/6 [==============================] - 0s 9ms/step - loss: 0.4889 - mae: 0.5445 - val_loss: 0.6409 - val_mae: 0.6118\n",
      "Epoch 53/100\n",
      "6/6 [==============================] - 0s 11ms/step - loss: 0.4807 - mae: 0.5217 - val_loss: 0.6997 - val_mae: 0.6254\n",
      "Epoch 54/100\n",
      "6/6 [==============================] - 0s 10ms/step - loss: 0.4755 - mae: 0.5267 - val_loss: 0.6186 - val_mae: 0.5964\n",
      "Epoch 55/100\n",
      "6/6 [==============================] - 0s 9ms/step - loss: 0.4742 - mae: 0.5240 - val_loss: 0.6406 - val_mae: 0.6010\n",
      "Epoch 56/100\n",
      "6/6 [==============================] - 0s 9ms/step - loss: 0.4586 - mae: 0.5018 - val_loss: 0.6597 - val_mae: 0.6184\n",
      "Epoch 57/100\n",
      "6/6 [==============================] - 0s 10ms/step - loss: 0.4356 - mae: 0.5107 - val_loss: 0.6274 - val_mae: 0.6130\n",
      "Epoch 58/100\n",
      "6/6 [==============================] - 0s 10ms/step - loss: 0.4538 - mae: 0.5182 - val_loss: 0.6712 - val_mae: 0.6122\n",
      "Epoch 59/100\n",
      "6/6 [==============================] - 0s 9ms/step - loss: 0.4766 - mae: 0.5084 - val_loss: 0.6412 - val_mae: 0.5976\n",
      "Epoch 60/100\n",
      "6/6 [==============================] - 0s 9ms/step - loss: 0.4251 - mae: 0.4948 - val_loss: 0.6749 - val_mae: 0.6142\n",
      "Epoch 61/100\n",
      "6/6 [==============================] - 0s 9ms/step - loss: 0.4417 - mae: 0.5069 - val_loss: 0.6681 - val_mae: 0.6133\n",
      "Epoch 62/100\n",
      "6/6 [==============================] - 0s 9ms/step - loss: 0.4153 - mae: 0.4839 - val_loss: 0.7277 - val_mae: 0.6381\n",
      "Epoch 63/100\n",
      "6/6 [==============================] - 0s 9ms/step - loss: 0.4246 - mae: 0.4847 - val_loss: 0.7036 - val_mae: 0.6295\n",
      "Epoch 64/100\n",
      "6/6 [==============================] - 0s 9ms/step - loss: 0.3908 - mae: 0.4709 - val_loss: 0.6745 - val_mae: 0.6178\n",
      "Epoch 65/100\n",
      "6/6 [==============================] - 0s 13ms/step - loss: 0.4395 - mae: 0.5026 - val_loss: 0.6853 - val_mae: 0.6171\n",
      "Epoch 66/100\n",
      "6/6 [==============================] - 0s 11ms/step - loss: 0.4395 - mae: 0.5036 - val_loss: 0.6616 - val_mae: 0.6160\n",
      "Epoch 67/100\n",
      "6/6 [==============================] - 0s 11ms/step - loss: 0.4146 - mae: 0.4818 - val_loss: 0.7198 - val_mae: 0.6399\n",
      "Epoch 68/100\n",
      "6/6 [==============================] - 0s 10ms/step - loss: 0.4324 - mae: 0.4941 - val_loss: 0.6749 - val_mae: 0.6169\n",
      "Epoch 69/100\n",
      "6/6 [==============================] - 0s 9ms/step - loss: 0.4202 - mae: 0.4909 - val_loss: 0.6758 - val_mae: 0.6193\n",
      "Epoch 70/100\n",
      "6/6 [==============================] - 0s 9ms/step - loss: 0.4490 - mae: 0.5155 - val_loss: 0.6694 - val_mae: 0.6161\n",
      "Epoch 71/100\n",
      "6/6 [==============================] - 0s 9ms/step - loss: 0.4266 - mae: 0.4981 - val_loss: 0.6771 - val_mae: 0.6110\n",
      "Epoch 72/100\n",
      "6/6 [==============================] - 0s 10ms/step - loss: 0.4171 - mae: 0.4852 - val_loss: 0.6894 - val_mae: 0.6253\n",
      "Epoch 73/100\n",
      "6/6 [==============================] - 0s 9ms/step - loss: 0.4371 - mae: 0.4943 - val_loss: 0.6651 - val_mae: 0.6157\n",
      "Epoch 74/100\n",
      "6/6 [==============================] - 0s 9ms/step - loss: 0.4281 - mae: 0.4882 - val_loss: 0.6522 - val_mae: 0.6201\n",
      "Epoch 75/100\n",
      "6/6 [==============================] - 0s 9ms/step - loss: 0.3950 - mae: 0.4823 - val_loss: 0.6570 - val_mae: 0.6156\n",
      "Epoch 76/100\n",
      "6/6 [==============================] - 0s 9ms/step - loss: 0.4431 - mae: 0.5080 - val_loss: 0.6868 - val_mae: 0.6196\n",
      "Epoch 77/100\n",
      "6/6 [==============================] - 0s 9ms/step - loss: 0.4032 - mae: 0.4712 - val_loss: 0.6889 - val_mae: 0.6232\n",
      "Epoch 78/100\n",
      "6/6 [==============================] - 0s 11ms/step - loss: 0.4131 - mae: 0.4777 - val_loss: 0.7225 - val_mae: 0.6447\n",
      "Epoch 79/100\n",
      "6/6 [==============================] - 0s 9ms/step - loss: 0.3824 - mae: 0.4633 - val_loss: 0.6781 - val_mae: 0.6252\n",
      "Epoch 80/100\n",
      "6/6 [==============================] - 0s 9ms/step - loss: 0.3962 - mae: 0.4713 - val_loss: 0.6959 - val_mae: 0.6250\n",
      "Epoch 81/100\n",
      "6/6 [==============================] - 0s 10ms/step - loss: 0.4086 - mae: 0.4714 - val_loss: 0.6377 - val_mae: 0.5980\n",
      "Epoch 82/100\n",
      "6/6 [==============================] - 0s 10ms/step - loss: 0.3782 - mae: 0.4638 - val_loss: 0.6563 - val_mae: 0.6105\n",
      "Epoch 83/100\n",
      "6/6 [==============================] - 0s 10ms/step - loss: 0.4131 - mae: 0.4815 - val_loss: 0.6651 - val_mae: 0.6037\n",
      "Epoch 84/100\n",
      "6/6 [==============================] - 0s 9ms/step - loss: 0.4202 - mae: 0.4819 - val_loss: 0.6974 - val_mae: 0.6217\n",
      "Epoch 85/100\n",
      "6/6 [==============================] - 0s 9ms/step - loss: 0.4168 - mae: 0.4756 - val_loss: 0.6968 - val_mae: 0.6260\n",
      "Epoch 86/100\n",
      "6/6 [==============================] - 0s 10ms/step - loss: 0.4163 - mae: 0.4955 - val_loss: 0.6699 - val_mae: 0.6084\n",
      "Epoch 87/100\n",
      "6/6 [==============================] - 0s 11ms/step - loss: 0.3817 - mae: 0.4682 - val_loss: 0.6661 - val_mae: 0.6046\n",
      "Epoch 88/100\n",
      "6/6 [==============================] - 0s 10ms/step - loss: 0.3848 - mae: 0.4707 - val_loss: 0.6556 - val_mae: 0.6076\n",
      "Epoch 89/100\n",
      "6/6 [==============================] - 0s 11ms/step - loss: 0.4118 - mae: 0.4854 - val_loss: 0.6635 - val_mae: 0.6161\n",
      "Epoch 90/100\n",
      "6/6 [==============================] - 0s 10ms/step - loss: 0.4144 - mae: 0.4848 - val_loss: 0.6847 - val_mae: 0.6270\n",
      "Epoch 91/100\n",
      "6/6 [==============================] - 0s 9ms/step - loss: 0.3940 - mae: 0.4707 - val_loss: 0.6906 - val_mae: 0.6156\n",
      "Epoch 92/100\n",
      "6/6 [==============================] - 0s 10ms/step - loss: 0.3949 - mae: 0.4610 - val_loss: 0.6936 - val_mae: 0.6190\n",
      "Epoch 93/100\n",
      "6/6 [==============================] - 0s 11ms/step - loss: 0.3998 - mae: 0.4688 - val_loss: 0.6587 - val_mae: 0.6026\n",
      "Epoch 94/100\n",
      "6/6 [==============================] - 0s 9ms/step - loss: 0.3846 - mae: 0.4561 - val_loss: 0.6430 - val_mae: 0.6023\n",
      "Epoch 95/100\n",
      "6/6 [==============================] - 0s 9ms/step - loss: 0.3768 - mae: 0.4628 - val_loss: 0.6533 - val_mae: 0.6025\n",
      "Epoch 96/100\n",
      "6/6 [==============================] - 0s 11ms/step - loss: 0.3899 - mae: 0.4756 - val_loss: 0.6844 - val_mae: 0.6249\n",
      "Epoch 97/100\n",
      "6/6 [==============================] - 0s 12ms/step - loss: 0.3620 - mae: 0.4527 - val_loss: 0.7128 - val_mae: 0.6310\n",
      "Epoch 98/100\n",
      "6/6 [==============================] - 0s 11ms/step - loss: 0.3803 - mae: 0.4648 - val_loss: 0.7597 - val_mae: 0.6573\n",
      "Epoch 99/100\n",
      "6/6 [==============================] - 0s 10ms/step - loss: 0.3881 - mae: 0.4603 - val_loss: 0.7245 - val_mae: 0.6280\n",
      "Epoch 100/100\n",
      "6/6 [==============================] - 0s 9ms/step - loss: 0.3838 - mae: 0.4642 - val_loss: 0.6734 - val_mae: 0.6125\n"
     ]
    }
   ],
   "source": [
    "# Train the model, with some of the data reserved for validation\n",
    "history = model.fit(xtrain, ytrain, epochs = 100,\n",
    "                    validation_split = 0.15, batch_size = 64)\n"
   ]
  },
  {
   "cell_type": "code",
   "execution_count": 20,
   "metadata": {
    "colab": {
     "base_uri": "https://localhost:8080/"
    },
    "id": "Y4vZCYDMXq-o",
    "outputId": "dc944d9b-e085-4097-ab24-97617b0e4904"
   },
   "outputs": [
    {
     "name": "stdout",
     "output_type": "stream",
     "text": [
      "2/2 [==============================] - 0s 6ms/step - loss: 0.7948 - mae: 0.6766\n"
     ]
    },
    {
     "data": {
      "text/plain": [
       "[0.7947869896888733, 0.6766257286071777]"
      ]
     },
     "execution_count": 20,
     "metadata": {},
     "output_type": "execute_result"
    }
   ],
   "source": [
    "# Evaluate the model on the test set\n",
    "model.evaluate(xtest, ytest)\n"
   ]
  },
  {
   "cell_type": "markdown",
   "metadata": {
    "id": "nVqpR_0mXq-o"
   },
   "source": [
    "#### Plot the learning curves"
   ]
  },
  {
   "cell_type": "code",
   "execution_count": 21,
   "metadata": {
    "colab": {
     "base_uri": "https://localhost:8080/",
     "height": 295
    },
    "id": "aJa20CNMXq-o",
    "outputId": "096c2060-bb49-4849-98dd-218d8d28097d"
   },
   "outputs": [
    {
     "data": {
      "image/png": "[encoded data removed]",
      "text/plain": [
       "<Figure size 432x288 with 1 Axes>"
      ]
     },
     "metadata": {
      "needs_background": "light"
     },
     "output_type": "display_data"
    }
   ],
   "source": [
    "# Plot the training and validation loss\n",
    "\n",
    "import matplotlib.pyplot as plt\n",
    "\n",
    "plt.plot(history.history['loss'])\n",
    "plt.plot(history.history['val_loss'])\n",
    "plt.title('Loss vs. epochs')\n",
    "plt.ylabel('Loss')\n",
    "plt.xlabel('Epoch')\n",
    "plt.legend(['Training', 'Validation'], loc='upper right')\n",
    "plt.show()"
   ]
  },
  {
   "cell_type": "markdown",
   "metadata": {
    "id": "_F-aFHjUXq-p"
   },
   "source": [
    "***\n",
    "<a id=\"coding_tutorial_3\"></a>\n",
    "## Introduction to callbacks"
   ]
  },
  {
   "cell_type": "markdown",
   "metadata": {
    "id": "sKZ53nMKXq-p"
   },
   "source": [
    "#### Example training callback"
   ]
  },
  {
   "cell_type": "code",
   "execution_count": 22,
   "metadata": {
    "id": "-RjL-C_rXq-p"
   },
   "outputs": [],
   "source": [
    "# Write a custom callback\n",
    "from tensorflow.keras.callbacks import Callback\n",
    "\n",
    "class TrainingCallback(Callback):\n",
    "  def on_train_begin(self, logs = None):\n",
    "    print('Start training...')\n",
    "  \n",
    "  def on_epoch_begin(self, epoch, logs = None):\n",
    "    print(f'Start epoch {epoch}')\n",
    "  \n",
    "  def on_train_batch_begin(self, batch, logs = None):\n",
    "    print(f'training: starting batch {batch}')\n",
    "\n",
    "  def on_train_batch_end(self, batch, logs= 'None'):\n",
    "    print(f'training: end batch {batch}')\n",
    "\n",
    "  def on_epoch_end(self, epoch, logs = None):\n",
    "    print(f'finished epoch {epoch}')\n",
    "\n",
    "  def on_train_end(self, logs = None):\n",
    "    print(f'finished training')"
   ]
  },
  {
   "cell_type": "code",
   "execution_count": 27,
   "metadata": {
    "id": "z7YtDAEzD81m"
   },
   "outputs": [],
   "source": [
    "class TestingCallback(Callback):\n",
    "  def on_test_begin(self, logs = None):\n",
    "    print('Start testing...')\n",
    "  \n",
    "  def on_test_batch_begin(self, batch, logs = None):\n",
    "    print(f'testing: starting batch {batch}')\n",
    "\n",
    "  def on_test_batch_end(self, batch, logs= 'None'):\n",
    "    print(f'testing: end batch {batch}')\n",
    "\n",
    "  def on_test_end(self, logs = None):\n",
    "    print(f'finished testing')"
   ]
  },
  {
   "cell_type": "code",
   "execution_count": 29,
   "metadata": {
    "id": "9Dp2Sx6-EiWu"
   },
   "outputs": [],
   "source": [
    "class PredictionCallback(Callback):\n",
    "  def on_predict_begin(self, logs = None):\n",
    "    print('Start predict...')\n",
    "  \n",
    "  def on_predict_batch_begin(self, batch, logs = None):\n",
    "    print(f'predict: starting batch {batch}')\n",
    "\n",
    "  def on_predict_batch_end(self, batch, logs= 'None'):\n",
    "    print(f'predict: end batch {batch}')\n",
    "\n",
    "  def on_predict_end(self, logs = None):\n",
    "    print(f'finished predict')"
   ]
  },
  {
   "cell_type": "code",
   "execution_count": 23,
   "metadata": {
    "id": "zYjckn8_Xq-p"
   },
   "outputs": [],
   "source": [
    "# Re-build the model\n",
    "model = get_regularised_model(1e-5, 0.3)\n"
   ]
  },
  {
   "cell_type": "code",
   "execution_count": 24,
   "metadata": {
    "id": "aD6kyi0fXq-p"
   },
   "outputs": [],
   "source": [
    "# Compile the model\n",
    "model.compile(optimizer='adam', loss = 'mse')\n"
   ]
  },
  {
   "cell_type": "markdown",
   "metadata": {
    "id": "WT0TKF-sXq-p"
   },
   "source": [
    "#### Train the model with the callback"
   ]
  },
  {
   "cell_type": "code",
   "execution_count": 26,
   "metadata": {
    "colab": {
     "base_uri": "https://localhost:8080/"
    },
    "id": "XLeK8FhWXq-p",
    "outputId": "d41e0f6d-eea4-47e2-dca2-e0763e898cee"
   },
   "outputs": [
    {
     "name": "stdout",
     "output_type": "stream",
     "text": [
      "Start training...\n",
      "Start epoch 0\n",
      "Epoch 1/3\n",
      "training: starting batch 0\n",
      "training: end batch 0\n",
      "1/4 [======>.......................] - ETA: 2s - loss: 0.9515training: starting batch 1\n",
      "training: end batch 1\n",
      "training: starting batch 2\n",
      "training: end batch 2\n",
      "training: starting batch 3\n",
      "training: end batch 3\n",
      "finished epoch 0\n",
      "4/4 [==============================] - 1s 10ms/step - loss: 0.9838\n",
      "Start epoch 1\n",
      "Epoch 2/3\n",
      "training: starting batch 0\n",
      "training: end batch 0\n",
      "1/4 [======>.......................] - ETA: 0s - loss: 1.0231training: starting batch 1\n",
      "training: end batch 1\n",
      "training: starting batch 2\n",
      "training: end batch 2\n",
      "training: starting batch 3\n",
      "training: end batch 3\n",
      "finished epoch 1\n",
      "4/4 [==============================] - 0s 8ms/step - loss: 0.9712\n",
      "Start epoch 2\n",
      "Epoch 3/3\n",
      "training: starting batch 0\n",
      "training: end batch 0\n",
      "1/4 [======>.......................] - ETA: 0s - loss: 0.8678training: starting batch 1\n",
      "training: end batch 1\n",
      "training: starting batch 2\n",
      "training: end batch 2\n",
      "training: starting batch 3\n",
      "training: end batch 3\n",
      "finished epoch 2\n",
      "4/4 [==============================] - 0s 9ms/step - loss: 0.9508\n",
      "finished training\n"
     ]
    },
    {
     "data": {
      "text/plain": [
       "<keras.callbacks.History at 0x7faf92959ad0>"
      ]
     },
     "execution_count": 26,
     "metadata": {},
     "output_type": "execute_result"
    }
   ],
   "source": [
    "# Train the model, with some of the data reserved for validation\n",
    "model.fit(xtrain, ytrain, epochs = 3, batch_size = 128, callbacks= [TrainingCallback()])\n"
   ]
  },
  {
   "cell_type": "code",
   "execution_count": 28,
   "metadata": {
    "colab": {
     "base_uri": "https://localhost:8080/"
    },
    "id": "-yUpoLYRXq-q",
    "outputId": "72f1baf2-d7a4-4a6e-d68d-1e9ff59fd760"
   },
   "outputs": [
    {
     "name": "stdout",
     "output_type": "stream",
     "text": [
      "Start testing...\n",
      "testing: starting batch 0\n",
      "testing: end batch 0\n",
      "1/2 [==============>...............] - ETA: 0s - loss: 1.0436testing: starting batch 1\n",
      "testing: end batch 1\n",
      "finished testing\n",
      "2/2 [==============================] - 0s 8ms/step - loss: 1.0961\n"
     ]
    },
    {
     "data": {
      "text/plain": [
       "1.0960932970046997"
      ]
     },
     "execution_count": 28,
     "metadata": {},
     "output_type": "execute_result"
    }
   ],
   "source": [
    "# Evaluate the model\n",
    "model.evaluate(xtest, ytest, callbacks= [TestingCallback()])\n"
   ]
  },
  {
   "cell_type": "code",
   "execution_count": 30,
   "metadata": {
    "colab": {
     "base_uri": "https://localhost:8080/"
    },
    "id": "xnjGgK2nXq-q",
    "outputId": "46fef6df-7d66-41a5-82fc-420e88105182"
   },
   "outputs": [
    {
     "name": "stdout",
     "output_type": "stream",
     "text": [
      "Start predict...\n",
      "predict: starting batch 0\n",
      "predict: end batch 0\n",
      "predict: starting batch 1\n",
      "predict: end batch 1\n",
      "finished predict\n"
     ]
    },
    {
     "data": {
      "text/plain": [
       "array([[-0.01737137],\n",
       "       [ 0.16535312],\n",
       "       [ 0.09647054],\n",
       "       [ 0.1341385 ],\n",
       "       [ 0.08270563],\n",
       "       [ 0.1048444 ],\n",
       "       [ 0.15534791],\n",
       "       [ 0.12321541],\n",
       "       [ 0.20153965],\n",
       "       [ 0.10994611],\n",
       "       [-0.03175   ],\n",
       "       [ 0.1178043 ],\n",
       "       [ 0.09012034],\n",
       "       [ 0.13908327],\n",
       "       [ 0.1404796 ],\n",
       "       [ 0.05757688],\n",
       "       [ 0.10244492],\n",
       "       [ 0.08951641],\n",
       "       [ 0.10170079],\n",
       "       [ 0.00549228],\n",
       "       [ 0.2144908 ],\n",
       "       [ 0.12939584],\n",
       "       [ 0.00725904],\n",
       "       [ 0.06545929],\n",
       "       [ 0.14510822],\n",
       "       [-0.01320001],\n",
       "       [ 0.05824304],\n",
       "       [ 0.19068703],\n",
       "       [-0.01545835],\n",
       "       [ 0.11970571],\n",
       "       [ 0.14291534],\n",
       "       [-0.02867426],\n",
       "       [-0.00507434],\n",
       "       [-0.00546322],\n",
       "       [ 0.16456798],\n",
       "       [ 0.20713748],\n",
       "       [ 0.07071512],\n",
       "       [ 0.13920118],\n",
       "       [-0.00269668],\n",
       "       [ 0.12339418],\n",
       "       [ 0.12021602],\n",
       "       [ 0.08015422],\n",
       "       [ 0.19019832],\n",
       "       [ 0.10578734],\n",
       "       [ 0.08858881]], dtype=float32)"
      ]
     },
     "execution_count": 30,
     "metadata": {},
     "output_type": "execute_result"
    }
   ],
   "source": [
    "# Make predictions with the model\n",
    "model.predict(xtest, callbacks=[PredictionCallback()])\n"
   ]
  },
  {
   "cell_type": "markdown",
   "metadata": {
    "id": "BO8U5mN2Xq-q"
   },
   "source": [
    "***\n",
    "<a id=\"coding_tutorial_4\"></a>\n",
    "## Early stopping / patience"
   ]
  },
  {
   "cell_type": "markdown",
   "metadata": {
    "id": "xX1WMbaKXq-q"
   },
   "source": [
    "#### Re-train the models with early stopping"
   ]
  },
  {
   "cell_type": "code",
   "execution_count": 50,
   "metadata": {
    "colab": {
     "base_uri": "https://localhost:8080/"
    },
    "id": "azaMloZHXq-q",
    "outputId": "6529411f-8bf5-4c88-fb48-bd42983e4fdb"
   },
   "outputs": [
    {
     "name": "stdout",
     "output_type": "stream",
     "text": [
      "Epoch 1/100\n",
      "6/6 [==============================] - 1s 34ms/step - loss: 0.9595 - val_loss: 0.9556\n",
      "Epoch 2/100\n",
      "6/6 [==============================] - 0s 8ms/step - loss: 0.8624 - val_loss: 0.7918\n",
      "Epoch 3/100\n",
      "6/6 [==============================] - 0s 10ms/step - loss: 0.6778 - val_loss: 0.5687\n",
      "Epoch 4/100\n",
      "6/6 [==============================] - 0s 8ms/step - loss: 0.5495 - val_loss: 0.5659\n",
      "Epoch 5/100\n",
      "6/6 [==============================] - 0s 8ms/step - loss: 0.4827 - val_loss: 0.6070\n",
      "Epoch 6/100\n",
      "6/6 [==============================] - 0s 10ms/step - loss: 0.4674 - val_loss: 0.5907\n",
      "Epoch 7/100\n",
      "6/6 [==============================] - 0s 9ms/step - loss: 0.4440 - val_loss: 0.5834\n",
      "Epoch 8/100\n",
      "6/6 [==============================] - 0s 8ms/step - loss: 0.4445 - val_loss: 0.6168\n",
      "Epoch 9/100\n",
      "6/6 [==============================] - 0s 8ms/step - loss: 0.4240 - val_loss: 0.5660\n"
     ]
    }
   ],
   "source": [
    "# Re-train the unregularised model\n",
    "unregularised_model = get_model()\n",
    "unregularised_model.compile(optimizer = 'adam', loss = 'mse')\n",
    "unreg_history = unregularised_model.fit(xtrain, ytrain, epochs = 100,\n",
    "                                        validation_split = 0.15, batch_size = 64, \n",
    "                                        callbacks = [tf.keras.callbacks.EarlyStopping(patience=5)])\n"
   ]
  },
  {
   "cell_type": "code",
   "execution_count": 51,
   "metadata": {
    "colab": {
     "base_uri": "https://localhost:8080/"
    },
    "id": "Tj85OLYWXq-r",
    "outputId": "4976fd45-3102-41e0-a15d-efb084292bf0"
   },
   "outputs": [
    {
     "name": "stdout",
     "output_type": "stream",
     "text": [
      "2/2 [==============================] - 0s 6ms/step - loss: 0.6539\n"
     ]
    },
    {
     "data": {
      "text/plain": [
       "0.6539449691772461"
      ]
     },
     "execution_count": 51,
     "metadata": {},
     "output_type": "execute_result"
    }
   ],
   "source": [
    "# Evaluate the model on the test set\n",
    "unregularised_model.evaluate(xtest, ytest)"
   ]
  },
  {
   "cell_type": "code",
   "execution_count": 55,
   "metadata": {
    "colab": {
     "base_uri": "https://localhost:8080/"
    },
    "id": "qLLLLDspXq-r",
    "outputId": "a55b8205-3d05-4da9-96fd-3536acb5d5c9"
   },
   "outputs": [
    {
     "name": "stdout",
     "output_type": "stream",
     "text": [
      "Epoch 1/100\n",
      "6/6 [==============================] - 1s 48ms/step - loss: 0.9675 - val_loss: 0.9748\n",
      "Epoch 2/100\n",
      "6/6 [==============================] - 0s 9ms/step - loss: 0.9235 - val_loss: 0.8622\n",
      "Epoch 3/100\n",
      "6/6 [==============================] - 0s 9ms/step - loss: 0.7976 - val_loss: 0.6357\n",
      "Epoch 4/100\n",
      "6/6 [==============================] - 0s 10ms/step - loss: 0.6388 - val_loss: 0.4713\n",
      "Epoch 5/100\n",
      "6/6 [==============================] - 0s 10ms/step - loss: 0.5718 - val_loss: 0.5213\n",
      "Epoch 6/100\n",
      "6/6 [==============================] - 0s 9ms/step - loss: 0.5233 - val_loss: 0.5272\n",
      "Epoch 7/100\n",
      "6/6 [==============================] - 0s 9ms/step - loss: 0.4941 - val_loss: 0.6020\n",
      "Epoch 8/100\n",
      "6/6 [==============================] - 0s 9ms/step - loss: 0.5293 - val_loss: 0.5675\n",
      "Epoch 9/100\n",
      "6/6 [==============================] - 0s 10ms/step - loss: 0.4990 - val_loss: 0.5772\n",
      "Epoch 10/100\n",
      "6/6 [==============================] - 0s 9ms/step - loss: 0.5044 - val_loss: 0.5274\n",
      "Epoch 11/100\n",
      "6/6 [==============================] - 0s 9ms/step - loss: 0.4973 - val_loss: 0.5871\n",
      "Epoch 12/100\n",
      "6/6 [==============================] - 0s 10ms/step - loss: 0.4805 - val_loss: 0.5290\n",
      "Epoch 13/100\n",
      "6/6 [==============================] - 0s 10ms/step - loss: 0.4649 - val_loss: 0.5459\n",
      "Epoch 14/100\n",
      "6/6 [==============================] - 0s 10ms/step - loss: 0.4618 - val_loss: 0.5307\n"
     ]
    }
   ],
   "source": [
    "# Re-train the regularised model\n",
    "regularised_model = get_regularised_model(1e-8, 0.2)\n",
    "regularised_model.compile(optimizer = 'adam', loss = 'mse')\n",
    "reg_history = regularised_model.fit(xtrain, ytrain, epochs = 100,\n",
    "                                    validation_split = 0.15, batch_size = 64,\n",
    "                                    callbacks = [tf.keras.callbacks.EarlyStopping(patience=10)])\n",
    "\n"
   ]
  },
  {
   "cell_type": "code",
   "execution_count": 56,
   "metadata": {
    "colab": {
     "base_uri": "https://localhost:8080/"
    },
    "id": "m_SDah2dXq-r",
    "outputId": "d99ee235-8ed6-49a7-e04f-3cb71e00e7d6"
   },
   "outputs": [
    {
     "name": "stdout",
     "output_type": "stream",
     "text": [
      "2/2 [==============================] - 0s 7ms/step - loss: 0.6284\n"
     ]
    },
    {
     "data": {
      "text/plain": [
       "0.6284371018409729"
      ]
     },
     "execution_count": 56,
     "metadata": {},
     "output_type": "execute_result"
    }
   ],
   "source": [
    "# Evaluate the model on the test set\n",
    "regularised_model.evaluate(xtest, ytest)\n"
   ]
  },
  {
   "cell_type": "markdown",
   "metadata": {
    "id": "3qrNht48Xq-r"
   },
   "source": [
    "#### Plot the learning curves"
   ]
  },
  {
   "cell_type": "code",
   "execution_count": 57,
   "metadata": {
    "colab": {
     "base_uri": "https://localhost:8080/",
     "height": 350
    },
    "id": "YTGdFf6UXq-r",
    "outputId": "4e08e620-c8ca-4642-8158-12f0f0308cb5"
   },
   "outputs": [
    {
     "data": {
      "image/png": "[encoded data removed]",
      "text/plain": [
       "<Figure size 864x360 with 2 Axes>"
      ]
     },
     "metadata": {
      "needs_background": "light"
     },
     "output_type": "display_data"
    }
   ],
   "source": [
    "# Plot the training and validation loss\n",
    "\n",
    "import matplotlib.pyplot as plt\n",
    "\n",
    "fig = plt.figure(figsize=(12, 5))\n",
    "\n",
    "fig.add_subplot(121)\n",
    "\n",
    "plt.plot(unreg_history.history['loss'])\n",
    "plt.plot(unreg_history.history['val_loss'])\n",
    "plt.title('Unregularised model: loss vs. epochs')\n",
    "plt.ylabel('Loss')\n",
    "plt.xlabel('Epoch')\n",
    "plt.legend(['Training', 'Validation'], loc='upper right')\n",
    "\n",
    "fig.add_subplot(122)\n",
    "\n",
    "plt.plot(reg_history.history['loss'])\n",
    "plt.plot(reg_history.history['val_loss'])\n",
    "plt.title('Regularised model: loss vs. epochs')\n",
    "plt.ylabel('Loss')\n",
    "plt.xlabel('Epoch')\n",
    "plt.legend(['Training', 'Validation'], loc='upper right')\n",
    "\n",
    "plt.show()"
   ]
  },
  {
   "cell_type": "code",
   "execution_count": 57,
   "metadata": {
    "id": "aY5BNBu9Jf2n"
   },
   "outputs": [],
   "source": []
  }
 ],
 "metadata": {
  "colab": {
   "name": "Coding Tutorial.ipynb",
   "provenance": []
  },
  "kernelspec": {
   "display_name": "Python 3",
   "language": "python",
   "name": "python3"
  },
  "language_info": {
   "codemirror_mode": {
    "name": "ipython",
    "version": 3
   },
   "file_extension": ".py",
   "mimetype": "text/x-python",
   "name": "python",
   "nbconvert_exporter": "python",
   "pygments_lexer": "ipython3",
   "version": "3.8.8"
  }
 },
 "nbformat": 4,
 "nbformat_minor": 1
}
