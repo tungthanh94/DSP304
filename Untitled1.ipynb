{
 "cells": [
  {
   "cell_type": "code",
   "execution_count": 1,
   "id": "29eb19ec",
   "metadata": {},
   "outputs": [
    {
     "name": "stdout",
     "output_type": "stream",
     "text": [
      "2.6.0\n"
     ]
    }
   ],
   "source": [
    "import tensorflow as tf\n",
    "print(tf.__version__)"
   ]
  },
  {
   "cell_type": "code",
   "execution_count": 2,
   "id": "56959c9e",
   "metadata": {},
   "outputs": [
    {
     "data": {
      "text/plain": [
       "[PhysicalDevice(name='/physical_device:CPU:0', device_type='CPU')]"
      ]
     },
     "execution_count": 2,
     "metadata": {},
     "output_type": "execute_result"
    }
   ],
   "source": [
    "tf.config.list_physical_devices()"
   ]
  },
  {
   "cell_type": "code",
   "execution_count": 3,
   "id": "eb18e2b7",
   "metadata": {},
   "outputs": [],
   "source": [
    "import time\n",
    "\n",
    "def time_matadd(x):\n",
    "    start = time.time()\n",
    "    for loop in range(10):\n",
    "        tf.add(x, x)\n",
    "    result = time.time()-start\n",
    "    print(\"Matrix addition (10 loops): {:0.2f}ms\".format(1000*result))\n",
    "\n",
    "\n",
    "def time_matmul(x):\n",
    "    start = time.time()\n",
    "    for loop in range(10):\n",
    "        tf.matmul(x, x)\n",
    "    result = time.time()-start\n",
    "    print(\"Matrix multiplication (10 loops): {:0.2f}ms\".format(1000*result))"
   ]
  },
  {
   "cell_type": "code",
   "execution_count": 4,
   "id": "148d1892",
   "metadata": {},
   "outputs": [],
   "source": [
    "from tensorflow.keras.datasets import mnist\n",
    "import numpy as np\n",
    "\n",
    "(x_train, y_train), (x_test, y_test) = mnist.load_data()\n",
    "x_train, x_test = x_train/255., x_test/255."
   ]
  },
  {
   "cell_type": "code",
   "execution_count": 8,
   "id": "278817d1",
   "metadata": {},
   "outputs": [],
   "source": [
    "x_train, y_train = x_train[:1000], y_train[:1000]"
   ]
  },
  {
   "cell_type": "code",
   "execution_count": 5,
   "id": "5f2defd2",
   "metadata": {},
   "outputs": [],
   "source": [
    "from tensorflow.keras import layers\n",
    "from tensorflow.keras.models import  Sequential\n",
    "\n",
    "def get_model():\n",
    "  model = Sequential([\n",
    "      layers.Conv2D(32, (3, 3), activation='relu', padding='same', input_shape=(28, 28, 1)),\n",
    "      layers.MaxPooling2D((2, 2)),\n",
    "      layers.Conv2D(64, (3, 3), activation='relu', padding='same'),\n",
    "      layers.MaxPooling2D((2, 2)),\n",
    "      layers.Conv2D(128, (3, 3), activation='relu', padding='same'),\n",
    "      layers.MaxPooling2D((2, 2)),\n",
    "      layers.Flatten(),\n",
    "      layers.Dense(64, activation='relu'),\n",
    "      layers.Dense(10, activation='softmax'),\n",
    "      ])\n",
    "  return model"
   ]
  },
  {
   "cell_type": "code",
   "execution_count": 9,
   "id": "55076829",
   "metadata": {},
   "outputs": [
    {
     "name": "stdout",
     "output_type": "stream",
     "text": [
      "Epoch 1/50\n",
      "32/32 [==============================] - 1s 12ms/step - loss: 1.5854 - accuracy: 0.4690\n",
      "Epoch 2/50\n",
      "32/32 [==============================] - 0s 11ms/step - loss: 0.5304 - accuracy: 0.8420\n",
      "Epoch 3/50\n",
      "32/32 [==============================] - 0s 11ms/step - loss: 0.3017 - accuracy: 0.9140\n",
      "Epoch 4/50\n",
      "32/32 [==============================] - 0s 13ms/step - loss: 0.2276 - accuracy: 0.9370\n",
      "Epoch 5/50\n",
      "32/32 [==============================] - 0s 13ms/step - loss: 0.1791 - accuracy: 0.9440\n",
      "Epoch 6/50\n",
      "32/32 [==============================] - 0s 13ms/step - loss: 0.1285 - accuracy: 0.9620\n",
      "Epoch 7/50\n",
      "32/32 [==============================] - 0s 11ms/step - loss: 0.1019 - accuracy: 0.9670\n",
      "Epoch 8/50\n",
      "32/32 [==============================] - 0s 12ms/step - loss: 0.0796 - accuracy: 0.9740\n",
      "Epoch 9/50\n",
      "32/32 [==============================] - 0s 11ms/step - loss: 0.0604 - accuracy: 0.9860\n",
      "Epoch 10/50\n",
      "32/32 [==============================] - 0s 12ms/step - loss: 0.0443 - accuracy: 0.9830\n",
      "Epoch 11/50\n",
      "32/32 [==============================] - 0s 12ms/step - loss: 0.0400 - accuracy: 0.9860\n",
      "Epoch 12/50\n",
      "32/32 [==============================] - 0s 12ms/step - loss: 0.0130 - accuracy: 0.9970\n",
      "Epoch 13/50\n",
      "32/32 [==============================] - 0s 12ms/step - loss: 0.0140 - accuracy: 0.9960\n",
      "Epoch 14/50\n",
      "32/32 [==============================] - 0s 11ms/step - loss: 0.0191 - accuracy: 0.9950\n",
      "Epoch 15/50\n",
      "32/32 [==============================] - 0s 12ms/step - loss: 0.0154 - accuracy: 0.9940\n",
      "Epoch 16/50\n",
      "32/32 [==============================] - 0s 13ms/step - loss: 0.0132 - accuracy: 0.9960\n",
      "Epoch 17/50\n",
      "32/32 [==============================] - 0s 14ms/step - loss: 4.8919e-04 - accuracy: 1.0000\n",
      "Epoch 18/50\n",
      "32/32 [==============================] - 0s 12ms/step - loss: 0.0413 - accuracy: 0.9910\n",
      "Epoch 19/50\n",
      "32/32 [==============================] - 0s 13ms/step - loss: 3.0821e-04 - accuracy: 1.0000\n",
      "Epoch 20/50\n",
      "32/32 [==============================] - 0s 13ms/step - loss: 1.6822e-04 - accuracy: 1.0000\n",
      "Epoch 21/50\n",
      "32/32 [==============================] - 0s 13ms/step - loss: 0.0085 - accuracy: 0.9970\n",
      "Epoch 22/50\n",
      "32/32 [==============================] - 0s 12ms/step - loss: 9.5604e-05 - accuracy: 1.0000\n",
      "Epoch 23/50\n",
      "32/32 [==============================] - 0s 12ms/step - loss: 0.0199 - accuracy: 0.9950\n",
      "Epoch 24/50\n",
      "32/32 [==============================] - 0s 13ms/step - loss: 0.0118 - accuracy: 0.9960\n",
      "Epoch 25/50\n",
      "32/32 [==============================] - 0s 11ms/step - loss: 0.0050 - accuracy: 0.9970\n",
      "Epoch 26/50\n",
      "32/32 [==============================] - 0s 11ms/step - loss: 0.0132 - accuracy: 0.9970\n",
      "Epoch 27/50\n",
      "32/32 [==============================] - 0s 14ms/step - loss: 5.7035e-04 - accuracy: 1.0000\n",
      "Epoch 28/50\n",
      "32/32 [==============================] - 0s 12ms/step - loss: 5.8634e-05 - accuracy: 1.0000\n",
      "Epoch 29/50\n",
      "32/32 [==============================] - 0s 12ms/step - loss: 0.0109 - accuracy: 0.9990\n",
      "Epoch 30/50\n",
      "32/32 [==============================] - 0s 12ms/step - loss: 1.2684e-04 - accuracy: 1.0000\n",
      "Epoch 31/50\n",
      "32/32 [==============================] - 0s 12ms/step - loss: 1.2080e-05 - accuracy: 1.0000\n",
      "Epoch 32/50\n",
      "32/32 [==============================] - 0s 14ms/step - loss: 0.0170 - accuracy: 0.9970\n",
      "Epoch 33/50\n",
      "32/32 [==============================] - 0s 12ms/step - loss: 0.0236 - accuracy: 0.9930\n",
      "Epoch 34/50\n",
      "32/32 [==============================] - 0s 13ms/step - loss: 9.2545e-05 - accuracy: 1.0000\n",
      "Epoch 35/50\n",
      "32/32 [==============================] - 0s 11ms/step - loss: 1.6867e-05 - accuracy: 1.0000\n",
      "Epoch 36/50\n",
      "32/32 [==============================] - 0s 11ms/step - loss: 9.3867e-06 - accuracy: 1.0000\n",
      "Epoch 37/50\n",
      "32/32 [==============================] - 0s 12ms/step - loss: 0.0025 - accuracy: 0.9980\n",
      "Epoch 38/50\n",
      "32/32 [==============================] - 0s 12ms/step - loss: 2.6982e-05 - accuracy: 1.0000\n",
      "Epoch 39/50\n",
      "32/32 [==============================] - 0s 12ms/step - loss: 2.1472e-06 - accuracy: 1.0000\n",
      "Epoch 40/50\n",
      "32/32 [==============================] - 0s 12ms/step - loss: 9.3888e-07 - accuracy: 1.0000\n",
      "Epoch 41/50\n",
      "32/32 [==============================] - 0s 12ms/step - loss: 0.0145 - accuracy: 0.9970\n",
      "Epoch 42/50\n",
      "32/32 [==============================] - 0s 14ms/step - loss: 0.0070 - accuracy: 0.9980\n",
      "Epoch 43/50\n",
      "32/32 [==============================] - 0s 12ms/step - loss: 0.0090 - accuracy: 0.9960\n",
      "Epoch 44/50\n",
      "32/32 [==============================] - 0s 12ms/step - loss: 0.0049 - accuracy: 0.9980\n",
      "Epoch 45/50\n",
      "32/32 [==============================] - 0s 11ms/step - loss: 2.7131e-04 - accuracy: 1.0000\n",
      "Epoch 46/50\n",
      "32/32 [==============================] - 0s 12ms/step - loss: 3.0167e-05 - accuracy: 1.0000\n",
      "Epoch 47/50\n",
      "32/32 [==============================] - 0s 14ms/step - loss: 1.6219e-06 - accuracy: 1.0000\n",
      "Epoch 48/50\n",
      "32/32 [==============================] - 0s 11ms/step - loss: 6.2787e-07 - accuracy: 1.0000\n",
      "Epoch 49/50\n",
      "32/32 [==============================] - 0s 12ms/step - loss: 1.6212e-07 - accuracy: 1.0000\n",
      "Epoch 50/50\n",
      "32/32 [==============================] - 0s 11ms/step - loss: 5.9485e-08 - accuracy: 1.0000\n",
      "Wall time: 19.9 s\n"
     ]
    },
    {
     "data": {
      "text/plain": [
       "<keras.callbacks.History at 0x1a55bc16400>"
      ]
     },
     "execution_count": 9,
     "metadata": {},
     "output_type": "execute_result"
    }
   ],
   "source": [
    "%%time\n",
    "model = get_model()\n",
    "model.compile(optimizer=tf.keras.optimizers.RMSprop(1e-3), loss='sparse_categorical_crossentropy', metrics=['accuracy'])\n",
    "model.fit(x_train[..., np.newaxis], y_train, epochs=50, verbose=1)"
   ]
  },
  {
   "cell_type": "code",
   "execution_count": null,
   "id": "968d089d",
   "metadata": {},
   "outputs": [],
   "source": []
  }
 ],
 "metadata": {
  "kernelspec": {
   "display_name": "Python 3",
   "language": "python",
   "name": "python3"
  },
  "language_info": {
   "codemirror_mode": {
    "name": "ipython",
    "version": 3
   },
   "file_extension": ".py",
   "mimetype": "text/x-python",
   "name": "python",
   "nbconvert_exporter": "python",
   "pygments_lexer": "ipython3",
   "version": "3.8.8"
  }
 },
 "nbformat": 4,
 "nbformat_minor": 5
}
