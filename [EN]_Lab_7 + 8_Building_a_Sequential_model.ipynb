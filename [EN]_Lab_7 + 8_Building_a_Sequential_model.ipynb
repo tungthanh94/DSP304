{
 "cells": [
  {
   "cell_type": "code",
   "execution_count": 1,
   "metadata": {
    "colab": {
     "base_uri": "https://localhost:8080/"
    },
    "id": "Uu6iuC-6PqQ2",
    "outputId": "941b035d-efd4-4d6d-986c-2b9059b2cbc4"
   },
   "outputs": [
    {
     "name": "stdout",
     "output_type": "stream",
     "text": [
      "2.6.0\n"
     ]
    }
   ],
   "source": [
    "import tensorflow as tf\n",
    "print(tf.__version__)"
   ]
  },
  {
   "cell_type": "markdown",
   "metadata": {
    "id": "_DJ-1v2rPqQ7"
   },
   "source": [
    "# The Sequential model API"
   ]
  },
  {
   "cell_type": "markdown",
   "metadata": {
    "id": "8cENP2I3PqQ8"
   },
   "source": [
    " ## Coding tutorials\n",
    " #### [1. Building a Sequential model](#coding_tutorial_1)\n",
    " #### [2. Convolutional and pooling layers](#coding_tutorial_2)\n",
    " #### [3. The compile method](#coding_tutorial_3)\n",
    " #### [4. The fit method](#coding_tutorial_4)\n",
    " #### [5. The evaluate and predict methods](#coding_tutorial_5)"
   ]
  },
  {
   "cell_type": "markdown",
   "metadata": {
    "id": "N0iZOJ1gPqQ8"
   },
   "source": [
    "***\n",
    "<a id=\"coding_tutorial_1\"></a>\n",
    "## Building a Sequential model"
   ]
  },
  {
   "cell_type": "code",
   "execution_count": 2,
   "metadata": {
    "id": "O5MWRxvTPqQ8"
   },
   "outputs": [],
   "source": [
    "from tensorflow.keras.models import Sequential\n",
    "from tensorflow.keras.layers import Dense, Flatten, Softmax"
   ]
  },
  {
   "cell_type": "markdown",
   "metadata": {
    "id": "k3KWl_BYPqQ9"
   },
   "source": [
    "#### Build a feedforward neural network model"
   ]
  },
  {
   "cell_type": "code",
   "execution_count": 13,
   "metadata": {
    "id": "x9wyAoxqPqQ9"
   },
   "outputs": [],
   "source": [
    "# Build the Sequential feedforward neural network model\n",
    "model = Sequential([\n",
    "    Flatten(input_shape = (28,28)),\n",
    "    Dense(16, activation = 'relu', name = 'layer_1'),\n",
    "    Dense(16, activation= 'relu'),\n",
    "    Dense(10, activation = 'softmax')\n",
    "])\n"
   ]
  },
  {
   "cell_type": "code",
   "execution_count": 11,
   "metadata": {
    "colab": {
     "base_uri": "https://localhost:8080/"
    },
    "id": "XO5PLUPY_8hy",
    "outputId": "6b319ea6-83df-4895-cce4-dffa9cde8852"
   },
   "outputs": [
    {
     "data": {
      "text/plain": [
       "[<tf.Variable 'layer_1/kernel:0' shape=(784, 16) dtype=float32, numpy=\n",
       " array([[-0.00461801, -0.0783053 , -0.06680288, ..., -0.02211471,\n",
       "          0.03688447, -0.06595982],\n",
       "        [-0.04695302,  0.01565803,  0.07338028, ...,  0.07518134,\n",
       "         -0.06005015, -0.04977111],\n",
       "        [-0.02535226,  0.01885484,  0.0783096 , ..., -0.02165004,\n",
       "          0.00129343, -0.04003233],\n",
       "        ...,\n",
       "        [ 0.05592795,  0.01557601,  0.01440207, ..., -0.06661214,\n",
       "          0.05086783,  0.01071646],\n",
       "        [ 0.03648255,  0.01366635, -0.0817183 , ..., -0.03608946,\n",
       "         -0.04963884, -0.07373453],\n",
       "        [ 0.02873892, -0.00282553, -0.02590632, ..., -0.01787879,\n",
       "          0.03375276,  0.07096912]], dtype=float32)>,\n",
       " <tf.Variable 'layer_1/bias:0' shape=(16,) dtype=float32, numpy=\n",
       " array([0., 0., 0., 0., 0., 0., 0., 0., 0., 0., 0., 0., 0., 0., 0., 0.],\n",
       "       dtype=float32)>,\n",
       " <tf.Variable 'dense_6/kernel:0' shape=(16, 16) dtype=float32, numpy=\n",
       " array([[ 0.4068264 ,  0.2616031 ,  0.29128852, -0.382536  , -0.17754123,\n",
       "         -0.22082336,  0.15540394, -0.10784951, -0.4260123 , -0.09333834,\n",
       "         -0.22274958,  0.368795  , -0.24042769, -0.39556447, -0.0308508 ,\n",
       "          0.16667429],\n",
       "        [-0.22653048, -0.11775121, -0.31513947,  0.11692509, -0.23419024,\n",
       "         -0.01093292, -0.40507537, -0.14210024, -0.29847443, -0.41124985,\n",
       "         -0.06560308, -0.26060748, -0.2362042 ,  0.0143404 , -0.25602883,\n",
       "         -0.10681763],\n",
       "        [ 0.30910984,  0.20813772,  0.13448063, -0.2797976 , -0.12412277,\n",
       "          0.25653264,  0.12945256,  0.27350613, -0.20494077,  0.26006547,\n",
       "         -0.18016058, -0.2711389 , -0.0669049 , -0.15106463,  0.40110543,\n",
       "         -0.17377138],\n",
       "        [-0.19659819, -0.11420786, -0.347853  , -0.12668946, -0.2648713 ,\n",
       "          0.33881631,  0.14969489, -0.11301762,  0.0404979 , -0.2359011 ,\n",
       "         -0.4270289 , -0.021054  , -0.43016395,  0.14321151, -0.04384425,\n",
       "          0.13073751],\n",
       "        [ 0.38087502,  0.29998448,  0.25836655,  0.02202764, -0.11295804,\n",
       "         -0.17688504,  0.07733485, -0.28733832,  0.09084389, -0.30391914,\n",
       "         -0.41549286, -0.04944658, -0.13889366,  0.3729054 ,  0.3762494 ,\n",
       "          0.36429098],\n",
       "        [ 0.13187179,  0.37758425,  0.39096436,  0.21410379,  0.16462168,\n",
       "         -0.34664822, -0.36216584,  0.15611514,  0.22203878, -0.22304597,\n",
       "          0.34123644,  0.00175288,  0.04390413, -0.22561868, -0.05839714,\n",
       "         -0.32537037],\n",
       "        [ 0.03916755,  0.11331764, -0.10304213,  0.09987924, -0.06781507,\n",
       "         -0.16637808,  0.04125938, -0.13453537,  0.29217598, -0.15915388,\n",
       "          0.09251717,  0.30446103,  0.33018056, -0.12495309, -0.17458427,\n",
       "         -0.07789937],\n",
       "        [-0.09453827,  0.2458671 ,  0.24147007, -0.12987652,  0.38776633,\n",
       "         -0.30224234, -0.09773588,  0.1997414 , -0.3039977 , -0.17747805,\n",
       "         -0.3018822 , -0.2169228 , -0.20820805, -0.13370451, -0.14940962,\n",
       "          0.29204896],\n",
       "        [-0.1821245 ,  0.33605883, -0.01213887, -0.11054629, -0.29728895,\n",
       "          0.34306005,  0.3025119 , -0.21691105,  0.43253544, -0.3407725 ,\n",
       "         -0.21293947,  0.11934748, -0.10617065, -0.16902769,  0.17649564,\n",
       "          0.17502704],\n",
       "        [ 0.3866109 ,  0.08657035, -0.03998077, -0.23180512, -0.38799194,\n",
       "         -0.10186973, -0.31101996,  0.21238282, -0.23355274,  0.18977949,\n",
       "         -0.23068798, -0.24878225, -0.2487397 ,  0.1969755 , -0.01929986,\n",
       "         -0.30228257],\n",
       "        [-0.12062484, -0.35446468,  0.0841237 ,  0.38639542,  0.12707177,\n",
       "          0.34473965, -0.0092513 , -0.32495216, -0.25274608,  0.21602568,\n",
       "         -0.2434504 ,  0.03638962,  0.3225375 , -0.28811932,  0.10872582,\n",
       "          0.35848054],\n",
       "        [ 0.27761945,  0.02567258, -0.05632764, -0.04174048, -0.34451303,\n",
       "         -0.30125383, -0.17800766,  0.23689094,  0.09585902, -0.39994198,\n",
       "          0.13708708,  0.01918983, -0.30291224,  0.09840992,  0.17612943,\n",
       "         -0.17022401],\n",
       "        [-0.12946019, -0.05064282, -0.34197462, -0.31051594,  0.09733292,\n",
       "         -0.38238764,  0.16738454, -0.42762592, -0.3868521 , -0.12789044,\n",
       "          0.0460231 ,  0.34286544,  0.21462646,  0.36945197,  0.34306833,\n",
       "         -0.07170072],\n",
       "        [-0.17472592,  0.3607773 , -0.33846462,  0.35526386, -0.05645502,\n",
       "         -0.03690469, -0.22142947,  0.09641299, -0.3038229 , -0.42911193,\n",
       "         -0.3932929 , -0.41666418,  0.19493964, -0.05843833,  0.14856401,\n",
       "         -0.34269148],\n",
       "        [ 0.26109877,  0.29432055, -0.274862  , -0.21240076, -0.43206352,\n",
       "          0.05946669, -0.21474697, -0.4153668 , -0.35911268,  0.15728465,\n",
       "          0.39060667, -0.39900178,  0.1905761 , -0.01019663, -0.11438987,\n",
       "         -0.2904361 ],\n",
       "        [ 0.02022243,  0.29403684, -0.3101574 , -0.41199887, -0.41205326,\n",
       "         -0.25310946,  0.40391055, -0.28020322, -0.15164155,  0.15834448,\n",
       "          0.03540328,  0.18311927, -0.05682915,  0.20843199,  0.24253723,\n",
       "         -0.28119618]], dtype=float32)>,\n",
       " <tf.Variable 'dense_6/bias:0' shape=(16,) dtype=float32, numpy=\n",
       " array([0., 0., 0., 0., 0., 0., 0., 0., 0., 0., 0., 0., 0., 0., 0., 0.],\n",
       "       dtype=float32)>,\n",
       " <tf.Variable 'dense_7/kernel:0' shape=(16, 10) dtype=float32, numpy=\n",
       " array([[ 0.34305912, -0.280477  , -0.00774136, -0.32214695,  0.32786554,\n",
       "         -0.08188164, -0.39575976, -0.0691202 , -0.05574679, -0.07891318],\n",
       "        [ 0.1465252 ,  0.36490047, -0.18507755,  0.28423828, -0.34777898,\n",
       "         -0.01703763, -0.12058643, -0.32245767, -0.12504908,  0.07547826],\n",
       "        [ 0.09049439,  0.3541004 ,  0.41329497,  0.2006343 , -0.10587198,\n",
       "         -0.16113245, -0.4663422 ,  0.16733038,  0.32414383, -0.30245477],\n",
       "        [-0.3113274 , -0.16580597, -0.38806045, -0.04085365,  0.33987004,\n",
       "         -0.12461397,  0.07515079,  0.31577963, -0.32535455, -0.29774073],\n",
       "        [-0.01730531, -0.14906931,  0.3231318 ,  0.46283716,  0.22469014,\n",
       "          0.15326327, -0.07788306,  0.38471985, -0.2197091 ,  0.46006835],\n",
       "        [-0.03287795, -0.06398511,  0.34459776, -0.3221782 ,  0.1266467 ,\n",
       "         -0.10050371,  0.23095119, -0.19080475,  0.17367607,  0.01834676],\n",
       "        [ 0.05327988, -0.01594776, -0.28994966, -0.15906891,  0.18217427,\n",
       "         -0.16484264, -0.35249487, -0.03799984,  0.16217816,  0.04611766],\n",
       "        [-0.43553385,  0.44686127, -0.18846968,  0.04799592,  0.45813364,\n",
       "          0.3348323 , -0.31412417,  0.01946217,  0.36789674, -0.1869008 ],\n",
       "        [-0.4221497 , -0.05937666, -0.0912976 , -0.06539547,  0.4368053 ,\n",
       "          0.07162684, -0.04176947,  0.01551893,  0.12781346,  0.18636686],\n",
       "        [-0.07184869, -0.22492468,  0.0148378 ,  0.24569207,  0.45076454,\n",
       "          0.47861022, -0.2031627 , -0.10322273,  0.24189878, -0.19825634],\n",
       "        [-0.39399803, -0.12311679,  0.28190535,  0.08853561,  0.46610332,\n",
       "          0.11062795, -0.33178842,  0.02518857,  0.16716594,  0.24136311],\n",
       "        [ 0.00312823,  0.04816186,  0.4123727 , -0.04409918,  0.10742903,\n",
       "         -0.47208142,  0.479353  , -0.30925733,  0.4427547 ,  0.3613298 ],\n",
       "        [ 0.42317748, -0.07324234, -0.19467998,  0.09188879, -0.07952937,\n",
       "         -0.25328663, -0.24739335, -0.05794099,  0.36674613, -0.41126668],\n",
       "        [-0.41605425, -0.19247991,  0.31166524, -0.13653567,  0.1749695 ,\n",
       "         -0.21735674, -0.07070509,  0.28384668, -0.25140095, -0.34472921],\n",
       "        [ 0.16877931, -0.12305346, -0.17016152, -0.43921745, -0.24299794,\n",
       "          0.00712609,  0.47028303, -0.21455571, -0.02294031, -0.3622849 ],\n",
       "        [-0.4056737 ,  0.06785542, -0.04939389,  0.19696546,  0.2524612 ,\n",
       "          0.24919242,  0.21354407,  0.44233894,  0.08887112, -0.10038266]],\n",
       "       dtype=float32)>,\n",
       " <tf.Variable 'dense_7/bias:0' shape=(10,) dtype=float32, numpy=array([0., 0., 0., 0., 0., 0., 0., 0., 0., 0.], dtype=float32)>]"
      ]
     },
     "execution_count": 11,
     "metadata": {},
     "output_type": "execute_result"
    }
   ],
   "source": [
    "model.weights"
   ]
  },
  {
   "cell_type": "code",
   "execution_count": 14,
   "metadata": {
    "colab": {
     "base_uri": "https://localhost:8080/"
    },
    "id": "Vg5Zs55hPqQ9",
    "outputId": "edd4edca-b953-469e-f1bf-8b1f1e8582a5"
   },
   "outputs": [
    {
     "name": "stdout",
     "output_type": "stream",
     "text": [
      "Model: \"sequential_3\"\n",
      "_________________________________________________________________\n",
      "Layer (type)                 Output Shape              Param #   \n",
      "=================================================================\n",
      "flatten_2 (Flatten)          (None, 784)               0         \n",
      "_________________________________________________________________\n",
      "layer_1 (Dense)              (None, 16)                12560     \n",
      "_________________________________________________________________\n",
      "dense_8 (Dense)              (None, 16)                272       \n",
      "_________________________________________________________________\n",
      "dense_9 (Dense)              (None, 10)                170       \n",
      "=================================================================\n",
      "Total params: 13,002\n",
      "Trainable params: 13,002\n",
      "Non-trainable params: 0\n",
      "_________________________________________________________________\n"
     ]
    }
   ],
   "source": [
    "# Print the model summary\n",
    "model.summary()\n"
   ]
  },
  {
   "cell_type": "markdown",
   "metadata": {
    "id": "s-wF6s4GPqQ-"
   },
   "source": [
    "***\n",
    "<a id=\"coding_tutorial_2\"></a>\n",
    "## Convolutional and pooling layers"
   ]
  },
  {
   "cell_type": "code",
   "execution_count": 15,
   "metadata": {
    "id": "bMbFpyjgPqQ-"
   },
   "outputs": [],
   "source": [
    "from tensorflow.keras.models import Sequential\n",
    "from tensorflow.keras.layers import Dense, Flatten, Conv2D, MaxPooling2D"
   ]
  },
  {
   "cell_type": "markdown",
   "metadata": {
    "id": "Rm9skfK_PqQ-"
   },
   "source": [
    "#### Build a convolutional neural network model"
   ]
  },
  {
   "cell_type": "code",
   "execution_count": 60,
   "metadata": {
    "id": "8ztBFl--PqQ-"
   },
   "outputs": [],
   "source": [
    "# Build the Sequential convolutional neural network model\n",
    "model = Sequential([\n",
    "    Conv2D(16, (3,3), activation= 'relu', input_shape = (28,28,1)),\n",
    "    MaxPooling2D((3,3)),\n",
    "    Flatten(),\n",
    "    Dense(10, activation='softmax')\n",
    "])\n"
   ]
  },
  {
   "cell_type": "code",
   "execution_count": 40,
   "metadata": {
    "colab": {
     "base_uri": "https://localhost:8080/"
    },
    "id": "ANDIwIlfPqQ-",
    "outputId": "f7dceb79-6c49-4702-da5e-68eda4ba98aa"
   },
   "outputs": [
    {
     "name": "stdout",
     "output_type": "stream",
     "text": [
      "Model: \"sequential_13\"\n",
      "_________________________________________________________________\n",
      "Layer (type)                 Output Shape              Param #   \n",
      "=================================================================\n",
      "conv2d_12 (Conv2D)           (None, 26, 26, 16)        160       \n",
      "_________________________________________________________________\n",
      "max_pooling2d_12 (MaxPooling (None, 8, 8, 16)          0         \n",
      "_________________________________________________________________\n",
      "flatten_12 (Flatten)         (None, 1024)              0         \n",
      "_________________________________________________________________\n",
      "dense_19 (Dense)             (None, 10)                10250     \n",
      "=================================================================\n",
      "Total params: 10,410\n",
      "Trainable params: 10,410\n",
      "Non-trainable params: 0\n",
      "_________________________________________________________________\n"
     ]
    }
   ],
   "source": [
    "# Print the model summary\n",
    "model.summary()\n"
   ]
  },
  {
   "cell_type": "markdown",
   "metadata": {
    "id": "pjD_FVpfPqQ_"
   },
   "source": [
    "***\n",
    "<a id=\"coding_tutorial_3\"></a>\n",
    "## The compile method"
   ]
  },
  {
   "cell_type": "markdown",
   "metadata": {
    "id": "PmF7NQ0DPqQ_"
   },
   "source": [
    "#### Compile the model"
   ]
  },
  {
   "cell_type": "code",
   "execution_count": 61,
   "metadata": {
    "id": "pVPQFDRZPqQ_"
   },
   "outputs": [],
   "source": [
    "# Define the model optimizer, loss function and metrics\n",
    "opt = tf.keras.optimizers.Adam(learning_rate=0.005)\n",
    "acc = tf.keras.metrics.SparseCategoricalAccuracy()\n",
    "mae = tf.keras.metrics.MeanAbsoluteError()\n",
    "model.compile(optimizer= opt,\n",
    "              loss = 'sparse_categorical_crossentropy',\n",
    "              metrics = [acc, mae])\n"
   ]
  },
  {
   "cell_type": "code",
   "execution_count": 47,
   "metadata": {
    "colab": {
     "base_uri": "https://localhost:8080/",
     "height": 35
    },
    "id": "-y9eCOzHPqQ_",
    "outputId": "8e4e408c-e667-4c5a-c536-47fcff29f4dd"
   },
   "outputs": [
    {
     "data": {
      "application/vnd.google.colaboratory.intrinsic+json": {
       "type": "string"
      },
      "text/plain": [
       "'sparse_categorical_crossentropy'"
      ]
     },
     "execution_count": 47,
     "metadata": {},
     "output_type": "execute_result"
    }
   ],
   "source": [
    "# Print the resulting model attributes\n",
    "model.loss\n"
   ]
  },
  {
   "cell_type": "markdown",
   "metadata": {
    "id": "BDrCQU-5PqQ_"
   },
   "source": [
    "***\n",
    "<a id=\"coding_tutorial_4\"></a>\n",
    "## The fit method"
   ]
  },
  {
   "cell_type": "code",
   "execution_count": 41,
   "metadata": {
    "id": "cmeEiwfaPqRA"
   },
   "outputs": [],
   "source": [
    "from tensorflow.keras.preprocessing import image\n",
    "import matplotlib.pyplot as plt\n",
    "import numpy as np\n",
    "import pandas as pd"
   ]
  },
  {
   "cell_type": "markdown",
   "metadata": {
    "id": "g5p0L7ZFPqRA"
   },
   "source": [
    "#### Load the data"
   ]
  },
  {
   "cell_type": "code",
   "execution_count": 48,
   "metadata": {
    "colab": {
     "base_uri": "https://localhost:8080/"
    },
    "id": "d0_OpV3vPqRA",
    "outputId": "855bcc16-4caf-4781-b841-ebab8dcdbc17"
   },
   "outputs": [
    {
     "name": "stdout",
     "output_type": "stream",
     "text": [
      "Downloading data from https://storage.googleapis.com/tensorflow/tf-keras-datasets/train-labels-idx1-ubyte.gz\n",
      "32768/29515 [=================================] - 0s 0us/step\n",
      "40960/29515 [=========================================] - 0s 0us/step\n",
      "Downloading data from https://storage.googleapis.com/tensorflow/tf-keras-datasets/train-images-idx3-ubyte.gz\n",
      "26427392/26421880 [==============================] - 0s 0us/step\n",
      "26435584/26421880 [==============================] - 0s 0us/step\n",
      "Downloading data from https://storage.googleapis.com/tensorflow/tf-keras-datasets/t10k-labels-idx1-ubyte.gz\n",
      "16384/5148 [===============================================================================================] - 0s 0us/step\n",
      "Downloading data from https://storage.googleapis.com/tensorflow/tf-keras-datasets/t10k-images-idx3-ubyte.gz\n",
      "4423680/4422102 [==============================] - 0s 0us/step\n",
      "4431872/4422102 [==============================] - 0s 0us/step\n"
     ]
    }
   ],
   "source": [
    "# Load the Fashion-MNIST dataset\n",
    "\n",
    "fashion_mnist_data = tf.keras.datasets.fashion_mnist\n",
    "(train_images, train_labels), (test_images, test_labels) = fashion_mnist_data.load_data()"
   ]
  },
  {
   "cell_type": "code",
   "execution_count": 49,
   "metadata": {
    "colab": {
     "base_uri": "https://localhost:8080/"
    },
    "id": "4SQTcgKyPqRA",
    "outputId": "ee3e742d-a1e2-45fe-c0cf-4721e1bb287f"
   },
   "outputs": [
    {
     "data": {
      "text/plain": [
       "(60000, 28, 28)"
      ]
     },
     "execution_count": 49,
     "metadata": {},
     "output_type": "execute_result"
    }
   ],
   "source": [
    "# Print the shape of the training data\n",
    "train_images.shape\n"
   ]
  },
  {
   "cell_type": "code",
   "execution_count": 50,
   "metadata": {
    "id": "fU_5TpPEPqRA"
   },
   "outputs": [],
   "source": [
    "# Define the labels\n",
    "\n",
    "labels = [\n",
    "    'T-shirt/top',\n",
    "    'Trouser',\n",
    "    'Pullover',\n",
    "    'Dress',\n",
    "    'Coat',\n",
    "    'Sandal',\n",
    "    'Shirt',\n",
    "    'Sneaker',\n",
    "    'Bag',\n",
    "    'Ankle boot'\n",
    "]"
   ]
  },
  {
   "cell_type": "code",
   "execution_count": 52,
   "metadata": {
    "id": "QhQyaCZ4PqRB"
   },
   "outputs": [],
   "source": [
    "# Rescale the image values so that they lie in between 0 and 1.\n",
    "train_images = train_images/ 255\n",
    "test_images = test_images / 255\n"
   ]
  },
  {
   "cell_type": "code",
   "execution_count": 56,
   "metadata": {
    "colab": {
     "base_uri": "https://localhost:8080/",
     "height": 282
    },
    "id": "SSejPCMEPqRB",
    "outputId": "e9355122-1d79-4797-89de-530592e0d09e"
   },
   "outputs": [
    {
     "name": "stdout",
     "output_type": "stream",
     "text": [
      "Sandal\n"
     ]
    },
    {
     "data": {
      "image/png": "[encoded data removed]",
      "text/plain": [
       "<Figure size 432x288 with 1 Axes>"
      ]
     },
     "metadata": {
      "needs_background": "light"
     },
     "output_type": "display_data"
    }
   ],
   "source": [
    "# Display one of the images\n",
    "plt.imshow(train_images[12])\n",
    "print(labels[train_labels[12]])"
   ]
  },
  {
   "cell_type": "markdown",
   "metadata": {
    "id": "TqYlstEDPqRB"
   },
   "source": [
    "#### Fit the model"
   ]
  },
  {
   "cell_type": "code",
   "execution_count": 63,
   "metadata": {
    "colab": {
     "base_uri": "https://localhost:8080/"
    },
    "id": "UI35ZUtbPqRB",
    "outputId": "59ad0171-8f25-49a8-edf6-195a49eca0a6"
   },
   "outputs": [
    {
     "name": "stdout",
     "output_type": "stream",
     "text": [
      "Epoch 1/10\n",
      "235/235 [==============================] - 13s 55ms/step - loss: 0.3035 - sparse_categorical_accuracy: 0.8907 - mean_absolute_error: 4.4200\n",
      "Epoch 2/10\n",
      "235/235 [==============================] - 13s 55ms/step - loss: 0.2956 - sparse_categorical_accuracy: 0.8935 - mean_absolute_error: 4.4200\n",
      "Epoch 3/10\n",
      "235/235 [==============================] - 13s 55ms/step - loss: 0.2870 - sparse_categorical_accuracy: 0.8970 - mean_absolute_error: 4.4200\n",
      "Epoch 4/10\n",
      "235/235 [==============================] - 13s 55ms/step - loss: 0.2808 - sparse_categorical_accuracy: 0.8982 - mean_absolute_error: 4.4200\n",
      "Epoch 5/10\n",
      "235/235 [==============================] - 13s 55ms/step - loss: 0.2762 - sparse_categorical_accuracy: 0.9010 - mean_absolute_error: 4.4200\n",
      "Epoch 6/10\n",
      "235/235 [==============================] - 13s 56ms/step - loss: 0.2715 - sparse_categorical_accuracy: 0.9025 - mean_absolute_error: 4.4200\n",
      "Epoch 7/10\n",
      "235/235 [==============================] - 13s 55ms/step - loss: 0.2664 - sparse_categorical_accuracy: 0.9041 - mean_absolute_error: 4.4200\n",
      "Epoch 8/10\n",
      "235/235 [==============================] - 13s 57ms/step - loss: 0.2632 - sparse_categorical_accuracy: 0.9054 - mean_absolute_error: 4.4200\n",
      "Epoch 9/10\n",
      "235/235 [==============================] - 13s 56ms/step - loss: 0.2583 - sparse_categorical_accuracy: 0.9068 - mean_absolute_error: 4.4200\n",
      "Epoch 10/10\n",
      "235/235 [==============================] - 13s 55ms/step - loss: 0.2559 - sparse_categorical_accuracy: 0.9076 - mean_absolute_error: 4.4200\n"
     ]
    }
   ],
   "source": [
    "# Fit the model\n",
    "history = model.fit(train_images[..., np.newaxis], train_labels, epochs = 10, batch_size=256)\n"
   ]
  },
  {
   "cell_type": "markdown",
   "metadata": {
    "id": "PUR5tHrNPqRB"
   },
   "source": [
    "#### Plot training history"
   ]
  },
  {
   "cell_type": "code",
   "execution_count": 65,
   "metadata": {
    "colab": {
     "base_uri": "https://localhost:8080/",
     "height": 359
    },
    "id": "FAeQRZvxPqRB",
    "outputId": "79b59e7b-b921-4a2e-d097-ac5621963f80"
   },
   "outputs": [
    {
     "data": {
      "text/html": [
       "<div>\n",
       "<style scoped>\n",
       "    .dataframe tbody tr th:only-of-type {\n",
       "        vertical-align: middle;\n",
       "    }\n",
       "\n",
       "    .dataframe tbody tr th {\n",
       "        vertical-align: top;\n",
       "    }\n",
       "\n",
       "    .dataframe thead th {\n",
       "        text-align: right;\n",
       "    }\n",
       "</style>\n",
       "<table border=\"1\" class=\"dataframe\">\n",
       "  <thead>\n",
       "    <tr style=\"text-align: right;\">\n",
       "      <th></th>\n",
       "      <th>loss</th>\n",
       "      <th>sparse_categorical_accuracy</th>\n",
       "      <th>mean_absolute_error</th>\n",
       "    </tr>\n",
       "  </thead>\n",
       "  <tbody>\n",
       "    <tr>\n",
       "      <th>0</th>\n",
       "      <td>0.303479</td>\n",
       "      <td>0.890717</td>\n",
       "      <td>4.419997</td>\n",
       "    </tr>\n",
       "    <tr>\n",
       "      <th>1</th>\n",
       "      <td>0.295567</td>\n",
       "      <td>0.893517</td>\n",
       "      <td>4.420000</td>\n",
       "    </tr>\n",
       "    <tr>\n",
       "      <th>2</th>\n",
       "      <td>0.287025</td>\n",
       "      <td>0.896950</td>\n",
       "      <td>4.420000</td>\n",
       "    </tr>\n",
       "    <tr>\n",
       "      <th>3</th>\n",
       "      <td>0.280778</td>\n",
       "      <td>0.898200</td>\n",
       "      <td>4.420001</td>\n",
       "    </tr>\n",
       "    <tr>\n",
       "      <th>4</th>\n",
       "      <td>0.276183</td>\n",
       "      <td>0.901000</td>\n",
       "      <td>4.420001</td>\n",
       "    </tr>\n",
       "    <tr>\n",
       "      <th>5</th>\n",
       "      <td>0.271537</td>\n",
       "      <td>0.902550</td>\n",
       "      <td>4.420000</td>\n",
       "    </tr>\n",
       "    <tr>\n",
       "      <th>6</th>\n",
       "      <td>0.266432</td>\n",
       "      <td>0.904117</td>\n",
       "      <td>4.420000</td>\n",
       "    </tr>\n",
       "    <tr>\n",
       "      <th>7</th>\n",
       "      <td>0.263193</td>\n",
       "      <td>0.905400</td>\n",
       "      <td>4.419999</td>\n",
       "    </tr>\n",
       "    <tr>\n",
       "      <th>8</th>\n",
       "      <td>0.258312</td>\n",
       "      <td>0.906833</td>\n",
       "      <td>4.420001</td>\n",
       "    </tr>\n",
       "    <tr>\n",
       "      <th>9</th>\n",
       "      <td>0.255941</td>\n",
       "      <td>0.907650</td>\n",
       "      <td>4.420001</td>\n",
       "    </tr>\n",
       "  </tbody>\n",
       "</table>\n",
       "</div>"
      ],
      "text/plain": [
       "       loss  sparse_categorical_accuracy  mean_absolute_error\n",
       "0  0.303479                     0.890717             4.419997\n",
       "1  0.295567                     0.893517             4.420000\n",
       "2  0.287025                     0.896950             4.420000\n",
       "3  0.280778                     0.898200             4.420001\n",
       "4  0.276183                     0.901000             4.420001\n",
       "5  0.271537                     0.902550             4.420000\n",
       "6  0.266432                     0.904117             4.420000\n",
       "7  0.263193                     0.905400             4.419999\n",
       "8  0.258312                     0.906833             4.420001\n",
       "9  0.255941                     0.907650             4.420001"
      ]
     },
     "execution_count": 65,
     "metadata": {},
     "output_type": "execute_result"
    }
   ],
   "source": [
    "# Load the history into a pandas Dataframe\n",
    "df = pd.DataFrame(history.history)\n",
    "df"
   ]
  },
  {
   "cell_type": "code",
   "execution_count": 68,
   "metadata": {
    "colab": {
     "base_uri": "https://localhost:8080/",
     "height": 296
    },
    "id": "bFSU_BEoPqRC",
    "outputId": "aec5b4fe-bcc6-4efb-90ea-5ff56093cd41"
   },
   "outputs": [
    {
     "data": {
      "text/plain": [
       "<matplotlib.axes._subplots.AxesSubplot at 0x7fe94730bd10>"
      ]
     },
     "execution_count": 68,
     "metadata": {},
     "output_type": "execute_result"
    },
    {
     "data": {
      "image/png": "[encoded data removed]",
      "text/plain": [
       "<Figure size 432x288 with 1 Axes>"
      ]
     },
     "metadata": {
      "needs_background": "light"
     },
     "output_type": "display_data"
    }
   ],
   "source": [
    "# Make a plot for the loss\n",
    "df.plot(y = 'loss', xlabel = 'Epochs')\n"
   ]
  },
  {
   "cell_type": "code",
   "execution_count": 69,
   "metadata": {
    "colab": {
     "base_uri": "https://localhost:8080/",
     "height": 282
    },
    "id": "DCJkVF67PqRC",
    "outputId": "ee218a8b-82ca-453c-ea5f-80609c755e47"
   },
   "outputs": [
    {
     "data": {
      "text/plain": [
       "<matplotlib.axes._subplots.AxesSubplot at 0x7fe9472037d0>"
      ]
     },
     "execution_count": 69,
     "metadata": {},
     "output_type": "execute_result"
    },
    {
     "data": {
      "image/png": "[encoded data removed]",
      "text/plain": [
       "<Figure size 432x288 with 1 Axes>"
      ]
     },
     "metadata": {
      "needs_background": "light"
     },
     "output_type": "display_data"
    }
   ],
   "source": [
    "# Make a plot for the accuracy\n",
    "df.plot(y = 'sparse_categorical_accuracy')\n"
   ]
  },
  {
   "cell_type": "code",
   "execution_count": 70,
   "metadata": {
    "colab": {
     "base_uri": "https://localhost:8080/",
     "height": 293
    },
    "id": "Rp3DIcjXPqRC",
    "outputId": "a94a4296-bab0-4610-ddd0-6e7c62701187"
   },
   "outputs": [
    {
     "data": {
      "text/plain": [
       "<matplotlib.axes._subplots.AxesSubplot at 0x7fe946fb4b10>"
      ]
     },
     "execution_count": 70,
     "metadata": {},
     "output_type": "execute_result"
    },
    {
     "data": {
      "image/png": "[encoded data removed]",
      "text/plain": [
       "<Figure size 432x288 with 1 Axes>"
      ]
     },
     "metadata": {
      "needs_background": "light"
     },
     "output_type": "display_data"
    }
   ],
   "source": [
    "# Make a plot for the additional metric\n",
    "df.plot(y = 'mean_absolute_error')\n"
   ]
  },
  {
   "cell_type": "markdown",
   "metadata": {
    "id": "BAFRWnM4PqRC"
   },
   "source": [
    "***\n",
    "<a id=\"coding_tutorial_5\"></a>\n",
    "## The evaluate and predict methods"
   ]
  },
  {
   "cell_type": "code",
   "execution_count": 72,
   "metadata": {
    "id": "u5Lgvs2mPqRC"
   },
   "outputs": [],
   "source": [
    "import matplotlib.pyplot as plt\n",
    "import numpy as np"
   ]
  },
  {
   "cell_type": "markdown",
   "metadata": {
    "id": "RHQp2FoXPqRC"
   },
   "source": [
    "#### Evaluate the model on the test set"
   ]
  },
  {
   "cell_type": "code",
   "execution_count": 76,
   "metadata": {
    "colab": {
     "base_uri": "https://localhost:8080/"
    },
    "id": "sn7K_FpCdE5g",
    "outputId": "4c7ea0a2-9107-46ae-aeda-75ea0d106a50"
   },
   "outputs": [
    {
     "data": {
      "text/plain": [
       "(10000, 28, 28, 1)"
      ]
     },
     "execution_count": 76,
     "metadata": {},
     "output_type": "execute_result"
    }
   ],
   "source": [
    "test_images[..., np.newaxis].shape"
   ]
  },
  {
   "cell_type": "code",
   "execution_count": 73,
   "metadata": {
    "colab": {
     "base_uri": "https://localhost:8080/"
    },
    "id": "t6X3Sw5iPqRD",
    "outputId": "28c3e78a-205d-4f9d-94ef-4a09e8bbc86c"
   },
   "outputs": [
    {
     "name": "stdout",
     "output_type": "stream",
     "text": [
      "313/313 [==============================] - 2s 5ms/step - loss: 0.3015 - sparse_categorical_accuracy: 0.8927 - mean_absolute_error: 4.4200\n"
     ]
    },
    {
     "data": {
      "text/plain": [
       "[0.3014564514160156, 0.8927000164985657, 4.419997215270996]"
      ]
     },
     "execution_count": 73,
     "metadata": {},
     "output_type": "execute_result"
    }
   ],
   "source": [
    "# Evaluate the model\n",
    "model.evaluate(test_images[..., np.newaxis], test_labels)\n"
   ]
  },
  {
   "cell_type": "markdown",
   "metadata": {
    "id": "IUdDb7zNPqRD"
   },
   "source": [
    "#### Make predictions from the model"
   ]
  },
  {
   "cell_type": "code",
   "execution_count": 84,
   "metadata": {
    "colab": {
     "base_uri": "https://localhost:8080/",
     "height": 282
    },
    "id": "vwVie-XpPqRD",
    "outputId": "190d6e04-5b55-4783-e214-de81d9484533"
   },
   "outputs": [
    {
     "data": {
      "image/png": "[encoded data removed]",
      "text/plain": [
       "<Figure size 432x288 with 1 Axes>"
      ]
     },
     "metadata": {
      "needs_background": "light"
     },
     "output_type": "display_data"
    },
    {
     "name": "stdout",
     "output_type": "stream",
     "text": [
      "Label: Sandal\n"
     ]
    }
   ],
   "source": [
    "# Choose a random test image\n",
    "\n",
    "random_inx = np.random.choice(test_images.shape[0])\n",
    "\n",
    "test_image = test_images[random_inx]\n",
    "plt.imshow(test_image)\n",
    "plt.show()\n",
    "print(f\"Label: {labels[test_labels[random_inx]]}\")"
   ]
  },
  {
   "cell_type": "code",
   "execution_count": 85,
   "metadata": {
    "colab": {
     "base_uri": "https://localhost:8080/"
    },
    "id": "GpxJedrePqRD",
    "outputId": "aba48350-f495-436c-ffc1-77310444bb3a"
   },
   "outputs": [
    {
     "name": "stdout",
     "output_type": "stream",
     "text": [
      "Sandal\n"
     ]
    }
   ],
   "source": [
    "# Get the model predictions\n",
    "predictions = model.predict(test_image[None, ..., None])\n",
    "print(labels[np.argmax(predictions)])"
   ]
  },
  {
   "cell_type": "code",
   "execution_count": null,
   "metadata": {
    "id": "CfaC_56neEPL"
   },
   "outputs": [],
   "source": []
  }
 ],
 "metadata": {
  "colab": {
   "name": "[EN]_Lab 7-Building a Sequential model.ipynb",
   "provenance": []
  },
  "kernelspec": {
   "display_name": "Python 3",
   "language": "python",
   "name": "python3"
  },
  "language_info": {
   "codemirror_mode": {
    "name": "ipython",
    "version": 3
   },
   "file_extension": ".py",
   "mimetype": "text/x-python",
   "name": "python",
   "nbconvert_exporter": "python",
   "pygments_lexer": "ipython3",
   "version": "3.8.8"
  }
 },
 "nbformat": 4,
 "nbformat_minor": 1
}
